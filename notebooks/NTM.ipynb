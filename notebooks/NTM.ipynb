{
 "cells": [
  {
   "cell_type": "code",
   "execution_count": 1,
   "metadata": {
    "collapsed": false
   },
   "outputs": [],
   "source": [
    "import sys\n",
    "sys.path.append('..')\n",
    "%load_ext autoreload\n",
    "%autoreload 2"
   ]
  },
  {
   "cell_type": "code",
   "execution_count": 2,
   "metadata": {
    "collapsed": false
   },
   "outputs": [],
   "source": [
    "import numpy as np\n",
    "import math\n",
    "import matplotlib.pyplot as plt\n",
    "import random\n",
    "import time\n",
    "import dill as pickle\n",
    "\n",
    "from IPython.display import clear_output\n",
    "\n",
    "import dali.core as D\n",
    "import dali\n",
    "from dali.data import Lines, Process, DiscoverFiles, BatchBenefactor, IdentityReducer\n",
    "from dali.data.batch import TranslationBatch\n",
    "from dali.data.translation import TranslationFiles, TranslationMapper, build_vocabs, iterate_examples\n",
    "from dali.utils.scoring import bleu, ErrorTracker\n",
    "from dali.utils import (\n",
    "    Vocab,\n",
    "    Solver,\n",
    "    median_smoothing,\n",
    "    subsample,\n",
    "    Throttled,\n",
    "    pickle_globals,\n",
    "    unpickle_globals,\n",
    ")\n",
    "from dali import beam_search\n",
    "\n",
    "%matplotlib inline"
   ]
  },
  {
   "cell_type": "code",
   "execution_count": 3,
   "metadata": {
    "collapsed": false
   },
   "outputs": [
    {
     "name": "stdout",
     "output_type": "stream",
     "text": [
      "b'Quadro K2000M'\n"
     ]
    }
   ],
   "source": [
    "GPU_ID = 0\n",
    "D.config.default_device = 'gpu'\n",
    "D.config.default_gpu    = GPU_ID\n",
    "print(D.config.gpu_id_to_name(GPU_ID))"
   ]
  },
  {
   "cell_type": "code",
   "execution_count": 4,
   "metadata": {
    "collapsed": false
   },
   "outputs": [],
   "source": [
    "def generate_example(item_size, num_items, batch_size = 1):\n",
    "    return [ D.Mat(np.random.binomial(1, 0.5, (batch_size, item_size)), dtype=np.float32) for _ in range(num_items) ]\n",
    "\n",
    "def list_norm(xs):\n",
    "    squared_sum = np.sqrt(sum((x.dw ** 2).sum() for x in xs))\n",
    "    return squared_sum\n",
    "\n",
    "\n",
    "def evaluate_copy(model, solver, input_size, max_train_seq_length, batch_size=1, epochs=100000, debug=False):    \n",
    "    empty_input      = D.Mat.zeros((1,input_size), constant=True)\n",
    "    start_prediction = D.Mat.ones((1,input_size), constant=True)\n",
    "    \n",
    "    def test(model, max_train_seq_length):\n",
    "        with D.NoBackprop():\n",
    "            for test_len in [max_train_seq_length // 2, max_train_seq_length, max_train_seq_length * 2]:\n",
    "                print (\"    Testing sequence length %d: \" % (test_len,))\n",
    "\n",
    "                NUM_TRIES = 10\n",
    "\n",
    "                num_bits_correct = 0\n",
    "\n",
    "                for _ in range(NUM_TRIES):\n",
    "                    example = generate_example(input_size, test_len)\n",
    "                    state = model.initial_states()\n",
    "                    for input_vec in example:\n",
    "                        state = model.activate(input_vec, state)\n",
    "\n",
    "                    state = model.activate(start_prediction, state)\n",
    "                    for input_vec in example:\n",
    "                        decoded = np.round(model.decode(state).sigmoid().w)\n",
    "                        num_bits_correct += sum(sum(np.abs(decoded - input_vec.w)))\n",
    "                        state = model.activate(empty_input, state)\n",
    "\n",
    "                        \n",
    "                print('        Cost per sequence: %f (chance: %f)' % (num_bits_correct / NUM_TRIES, \n",
    "                                                                      test_len * input_size / 2))\n",
    "    \n",
    "    params = model.parameters()\n",
    "    \n",
    "    not_too_often = Throttled(1)\n",
    "    test_freqency = Throttled(30)\n",
    "    errors = []\n",
    "    \n",
    "    for epoch in range(epochs):\n",
    "        try:\n",
    "            example = generate_example(input_size, random.randint(1, max_train_seq_length), BATCH_SIZE)\n",
    "            state = model.initial_states()\n",
    "            for input_vec in example:\n",
    "                state = model.activate(input_vec, state)\n",
    "\n",
    "            state = model.activate(start_prediction, state)\n",
    "            error = D.Mat.zeros((1,1), constant=True)\n",
    "            for input_vec in example:\n",
    "                decoded = model.decode(state).sigmoid()\n",
    "                \n",
    "                error = error + ((decoded - input_vec)**2).sum()\n",
    "                state = model.activate(empty_input, state)\n",
    "\n",
    "            (error / BATCH_SIZE).grad()\n",
    "            D.Graph.backward()\n",
    "            solver.step(params)\n",
    "            \n",
    "            errors.append(error.w[0,0] / BATCH_SIZE)\n",
    "            if debug:\n",
    "                return errors\n",
    "            if not_too_often.should_i_run():\n",
    "                recent_error = sum(errors[-20:]) / len(errors[-20:]) \n",
    "                print('Epoch %d (%d processed examples), error: %f' % (epoch, epoch*BATCH_SIZE, recent_error))\n",
    "            if test_freqency.should_i_run():\n",
    "                test()\n",
    "                \n",
    "        except KeyboardInterrupt:\n",
    "            print(\"Early stopping\")\n",
    "            test()\n",
    "            break\n",
    "    return errors\n",
    "    "
   ]
  },
  {
   "cell_type": "code",
   "execution_count": 5,
   "metadata": {
    "collapsed": true
   },
   "outputs": [],
   "source": [
    "class LSTMBaseline(object):\n",
    "    def __init__(self, input_size, hiddens, output_size):\n",
    "        self.lstm    = D.StackedLSTM(input_size, hiddens, memory_feeds_gates=True)\n",
    "        self.decoder = D.Layer(sum(hiddens), output_size)\n",
    "        \n",
    "    def activate(self, input_vec, previous_state):\n",
    "        return self.lstm.activate(input_vec, previous_state)\n",
    "    \n",
    "    def decode(self, state):\n",
    "        return self.decoder.activate(D.MatOps.hstack([s.hidden for s in state]))\n",
    "    \n",
    "    def parameters(self):\n",
    "        return self.lstm.parameters() + self.decoder.parameters()\n",
    "    \n",
    "    def initial_states(self):\n",
    "        return self.lstm.initial_states()"
   ]
  },
  {
   "cell_type": "code",
   "execution_count": 117,
   "metadata": {
    "collapsed": false
   },
   "outputs": [
    {
     "name": "stdout",
     "output_type": "stream",
     "text": [
      "0.000158819\n",
      "0.000107466\n",
      "9.92114e-05\n",
      "0.00146013\n",
      "0.000543073\n",
      "0.00107942\n",
      "0.00128509\n",
      "0.000739692\n",
      "0.00147097\n",
      "0.00169314\n",
      "0.000538607\n",
      "0.00108745\n",
      "0.0315828\n",
      "0.0227761\n",
      "0.0501969\n",
      "3.06952e-05\n",
      "2.92156e-05\n",
      "2.86585e-05\n",
      "0.000278468\n",
      "0.000169457\n",
      "0.00071625\n",
      "0.000279535\n",
      "0.000174368\n",
      "0.000734609\n",
      "0.000251194\n",
      "0.000169471\n",
      "0.000718558\n",
      "0.0186986\n",
      "0.011734\n",
      "0.0497584\n",
      "2.78631e-05\n",
      "2.82543e-05\n",
      "2.81888e-05\n",
      "0.000164214\n",
      "0.000158595\n",
      "0.00070522\n",
      "0.000161291\n",
      "0.000156247\n",
      "0.000691989\n",
      "0.00015985\n",
      "0.00015834\n",
      "0.000693358\n",
      "0.0111377\n",
      "0.0107609\n",
      "0.0478565\n",
      "0.138212\n",
      "0.294717\n",
      "Epoch 0 (0 processed examples), error: 11.992885\n",
      "    Testing sequence length 5: \n",
      "        Cost per sequence: 20.500000 (chance: 20.000000)\n",
      "    Testing sequence length 10: \n",
      "        Cost per sequence: 38.500000 (chance: 40.000000)\n",
      "    Testing sequence length 20: \n",
      "        Cost per sequence: 79.200000 (chance: 80.000000)\n"
     ]
    }
   ],
   "source": [
    "INPUT_SIZE           = 8\n",
    "MAX_TRAIN_SEQ_LENGTH = 10\n",
    "\n",
    "\n",
    "HIDDENS  = [256, 256, 256]\n",
    "BATCH_SIZE  = 20\n",
    "baseline_model = LSTMBaseline(INPUT_SIZE, HIDDENS, INPUT_SIZE)\n",
    "##solver = Solver(\"rmsprop\", learning_rate=0.00003, decay_rate=0.9, smooth_eps=1e-4)\n",
    "solver = Solver(\"rmsprop\", learning_rate=0.0002, decay_rate=0.9, smooth_eps=1e-4, clipval=10.0)\n",
    "\n",
    "errors = evaluate_copy(baseline_model, solver, INPUT_SIZE, MAX_TRAIN_SEQ_LENGTH, batch_size=BATCH_SIZE,\n",
    "                      epochs=1)"
   ]
  },
  {
   "cell_type": "code",
   "execution_count": 53,
   "metadata": {
    "collapsed": true
   },
   "outputs": [],
   "source": [
    "from collections import defaultdict\n",
    "\n",
    "class Capture(object):\n",
    "    instances = set()\n",
    "    \n",
    "    def __init__(self):\n",
    "        self.state = defaultdict(lambda: [])\n",
    "        \n",
    "    @classmethod\n",
    "    def add(cls, name, value):\n",
    "        for instance in cls.instances:\n",
    "            instance.state[name].append(value)\n",
    "    \n",
    "    def __enter__(self):\n",
    "        Capture.instances.add(self)\n",
    "    \n",
    "    def __exit__(self, *args, **kwargs):\n",
    "        Capture.instances.remove(self)"
   ]
  },
  {
   "cell_type": "code",
   "execution_count": 75,
   "metadata": {
    "collapsed": true
   },
   "outputs": [],
   "source": [
    "class MLP(object):\n",
    "    def __init__(self, input_sizes, hiddens):\n",
    "        self.input_sizes = input_sizes\n",
    "        self.hiddens = hiddens\n",
    "        \n",
    "        self.input_layer = D.StackedInputLayer(input_sizes, hiddens[0])\n",
    "        self.layers = [D.Layer(h_from, h_to) for h_from, h_to in zip(hiddens[:-1], hiddens[1:])]\n",
    "        \n",
    "    def activate(self, inputs):\n",
    "        hidden = self.input_layer.activate(inputs)\n",
    "        for l in self.layers:\n",
    "            hidden = l.activate(hidden)\n",
    "        return hidden\n",
    "    \n",
    "    def parameters(self):\n",
    "        ret = self.input_layer.parameters()\n",
    "        for l in self.layers:\n",
    "            ret.extend(l.parameters())\n",
    "        return ret"
   ]
  },
  {
   "cell_type": "code",
   "execution_count": 79,
   "metadata": {
    "collapsed": false
   },
   "outputs": [],
   "source": [
    "def row_by_scalar(a,b):\n",
    "    return D.MatOps.eltmul(a, b, broadcast=True, axis=0)\n",
    "\n",
    "def col_by_scalar(a,b):\n",
    "    return D.MatOps.eltmul(a, b, broadcast=True, axis=1)\n",
    "\n",
    "def consine_similarity(A,B):\n",
    "    # TODO: replace with the normalizer\n",
    "    return (A * B).sum(axis=2)\n",
    "\n",
    "class NTMAddressing(object):\n",
    "    def __init__(self, input_sizes, memory_locations, memory_size):\n",
    "        self.memory_locations = memory_locations\n",
    "        self.content_key          = D.StackedInputLayer(input_sizes, memory_size)\n",
    "        self.content_key_strength = D.StackedInputLayer(input_sizes, 1)\n",
    "        self.interpolation        = D.StackedInputLayer(input_sizes, 1)\n",
    "        self.shift                = D.StackedInputLayer(input_sizes, memory_locations)\n",
    "        self.focus                = D.StackedInputLayer(input_sizes, 1)\n",
    "\n",
    "    def content_addressing_activation(self, key, key_strength, memory):\n",
    "        # cosine distance essentially\n",
    "        key_broadcasted   = D.MatOps.broadcast(key, axis=0, num_replicas=memory.shape[0])\n",
    "        unnormalized_dot  = (key * memory).sum(axis=1)\n",
    "        key_norm          = key_broadcasted.L2_norm(axis=1)\n",
    "        memory_norm       = memory.L2_norm(axis=1)\n",
    "        cosine_similarity = (unnormalized_dot / (key_norm * memory_norm)).T()\n",
    "        presoftmax        = row_by_scalar(cosine_similarity, key_strength)\n",
    "\n",
    "        return D.MatOps.softmax(presoftmax)\n",
    "        \n",
    "    def address(self, inputs, memory, state):\n",
    "        \"\"\"Outputs memory location weights.\n",
    "        \n",
    "        Inputs:\n",
    "        inputs -- set of vectors controlling the mechanism (e.g. LSTM output)\n",
    "        state  -- weights from previous timestep.\n",
    "        \"\"\"\n",
    "        # todo - should memory contents be tanhed?\n",
    "        key                  = self.content_key.activate(inputs).tanh()\n",
    "        key_strength         = self.content_key_strength.activate(inputs).exp()\n",
    "        # todo - make multiplication of similarity (vector) * key strength_scalrar is correctly broadcasted\n",
    "        content_weights      = self.content_addressing_activation(key, key_strength, memory)\n",
    "        interpolation_gate   = self.interpolation.activate(inputs).sigmoid()\n",
    "        interpolated_weights = (row_by_scalar(content_weights, interpolation_gate) +\n",
    "                                row_by_scalar(state,1.0 - interpolation_gate))        \n",
    "        shift                = D.MatOps.softmax(self.shift.activate(inputs))\n",
    "        shifted_weighs       = D.MatOps.circular_convolution(interpolated_weights, shift)\n",
    "        focus                = self.focus.activate(inputs).softplus() + 1.\n",
    "        focused_weights      = shifted_weighs ** focus\n",
    "        # todo - make sure it's correctly broadcasted\n",
    "        sum_focused          = focused_weights.sum(axis=1)\n",
    "        focused_weights      = focused_weights / sum_focused\n",
    "        return focused_weights\n",
    "    \n",
    "    def initial_states(self):\n",
    "        return D.Mat(1, self.memory_locations)\n",
    "    \n",
    "    def parameters(self):\n",
    "        res = []\n",
    "        res.extend(self.content_key.parameters())\n",
    "        res.extend(self.content_key_strength.parameters())\n",
    "        res.extend(self.interpolation.parameters())\n",
    "        res.extend(self.shift.parameters())\n",
    "        res.extend(self.focus.parameters())\n",
    "        return res\n",
    "\n",
    "class NTMReadHead(object):\n",
    "    def __init__(self, input_sizes, memory_locations, memory_size):\n",
    "        self.addressing = NTMAddressing(input_sizes, memory_locations, memory_size)\n",
    "    \n",
    "    def read(self, inputs, memory, state):\n",
    "        weights = self.addressing.address(inputs, memory, state)\n",
    "        Capture.add(\"read_head_weights\", weights)\n",
    "        # todo - make sure it is correctly broadcasted\n",
    "        ret = row_by_scalar(memory, weights.T()).sum(axis=0), weights\n",
    "        Capture.add(\"read_head_content\", ret)\n",
    "        return ret\n",
    "    \n",
    "    def initial_states(self):\n",
    "        return self.addressing.initial_states()\n",
    "    \n",
    "    def parameters(self):\n",
    "        return self.addressing.parameters()\n",
    "\n",
    "\n",
    "class NTMWriteHead(object):\n",
    "    def __init__(self, input_sizes, memory_locations, memory_size):\n",
    "        self.addressing = NTMAddressing(input_sizes, memory_locations, memory_size)\n",
    "        self.content    = D.StackedInputLayer(input_sizes, memory_size)\n",
    "        self.erase      = D.StackedInputLayer(input_sizes, memory_locations)\n",
    "    def write(self, inputs, memory, state):\n",
    "        weights = self.addressing.address(inputs, memory, state)\n",
    "        Capture.add(\"write_head_weights\", weights)\n",
    "\n",
    "        # todo - make sure it is correctly broadcasted\n",
    "        new_content = self.content.activate(inputs)\n",
    "        Capture.add(\"write_head_content\", weights)\n",
    "\n",
    "        erase       = self.erase.activate(inputs).sigmoid()\n",
    "        \n",
    "        memory = row_by_scalar(memory, (1.0 - weights * erase).T())\n",
    "        # todo - make sure it is an outer product\n",
    "        memory = memory + weights.T().dot(new_content)\n",
    "        return memory, weights\n",
    "    \n",
    "    def initial_states(self):\n",
    "        return self.addressing.initial_states()\n",
    "    \n",
    "    def parameters(self):\n",
    "        return self.addressing.parameters()\n",
    "    "
   ]
  },
  {
   "cell_type": "code",
   "execution_count": 77,
   "metadata": {
    "collapsed": false
   },
   "outputs": [],
   "source": [
    "class NTM(object):\n",
    "    def __init__(self, input_size, hiddens, output_size, \n",
    "                 num_read_heads, num_write_heads,\n",
    "                 memory_locations, memory_size,\n",
    "                 controller_type='lstm'):\n",
    "        self.memory_locations = memory_locations\n",
    "        self.memory_size      = memory_size\n",
    "        self.controller_type  = controller_type\n",
    "        \n",
    "        controller_inputs = [input_size] + [memory_size for _ in range(num_read_heads)]\n",
    "        if controller_type   == 'mlp':\n",
    "            self.controller = MLP(controller_inputs, hiddens)\n",
    "            self.controller_output_size = [hiddens[-1]]\n",
    "        elif controller_type == 'lstm':\n",
    "            self.controller = D.StackedLSTM(controller_inputs, hiddens, memory_feeds_gates=True)\n",
    "            self.controller_output_size = hiddens\n",
    "    \n",
    "        self.decoder      = D.StackedInputLayer(self.controller_output_size, output_size)\n",
    "        self.read_heads   = [NTMReadHead (self.controller_output_size, memory_locations, memory_size) \n",
    "                                 for _ in range(num_read_heads) ]\n",
    "        self.write_heads  = [NTMWriteHead(self.controller_output_size, memory_locations, memory_size) \n",
    "                                 for _ in range(num_write_heads)]\n",
    "\n",
    "    def activate(self, input_vec, state):\n",
    "        # read\n",
    "        new_read_heads_state = []\n",
    "        read_from_memory     = []\n",
    "        for head, head_state in zip(self.read_heads, state['read_heads']):\n",
    "            content, new_head_state = head.read(self.extract_hiddens(state['controller']), state['memory'], head_state)\n",
    "            read_from_memory.append(content)\n",
    "            new_read_heads_state.append(new_head_state)\n",
    "        # activate\n",
    "        if self.controller_type   == 'mlp':\n",
    "            new_controller_state = self.controller.activate([input_vec] + read_from_memory)\n",
    "        elif self.controller_type == 'lstm':\n",
    "            new_controller_state = self.controller.activate([input_vec] + read_from_memory, state['controller'])\n",
    "\n",
    "        # write\n",
    "        new_memory = state['memory']\n",
    "        new_write_heads_state = []\n",
    "        for head, head_state in zip(self.write_heads, state['write_heads']):\n",
    "            new_memory, new_head_state = head.write(self.extract_hiddens(new_controller_state), new_memory, head_state)\n",
    "            new_write_heads_state.append(new_head_state)\n",
    "        # collect results\n",
    "        new_state = {\n",
    "            'read_heads'           : new_read_heads_state,\n",
    "            'write_heads'          : new_write_heads_state,\n",
    "            'memory'               : new_memory,\n",
    "            'controller'           : new_controller_state\n",
    "        }\n",
    "        if self.controller_type == 'lstm':\n",
    "            ,\n",
    "\n",
    "        return new_state\n",
    "    \n",
    "    def decode(self, state):\n",
    "        return self.decoder.activate(self.extract_hiddens(state['controller']))\n",
    "        \n",
    "    def parameters(self):\n",
    "        res = []\n",
    "        res.extend(self.controller.parameters())\n",
    "        res.extend(self.decoder.parameters())\n",
    "        for head in self.read_heads:\n",
    "            res.extend(head.parameters())\n",
    "        for head in self.write_heads:\n",
    "            res.extend(head.parameters())\n",
    "        return res\n",
    "    \n",
    "    def extract_hiddens(self, state):\n",
    "        if self.controller_type   == 'mlp':\n",
    "            return [state]\n",
    "        elif self.controller_type == 'lstm':\n",
    "            return [s.hidden for s in state]\n",
    "    \n",
    "    def initial_states(self):\n",
    "        with D.NoBackprop():\n",
    "            memory_init = D.MatOps.softmax(D.random.uniform(0.1, -0.1, (self.memory_locations, self.memory_size)))\n",
    "        \n",
    "        ret = {\n",
    "            'read_heads':            [head.initial_states() for head in self.read_heads],\n",
    "            'write_heads':           [head.initial_states() for head in self.write_heads],\n",
    "            'memory':                memory_init,            \n",
    "        }\n",
    "        if self.controller_type   == 'mlp':\n",
    "            ret['controller'] = D.Mat.zeros((1, self.controller_output_size[0]))\n",
    "        elif self.controller_type == 'lstm':\n",
    "            ret['controller'] = self.controller.initial_states()\n",
    "        \n",
    "        return ret"
   ]
  },
  {
   "cell_type": "code",
   "execution_count": null,
   "metadata": {
    "collapsed": false
   },
   "outputs": [],
   "source": [
    "INPUT_SIZE           = 8\n",
    "MAX_TRAIN_SEQ_LENGTH = 10\n",
    "\n",
    "\n",
    "HIDDENS          = [50,50,100]\n",
    "BATCH_SIZE       = 1\n",
    "MEMORY_LOCATIONS = 128\n",
    "MEMORY_SIZE      = 20\n",
    "ntm_model = NTM(input_size=INPUT_SIZE,\n",
    "                hiddens=HIDDENS,\n",
    "                output_size=INPUT_SIZE,\n",
    "                num_read_heads=1,\n",
    "                num_write_heads=1,\n",
    "                memory_locations=MEMORY_LOCATIONS,\n",
    "                memory_size=MEMORY_SIZE,\n",
    "                controller_type='mlp')\n"
   ]
  },
  {
   "cell_type": "code",
   "execution_count": 88,
   "metadata": {
    "collapsed": false
   },
   "outputs": [
    {
     "name": "stdout",
     "output_type": "stream",
     "text": [
      "Warning ignoring grad update due to NaNs.\n",
      "Epoch 0 (0 processed examples), error: 9.688776\n",
      "    Testing sequence length 5: \n",
      "        Cost per sequence: 14.800000 (chance: 20.000000)\n",
      "    Testing sequence length 10: \n",
      "        Cost per sequence: 30.200000 (chance: 40.000000)\n",
      "    Testing sequence length 20: \n",
      "        Cost per sequence: 74.000000 (chance: 80.000000)\n",
      "Warning ignoring grad update due to NaNs.\n",
      "Epoch 1 (1 processed examples), error: 9.308786\n",
      "Warning ignoring grad update due to NaNs.\n",
      "Epoch 26 (26 processed examples), error: 9.256272\n",
      "Warning ignoring grad update due to NaNs.\n",
      "Epoch 46 (46 processed examples), error: 11.911333\n",
      "Warning ignoring grad update due to NaNs.\n",
      "Epoch 65 (65 processed examples), error: 11.834987\n",
      "Warning ignoring grad update due to NaNs.\n",
      "Epoch 88 (88 processed examples), error: 9.494521\n",
      "Warning ignoring grad update due to NaNs.\n",
      "Epoch 111 (111 processed examples), error: 9.547022\n",
      "Warning ignoring grad update due to NaNs.\n",
      "Epoch 134 (134 processed examples), error: 11.057458\n",
      "Warning ignoring grad update due to NaNs.\n",
      "Epoch 157 (157 processed examples), error: 8.459579\n",
      "Warning ignoring grad update due to NaNs.\n",
      "Epoch 182 (182 processed examples), error: 10.045863\n",
      "Warning ignoring grad update due to NaNs.\n",
      "Epoch 206 (206 processed examples), error: 9.814338\n",
      "Warning ignoring grad update due to NaNs.\n",
      "Epoch 229 (229 processed examples), error: 10.279715\n",
      "Warning ignoring grad update due to NaNs.\n",
      "Epoch 250 (250 processed examples), error: 11.545048\n",
      "Warning ignoring grad update due to NaNs.\n",
      "Epoch 270 (270 processed examples), error: 10.586708\n",
      "Warning ignoring grad update due to NaNs.\n",
      "Epoch 296 (296 processed examples), error: 8.774101\n",
      "Warning ignoring grad update due to NaNs.\n",
      "Epoch 317 (317 processed examples), error: 11.135113\n",
      "Warning ignoring grad update due to NaNs.\n",
      "Epoch 339 (339 processed examples), error: 9.781341\n",
      "Warning ignoring grad update due to NaNs.\n",
      "Epoch 363 (363 processed examples), error: 8.919576\n",
      "Warning ignoring grad update due to NaNs.\n",
      "Epoch 384 (384 processed examples), error: 11.181881\n",
      "Warning ignoring grad update due to NaNs.\n",
      "Epoch 405 (405 processed examples), error: 9.742495\n",
      "Warning ignoring grad update due to NaNs.\n",
      "Epoch 428 (428 processed examples), error: 10.318221\n",
      "Warning ignoring grad update due to NaNs.\n",
      "Epoch 447 (447 processed examples), error: 11.064160\n",
      "Warning ignoring grad update due to NaNs.\n",
      "Epoch 474 (474 processed examples), error: 7.714235\n",
      "Warning ignoring grad update due to NaNs.\n",
      "Epoch 497 (497 processed examples), error: 9.058900\n",
      "Warning ignoring grad update due to NaNs.\n",
      "Epoch 520 (520 processed examples), error: 10.074514\n",
      "Warning ignoring grad update due to NaNs.\n",
      "Epoch 541 (541 processed examples), error: 8.957944\n",
      "Warning ignoring grad update due to NaNs.\n",
      "Epoch 562 (562 processed examples), error: 10.062032\n",
      "Warning ignoring grad update due to NaNs.\n",
      "Epoch 584 (584 processed examples), error: 8.329395\n",
      "Warning ignoring grad update due to NaNs.\n",
      "Epoch 603 (603 processed examples), error: 11.718393\n",
      "Warning ignoring grad update due to NaNs.\n",
      "    Testing sequence length 5: \n",
      "        Cost per sequence: 13.300000 (chance: 20.000000)\n",
      "    Testing sequence length 10: \n",
      "        Cost per sequence: 29.900000 (chance: 40.000000)\n",
      "    Testing sequence length 20: \n",
      "        Cost per sequence: 75.100000 (chance: 80.000000)\n",
      "Warning ignoring grad update due to NaNs.\n",
      "Epoch 623 (623 processed examples), error: 9.234693\n",
      "Warning ignoring grad update due to NaNs.\n",
      "Epoch 648 (648 processed examples), error: 8.582122\n",
      "Warning ignoring grad update due to NaNs.\n",
      "Epoch 669 (669 processed examples), error: 11.046087\n",
      "Warning ignoring grad update due to NaNs.\n",
      "Epoch 692 (692 processed examples), error: 9.574699\n",
      "Warning ignoring grad update due to NaNs.\n",
      "Epoch 714 (714 processed examples), error: 10.273807\n",
      "Warning ignoring grad update due to NaNs.\n",
      "Epoch 740 (740 processed examples), error: 9.070967\n",
      "Warning ignoring grad update due to NaNs.\n",
      "Epoch 761 (761 processed examples), error: 11.334828\n",
      "Warning ignoring grad update due to NaNs.\n",
      "Epoch 781 (781 processed examples), error: 11.447492\n",
      "Warning ignoring grad update due to NaNs.\n",
      "Epoch 803 (803 processed examples), error: 9.609602\n",
      "Warning ignoring grad update due to NaNs.\n",
      "Epoch 824 (824 processed examples), error: 10.488503\n",
      "Warning ignoring grad update due to NaNs.\n",
      "Epoch 848 (848 processed examples), error: 9.486702\n",
      "Warning ignoring grad update due to NaNs.\n",
      "Epoch 870 (870 processed examples), error: 10.199045\n",
      "Warning ignoring grad update due to NaNs.\n",
      "Epoch 893 (893 processed examples), error: 9.685190\n",
      "Warning ignoring grad update due to NaNs.\n",
      "Epoch 918 (918 processed examples), error: 7.481552\n",
      "Warning ignoring grad update due to NaNs.\n",
      "Epoch 941 (941 processed examples), error: 8.879690\n",
      "Early stopping\n",
      "    Testing sequence length 5: \n",
      "        Cost per sequence: 13.500000 (chance: 20.000000)\n",
      "    Testing sequence length 10: \n",
      "        Cost per sequence: 30.300000 (chance: 40.000000)\n",
      "    Testing sequence length 20: \n",
      "        Cost per sequence: 72.600000 (chance: 80.000000)\n"
     ]
    }
   ],
   "source": [
    "#solver = Solver(\"rmsprop\", learning_rate=0.00003, decay_rate=0.9, smooth_eps=1e-4)\n",
    "solver = Solver(\"rmsprop\", learning_rate=1e-4, decay_rate=0.9, smooth_eps=1e-4, clipval=10.0)\n",
    "\n",
    "errors = evaluate_copy(ntm_model, solver, INPUT_SIZE, MAX_TRAIN_SEQ_LENGTH, batch_size=BATCH_SIZE,\n",
    "                      epochs=100990, debug=False)"
   ]
  },
  {
   "cell_type": "code",
   "execution_count": 107,
   "metadata": {
    "collapsed": false
   },
   "outputs": [
    {
     "name": "stdout",
     "output_type": "stream",
     "text": [
      "At tstep 0 READ: 0.088, WRITE: 0.088\n",
      "At tstep 1 READ: 0.088, WRITE: 0.088\n",
      "At tstep 2 READ: 0.088, WRITE: 0.088\n",
      "At tstep 3 READ: 0.088, WRITE: 0.088\n",
      "At tstep 4 READ: 0.088, WRITE: 0.088\n",
      "At tstep 5 READ: 0.088, WRITE: 0.088\n",
      "At tstep 6 READ: 0.088, WRITE: 0.088\n",
      "At tstep 7 READ: 0.088, WRITE: 0.088\n",
      "At tstep 8 READ: 0.088, WRITE: 0.088\n",
      "At tstep 9 READ: 0.088, WRITE: 0.088\n",
      "At tstep 10 READ: 0.088, WRITE: 0.088\n",
      "At tstep 11 READ: 0.088, WRITE: 0.088\n",
      "At tstep 12 READ: 0.088, WRITE: 0.088\n",
      "At tstep 13 READ: 0.088, WRITE: 0.088\n",
      "At tstep 14 READ: 0.088, WRITE: 0.088\n",
      "At tstep 15 READ: 0.088, WRITE: 0.088\n",
      "At tstep 16 READ: 0.088, WRITE: 0.088\n",
      "At tstep 17 READ: 0.088, WRITE: 0.088\n",
      "At tstep 18 READ: 0.088, WRITE: 0.088\n",
      "At tstep 19 READ: 0.088, WRITE: 0.088\n",
      "At tstep 20 READ: 0.088, WRITE: 0.088\n"
     ]
    },
    {
     "data": {
      "text/plain": [
       "<matplotlib.figure.Figure at 0x7f02c8dcfdd8>"
      ]
     },
     "metadata": {},
     "output_type": "display_data"
    },
    {
     "data": {
      "image/png": "[encoded data removed]",
      "text/plain": [
       "<matplotlib.figure.Figure at 0x7f02c8e814a8>"
      ]
     },
     "metadata": {},
     "output_type": "display_data"
    },
    {
     "data": {
      "text/plain": [
       "<matplotlib.figure.Figure at 0x7f02c8b635f8>"
      ]
     },
     "metadata": {},
     "output_type": "display_data"
    },
    {
     "data": {
      "image/png": "[encoded data removed]",
      "text/plain": [
       "<matplotlib.figure.Figure at 0x7f02c8a87b38>"
      ]
     },
     "metadata": {},
     "output_type": "display_data"
    }
   ],
   "source": [
    "def combine_access(accesses):\n",
    "    num_accesses = len(accesses)\n",
    "    assert(num_accesses > 0)\n",
    "    mem_locations = accesses[0].shape[1]\n",
    "    res = np.zeros((num_accesses, mem_locations))\n",
    "    norms = []\n",
    "    for idx, access in enumerate(accesses):\n",
    "        assert(access.shape == (1, mem_locations))\n",
    "        res[idx] = access.w[0]\n",
    "        norms.append(np.linalg.norm(access.w[0]))\n",
    "    return res, norms\n",
    "\n",
    "def inspect(model):\n",
    "    empty_input      = D.Mat.zeros((1,INPUT_SIZE), constant=True)\n",
    "    start_prediction = D.Mat.ones((1,INPUT_SIZE), constant=True)\n",
    "    c = Capture()\n",
    "    with D.NoBackprop():\n",
    "        with c:\n",
    "            example = generate_example(INPUT_SIZE, MAX_TRAIN_SEQ_LENGTH)\n",
    "            state = model.initial_states()\n",
    "            for input_vec in example:\n",
    "                state = model.activate(input_vec, state)\n",
    "\n",
    "            state = model.activate(start_prediction, state)\n",
    "            for input_vec in example:\n",
    "                decoded = np.round(model.decode(state).sigmoid().w)\n",
    "                state = model.activate(empty_input, state)\n",
    "    reads, read_norms  = combine_access(c.state[\"read_head_weights\"])\n",
    "    writes, write_norms = combine_access(c.state[\"write_head_weights\"])\n",
    "\n",
    "    plt.figure()\n",
    "    r = plt.matshow(reads)\n",
    "    plt.title(\"Read locations\")\n",
    "    plt.colorbar(r)\n",
    "    \n",
    "    plt.figure()\n",
    "    w = plt.matshow(writes)\n",
    "    plt.title(\"Write locations\")\n",
    "    plt.colorbar(w)\n",
    "    \n",
    "    for idx, (read_n, write_n) in enumerate(zip(read_norms, write_norms)):\n",
    "        print(\"At tstep %d READ: %.3f, WRITE: %.3f\" % (idx, read_n, write_n))\n",
    "\n",
    "inspect(ntm_model)"
   ]
  },
  {
   "cell_type": "code",
   "execution_count": 63,
   "metadata": {
    "collapsed": false
   },
   "outputs": [
    {
     "data": {
      "text/plain": [
       "(1, 128)"
      ]
     },
     "execution_count": 63,
     "metadata": {},
     "output_type": "execute_result"
    }
   ],
   "source": [
    "c.state[\"read_head\"][1].shape"
   ]
  },
  {
   "cell_type": "code",
   "execution_count": 80,
   "metadata": {
    "collapsed": false
   },
   "outputs": [],
   "source": [
    "ntm_model.__class__ = NTM\n",
    "for h in ntm_model.read_heads:\n",
    "    h.__class__ = NTMReadHead\n",
    "for h in ntm_model.write_heads:\n",
    "    h.__class__ = NTMWriteHead"
   ]
  },
  {
   "cell_type": "code",
   "execution_count": 47,
   "metadata": {
    "collapsed": false
   },
   "outputs": [],
   "source": [
    "ntm_model.write_heads[0].__class__ = NTMWriteHead"
   ]
  },
  {
   "cell_type": "code",
   "execution_count": 4,
   "metadata": {
    "collapsed": false
   },
   "outputs": [],
   "source": [
    "A = D.Mat([[1,1,1],[2,2,2]])\n",
    "B = D.Mat([[1,2,3]])"
   ]
  },
  {
   "cell_type": "code",
   "execution_count": 5,
   "metadata": {
    "collapsed": false
   },
   "outputs": [
    {
     "name": "stdout",
     "output_type": "stream",
     "text": [
      "[[ 1.  1.  1.]\n",
      " [ 2.  2.  2.]]\n",
      "[[ 1.  2.  3.]]\n"
     ]
    },
    {
     "data": {
      "text/plain": [
       "[\n",
       "    [  1.000   0.500   0.333]\n",
       "    [  2.000   1.000   0.667]\n",
       "]"
      ]
     },
     "execution_count": 5,
     "metadata": {},
     "output_type": "execute_result"
    }
   ],
   "source": [
    "print(A.w)\n",
    "print(B.w)\n",
    "A/ D.MatOps.broadcast(B, axis=0, num_replicas=2)"
   ]
  },
  {
   "cell_type": "code",
   "execution_count": 6,
   "metadata": {
    "collapsed": false
   },
   "outputs": [
    {
     "data": {
      "text/plain": [
       "array([ 1.5,  1.5,  1.5], dtype=float32)"
      ]
     },
     "execution_count": 6,
     "metadata": {},
     "output_type": "execute_result"
    }
   ],
   "source": [
    "A.w.mean(axis=0)"
   ]
  },
  {
   "cell_type": "code",
   "execution_count": 13,
   "metadata": {
    "collapsed": false
   },
   "outputs": [
    {
     "data": {
      "text/plain": [
       "[\n",
       "    [  0.000   1.313   1.313]\n",
       "    [  2.127   2.127   2.127]\n",
       "]"
      ]
     },
     "execution_count": 13,
     "metadata": {},
     "output_type": "execute_result"
    }
   ],
   "source": [
    "A.softplus()"
   ]
  },
  {
   "cell_type": "code",
   "execution_count": 12,
   "metadata": {
    "collapsed": false
   },
   "outputs": [],
   "source": [
    "A = D.Mat([1,2,3])"
   ]
  },
  {
   "cell_type": "code",
   "execution_count": 15,
   "metadata": {
    "collapsed": false
   },
   "outputs": [
    {
     "ename": "RuntimeError",
     "evalue": "Matrices cannot be element-wise multiplied, they do not have the same dimensions.",
     "output_type": "error",
     "traceback": [
      "\u001b[1;31m---------------------------------------------------------------------------\u001b[0m",
      "\u001b[1;31mRuntimeError\u001b[0m                              Traceback (most recent call last)",
      "\u001b[1;32m<ipython-input-15-76ae143ff4ab>\u001b[0m in \u001b[0;36m<module>\u001b[1;34m()\u001b[0m\n\u001b[1;32m----> 1\u001b[1;33m \u001b[0mD\u001b[0m\u001b[1;33m.\u001b[0m\u001b[0mMat\u001b[0m\u001b[1;33m(\u001b[0m\u001b[1;33m[\u001b[0m\u001b[1;36m1\u001b[0m\u001b[1;33m,\u001b[0m\u001b[1;36m2\u001b[0m\u001b[1;33m,\u001b[0m\u001b[1;36m3\u001b[0m\u001b[1;33m]\u001b[0m\u001b[1;33m)\u001b[0m \u001b[1;33m*\u001b[0m \u001b[0mD\u001b[0m\u001b[1;33m.\u001b[0m\u001b[0mMat\u001b[0m\u001b[1;33m(\u001b[0m\u001b[1;33m[\u001b[0m\u001b[1;36m2\u001b[0m\u001b[1;33m]\u001b[0m\u001b[1;33m)\u001b[0m\u001b[1;33m\u001b[0m\u001b[0m\n\u001b[0m",
      "\u001b[1;32m/home/sidor/projects/less_important/dali-cython-stub/dali/core/tensor/Mat.pyx\u001b[0m in \u001b[0;36mdali.core.Mat.__mul__ (dali/core.cpp:15089)\u001b[1;34m()\u001b[0m\n\u001b[0;32m    699\u001b[0m                     \u001b[1;32mreturn\u001b[0m \u001b[0mWrapMat_int\u001b[0m\u001b[1;33m(\u001b[0m\u001b[1;33m(\u001b[0m\u001b[1;33m<\u001b[0m\u001b[0mCMat\u001b[0m\u001b[1;33m[\u001b[0m\u001b[0mint\u001b[0m\u001b[1;33m]\u001b[0m\u001b[1;33m*\u001b[0m\u001b[1;33m>\u001b[0m\u001b[1;33m(\u001b[0m\u001b[1;33m(\u001b[0m\u001b[1;33m<\u001b[0m\u001b[0mMat\u001b[0m\u001b[1;33m>\u001b[0m\u001b[1;33m(\u001b[0m\u001b[0mself\u001b[0m\u001b[1;33m)\u001b[0m\u001b[1;33m)\u001b[0m\u001b[1;33m.\u001b[0m\u001b[0mmatinternal\u001b[0m\u001b[1;33m)\u001b[0m\u001b[1;33m)\u001b[0m\u001b[1;33m[\u001b[0m\u001b[1;36m0\u001b[0m\u001b[1;33m]\u001b[0m\u001b[1;33m.\u001b[0m\u001b[0moperator_times\u001b[0m\u001b[1;33m(\u001b[0m \u001b[1;33m(\u001b[0m\u001b[1;33m<\u001b[0m\u001b[0mCMat\u001b[0m\u001b[1;33m[\u001b[0m\u001b[0mint\u001b[0m\u001b[1;33m]\u001b[0m\u001b[1;33m*\u001b[0m\u001b[1;33m>\u001b[0m\u001b[1;33m(\u001b[0m\u001b[1;33m(\u001b[0m\u001b[1;33m<\u001b[0m\u001b[0mMat\u001b[0m\u001b[1;33m>\u001b[0m\u001b[1;33m(\u001b[0m\u001b[0mother\u001b[0m\u001b[1;33m)\u001b[0m\u001b[1;33m)\u001b[0m\u001b[1;33m.\u001b[0m\u001b[0mmatinternal\u001b[0m\u001b[1;33m)\u001b[0m\u001b[1;33m)\u001b[0m\u001b[1;33m[\u001b[0m\u001b[1;36m0\u001b[0m\u001b[1;33m]\u001b[0m \u001b[1;33m)\u001b[0m\u001b[1;33m)\u001b[0m\u001b[1;33m\u001b[0m\u001b[0m\n\u001b[0;32m    700\u001b[0m                 \u001b[1;32melif\u001b[0m \u001b[1;33m(\u001b[0m\u001b[1;33m<\u001b[0m\u001b[0mMat\u001b[0m\u001b[1;33m>\u001b[0m\u001b[0mself\u001b[0m\u001b[1;33m)\u001b[0m\u001b[1;33m.\u001b[0m\u001b[0mdtypeinternal\u001b[0m \u001b[1;33m==\u001b[0m \u001b[0mnp\u001b[0m\u001b[1;33m.\u001b[0m\u001b[0mNPY_FLOAT32\u001b[0m\u001b[1;33m:\u001b[0m\u001b[1;33m\u001b[0m\u001b[0m\n\u001b[1;32m--> 701\u001b[1;33m                     \u001b[1;32mreturn\u001b[0m \u001b[0mWrapMat_float\u001b[0m\u001b[1;33m(\u001b[0m\u001b[1;33m(\u001b[0m\u001b[1;33m<\u001b[0m\u001b[0mCMat\u001b[0m\u001b[1;33m[\u001b[0m\u001b[0mfloat\u001b[0m\u001b[1;33m]\u001b[0m\u001b[1;33m*\u001b[0m\u001b[1;33m>\u001b[0m\u001b[1;33m(\u001b[0m\u001b[1;33m(\u001b[0m\u001b[1;33m<\u001b[0m\u001b[0mMat\u001b[0m\u001b[1;33m>\u001b[0m\u001b[1;33m(\u001b[0m\u001b[0mself\u001b[0m\u001b[1;33m)\u001b[0m\u001b[1;33m)\u001b[0m\u001b[1;33m.\u001b[0m\u001b[0mmatinternal\u001b[0m\u001b[1;33m)\u001b[0m\u001b[1;33m)\u001b[0m\u001b[1;33m[\u001b[0m\u001b[1;36m0\u001b[0m\u001b[1;33m]\u001b[0m\u001b[1;33m.\u001b[0m\u001b[0moperator_times\u001b[0m\u001b[1;33m(\u001b[0m \u001b[1;33m(\u001b[0m\u001b[1;33m<\u001b[0m\u001b[0mCMat\u001b[0m\u001b[1;33m[\u001b[0m\u001b[0mfloat\u001b[0m\u001b[1;33m]\u001b[0m\u001b[1;33m*\u001b[0m\u001b[1;33m>\u001b[0m\u001b[1;33m(\u001b[0m\u001b[1;33m(\u001b[0m\u001b[1;33m<\u001b[0m\u001b[0mMat\u001b[0m\u001b[1;33m>\u001b[0m\u001b[1;33m(\u001b[0m\u001b[0mother\u001b[0m\u001b[1;33m)\u001b[0m\u001b[1;33m)\u001b[0m\u001b[1;33m.\u001b[0m\u001b[0mmatinternal\u001b[0m\u001b[1;33m)\u001b[0m\u001b[1;33m)\u001b[0m\u001b[1;33m[\u001b[0m\u001b[1;36m0\u001b[0m\u001b[1;33m]\u001b[0m \u001b[1;33m)\u001b[0m\u001b[1;33m)\u001b[0m\u001b[1;33m\u001b[0m\u001b[0m\n\u001b[0m\u001b[0;32m    702\u001b[0m                 \u001b[1;32melif\u001b[0m \u001b[1;33m(\u001b[0m\u001b[1;33m<\u001b[0m\u001b[0mMat\u001b[0m\u001b[1;33m>\u001b[0m\u001b[0mself\u001b[0m\u001b[1;33m)\u001b[0m\u001b[1;33m.\u001b[0m\u001b[0mdtypeinternal\u001b[0m \u001b[1;33m==\u001b[0m \u001b[0mnp\u001b[0m\u001b[1;33m.\u001b[0m\u001b[0mNPY_FLOAT64\u001b[0m\u001b[1;33m:\u001b[0m\u001b[1;33m\u001b[0m\u001b[0m\n\u001b[0;32m    703\u001b[0m                     \u001b[1;32mreturn\u001b[0m \u001b[0mWrapMat_double\u001b[0m\u001b[1;33m(\u001b[0m\u001b[1;33m(\u001b[0m\u001b[1;33m<\u001b[0m\u001b[0mCMat\u001b[0m\u001b[1;33m[\u001b[0m\u001b[0mdouble\u001b[0m\u001b[1;33m]\u001b[0m\u001b[1;33m*\u001b[0m\u001b[1;33m>\u001b[0m\u001b[1;33m(\u001b[0m\u001b[1;33m(\u001b[0m\u001b[1;33m<\u001b[0m\u001b[0mMat\u001b[0m\u001b[1;33m>\u001b[0m\u001b[1;33m(\u001b[0m\u001b[0mself\u001b[0m\u001b[1;33m)\u001b[0m\u001b[1;33m)\u001b[0m\u001b[1;33m.\u001b[0m\u001b[0mmatinternal\u001b[0m\u001b[1;33m)\u001b[0m\u001b[1;33m)\u001b[0m\u001b[1;33m[\u001b[0m\u001b[1;36m0\u001b[0m\u001b[1;33m]\u001b[0m\u001b[1;33m.\u001b[0m\u001b[0moperator_times\u001b[0m\u001b[1;33m(\u001b[0m \u001b[1;33m(\u001b[0m\u001b[1;33m<\u001b[0m\u001b[0mCMat\u001b[0m\u001b[1;33m[\u001b[0m\u001b[0mdouble\u001b[0m\u001b[1;33m]\u001b[0m\u001b[1;33m*\u001b[0m\u001b[1;33m>\u001b[0m\u001b[1;33m(\u001b[0m\u001b[1;33m(\u001b[0m\u001b[1;33m<\u001b[0m\u001b[0mMat\u001b[0m\u001b[1;33m>\u001b[0m\u001b[1;33m(\u001b[0m\u001b[0mother\u001b[0m\u001b[1;33m)\u001b[0m\u001b[1;33m)\u001b[0m\u001b[1;33m.\u001b[0m\u001b[0mmatinternal\u001b[0m\u001b[1;33m)\u001b[0m\u001b[1;33m)\u001b[0m\u001b[1;33m[\u001b[0m\u001b[1;36m0\u001b[0m\u001b[1;33m]\u001b[0m \u001b[1;33m)\u001b[0m\u001b[1;33m)\u001b[0m\u001b[1;33m\u001b[0m\u001b[0m\n",
      "\u001b[1;31mRuntimeError\u001b[0m: Matrices cannot be element-wise multiplied, they do not have the same dimensions."
     ]
    }
   ],
   "source": [
    "D.Mat([1,2,3]) * D.Mat([2])"
   ]
  },
  {
   "cell_type": "code",
   "execution_count": 44,
   "metadata": {
    "collapsed": false
   },
   "outputs": [],
   "source": [
    "x = D.random.uniform(-1,1, (1,1)).sum(0)"
   ]
  },
  {
   "cell_type": "code",
   "execution_count": 46,
   "metadata": {
    "collapsed": false
   },
   "outputs": [
    {
     "data": {
      "text/plain": [
       "[\n",
       "    [ -0.206]\n",
       "    [ -0.206]\n",
       "    [ -0.206]\n",
       "    [ -0.206]\n",
       "    [ -0.206]\n",
       "    [ -0.206]\n",
       "    [ -0.206]\n",
       "    [ -0.206]\n",
       "    [ -0.206]\n",
       "    [ -0.206]\n",
       "    [ -0.206]\n",
       "    [ -0.206]\n",
       "    [ -0.206]\n",
       "    [ -0.206]\n",
       "    [ -0.206]\n",
       "    [ -0.206]\n",
       "    [ -0.206]\n",
       "    [ -0.206]\n",
       "    [ -0.206]\n",
       "    [ -0.206]\n",
       "]"
      ]
     },
     "execution_count": 46,
     "metadata": {},
     "output_type": "execute_result"
    }
   ],
   "source": [
    "D.MatOps.broadcast(x, axis=0, num_replicas=20)"
   ]
  },
  {
   "cell_type": "code",
   "execution_count": 47,
   "metadata": {
    "collapsed": true
   },
   "outputs": [],
   "source": [
    "x = D.random.uniform(-1,1, (1,2))\n",
    "y = D.random.uniform(-1,1, (1,3))"
   ]
  },
  {
   "cell_type": "code",
   "execution_count": 48,
   "metadata": {
    "collapsed": false
   },
   "outputs": [
    {
     "data": {
      "text/plain": [
       "[\n",
       "    [  0.405  -0.503]\n",
       "]"
      ]
     },
     "execution_count": 48,
     "metadata": {},
     "output_type": "execute_result"
    }
   ],
   "source": [
    "x"
   ]
  },
  {
   "cell_type": "code",
   "execution_count": 49,
   "metadata": {
    "collapsed": false
   },
   "outputs": [
    {
     "data": {
      "text/plain": [
       "[\n",
       "    [ -0.485   0.607   0.684]\n",
       "]"
      ]
     },
     "execution_count": 49,
     "metadata": {},
     "output_type": "execute_result"
    }
   ],
   "source": [
    "y"
   ]
  },
  {
   "cell_type": "code",
   "execution_count": 54,
   "metadata": {
    "collapsed": false
   },
   "outputs": [
    {
     "data": {
      "text/plain": [
       "[\n",
       "    [ -0.196   0.244]\n",
       "    [  0.246  -0.305]\n",
       "    [  0.277  -0.344]\n",
       "]"
      ]
     },
     "execution_count": 54,
     "metadata": {},
     "output_type": "execute_result"
    }
   ],
   "source": []
  },
  {
   "cell_type": "code",
   "execution_count": 51,
   "metadata": {
    "collapsed": false
   },
   "outputs": [
    {
     "ename": "RuntimeError",
     "evalue": "matrix product dimensions misaligned.",
     "output_type": "error",
     "traceback": [
      "\u001b[1;31m---------------------------------------------------------------------------\u001b[0m",
      "\u001b[1;31mRuntimeError\u001b[0m                              Traceback (most recent call last)",
      "\u001b[1;32m<ipython-input-51-5a672ad87881>\u001b[0m in \u001b[0;36m<module>\u001b[1;34m()\u001b[0m\n\u001b[1;32m----> 1\u001b[1;33m \u001b[0my\u001b[0m\u001b[1;33m.\u001b[0m\u001b[0mdot\u001b[0m\u001b[1;33m(\u001b[0m\u001b[0mx\u001b[0m\u001b[1;33m)\u001b[0m\u001b[1;33m\u001b[0m\u001b[0m\n\u001b[0m",
      "\u001b[1;32m/home/sidor/projects/less_important/dali-cython-stub/dali/core/tensor/Mat.pyx\u001b[0m in \u001b[0;36mdali.core.Mat.dot (dali/core.cpp:16657)\u001b[1;34m()\u001b[0m\n\u001b[0;32m    792\u001b[0m             \u001b[1;32mreturn\u001b[0m \u001b[0mWrapMat_int\u001b[0m\u001b[1;33m(\u001b[0m\u001b[1;33m(\u001b[0m\u001b[1;33m<\u001b[0m\u001b[0mCMat\u001b[0m\u001b[1;33m[\u001b[0m\u001b[0mint\u001b[0m\u001b[1;33m]\u001b[0m\u001b[1;33m*\u001b[0m\u001b[1;33m>\u001b[0m\u001b[1;33m(\u001b[0m\u001b[1;33m(\u001b[0m\u001b[1;33m<\u001b[0m\u001b[0mMat\u001b[0m\u001b[1;33m>\u001b[0m\u001b[1;33m(\u001b[0m\u001b[0mself\u001b[0m\u001b[1;33m)\u001b[0m\u001b[1;33m)\u001b[0m\u001b[1;33m.\u001b[0m\u001b[0mmatinternal\u001b[0m\u001b[1;33m)\u001b[0m\u001b[1;33m)\u001b[0m\u001b[1;33m[\u001b[0m\u001b[1;36m0\u001b[0m\u001b[1;33m]\u001b[0m\u001b[1;33m.\u001b[0m\u001b[0mdot\u001b[0m\u001b[1;33m(\u001b[0m\u001b[1;33m(\u001b[0m\u001b[1;33m<\u001b[0m\u001b[0mCMat\u001b[0m\u001b[1;33m[\u001b[0m\u001b[0mint\u001b[0m\u001b[1;33m]\u001b[0m\u001b[1;33m*\u001b[0m\u001b[1;33m>\u001b[0m\u001b[1;33m(\u001b[0m\u001b[1;33m(\u001b[0m\u001b[1;33m<\u001b[0m\u001b[0mMat\u001b[0m\u001b[1;33m>\u001b[0m\u001b[1;33m(\u001b[0m\u001b[0mother\u001b[0m\u001b[1;33m)\u001b[0m\u001b[1;33m)\u001b[0m\u001b[1;33m.\u001b[0m\u001b[0mmatinternal\u001b[0m\u001b[1;33m)\u001b[0m\u001b[1;33m)\u001b[0m\u001b[1;33m[\u001b[0m\u001b[1;36m0\u001b[0m\u001b[1;33m]\u001b[0m\u001b[1;33m)\u001b[0m\u001b[1;33m)\u001b[0m\u001b[1;33m\u001b[0m\u001b[0m\n\u001b[0;32m    793\u001b[0m         \u001b[1;32melif\u001b[0m \u001b[1;33m(\u001b[0m\u001b[0mself\u001b[0m\u001b[1;33m)\u001b[0m\u001b[1;33m.\u001b[0m\u001b[0mdtypeinternal\u001b[0m \u001b[1;33m==\u001b[0m \u001b[0mnp\u001b[0m\u001b[1;33m.\u001b[0m\u001b[0mNPY_FLOAT32\u001b[0m\u001b[1;33m:\u001b[0m\u001b[1;33m\u001b[0m\u001b[0m\n\u001b[1;32m--> 794\u001b[1;33m             \u001b[1;32mreturn\u001b[0m \u001b[0mWrapMat_float\u001b[0m\u001b[1;33m(\u001b[0m\u001b[1;33m(\u001b[0m\u001b[1;33m<\u001b[0m\u001b[0mCMat\u001b[0m\u001b[1;33m[\u001b[0m\u001b[0mfloat\u001b[0m\u001b[1;33m]\u001b[0m\u001b[1;33m*\u001b[0m\u001b[1;33m>\u001b[0m\u001b[1;33m(\u001b[0m\u001b[1;33m(\u001b[0m\u001b[1;33m<\u001b[0m\u001b[0mMat\u001b[0m\u001b[1;33m>\u001b[0m\u001b[1;33m(\u001b[0m\u001b[0mself\u001b[0m\u001b[1;33m)\u001b[0m\u001b[1;33m)\u001b[0m\u001b[1;33m.\u001b[0m\u001b[0mmatinternal\u001b[0m\u001b[1;33m)\u001b[0m\u001b[1;33m)\u001b[0m\u001b[1;33m[\u001b[0m\u001b[1;36m0\u001b[0m\u001b[1;33m]\u001b[0m\u001b[1;33m.\u001b[0m\u001b[0mdot\u001b[0m\u001b[1;33m(\u001b[0m\u001b[1;33m(\u001b[0m\u001b[1;33m<\u001b[0m\u001b[0mCMat\u001b[0m\u001b[1;33m[\u001b[0m\u001b[0mfloat\u001b[0m\u001b[1;33m]\u001b[0m\u001b[1;33m*\u001b[0m\u001b[1;33m>\u001b[0m\u001b[1;33m(\u001b[0m\u001b[1;33m(\u001b[0m\u001b[1;33m<\u001b[0m\u001b[0mMat\u001b[0m\u001b[1;33m>\u001b[0m\u001b[1;33m(\u001b[0m\u001b[0mother\u001b[0m\u001b[1;33m)\u001b[0m\u001b[1;33m)\u001b[0m\u001b[1;33m.\u001b[0m\u001b[0mmatinternal\u001b[0m\u001b[1;33m)\u001b[0m\u001b[1;33m)\u001b[0m\u001b[1;33m[\u001b[0m\u001b[1;36m0\u001b[0m\u001b[1;33m]\u001b[0m\u001b[1;33m)\u001b[0m\u001b[1;33m)\u001b[0m\u001b[1;33m\u001b[0m\u001b[0m\n\u001b[0m\u001b[0;32m    795\u001b[0m         \u001b[1;32melif\u001b[0m \u001b[1;33m(\u001b[0m\u001b[0mself\u001b[0m\u001b[1;33m)\u001b[0m\u001b[1;33m.\u001b[0m\u001b[0mdtypeinternal\u001b[0m \u001b[1;33m==\u001b[0m \u001b[0mnp\u001b[0m\u001b[1;33m.\u001b[0m\u001b[0mNPY_FLOAT64\u001b[0m\u001b[1;33m:\u001b[0m\u001b[1;33m\u001b[0m\u001b[0m\n\u001b[0;32m    796\u001b[0m             \u001b[1;32mreturn\u001b[0m \u001b[0mWrapMat_double\u001b[0m\u001b[1;33m(\u001b[0m\u001b[1;33m(\u001b[0m\u001b[1;33m<\u001b[0m\u001b[0mCMat\u001b[0m\u001b[1;33m[\u001b[0m\u001b[0mdouble\u001b[0m\u001b[1;33m]\u001b[0m\u001b[1;33m*\u001b[0m\u001b[1;33m>\u001b[0m\u001b[1;33m(\u001b[0m\u001b[1;33m(\u001b[0m\u001b[1;33m<\u001b[0m\u001b[0mMat\u001b[0m\u001b[1;33m>\u001b[0m\u001b[1;33m(\u001b[0m\u001b[0mself\u001b[0m\u001b[1;33m)\u001b[0m\u001b[1;33m)\u001b[0m\u001b[1;33m.\u001b[0m\u001b[0mmatinternal\u001b[0m\u001b[1;33m)\u001b[0m\u001b[1;33m)\u001b[0m\u001b[1;33m[\u001b[0m\u001b[1;36m0\u001b[0m\u001b[1;33m]\u001b[0m\u001b[1;33m.\u001b[0m\u001b[0mdot\u001b[0m\u001b[1;33m(\u001b[0m\u001b[1;33m(\u001b[0m\u001b[1;33m<\u001b[0m\u001b[0mCMat\u001b[0m\u001b[1;33m[\u001b[0m\u001b[0mdouble\u001b[0m\u001b[1;33m]\u001b[0m\u001b[1;33m*\u001b[0m\u001b[1;33m>\u001b[0m\u001b[1;33m(\u001b[0m\u001b[1;33m(\u001b[0m\u001b[1;33m<\u001b[0m\u001b[0mMat\u001b[0m\u001b[1;33m>\u001b[0m\u001b[1;33m(\u001b[0m\u001b[0mother\u001b[0m\u001b[1;33m)\u001b[0m\u001b[1;33m)\u001b[0m\u001b[1;33m.\u001b[0m\u001b[0mmatinternal\u001b[0m\u001b[1;33m)\u001b[0m\u001b[1;33m)\u001b[0m\u001b[1;33m[\u001b[0m\u001b[1;36m0\u001b[0m\u001b[1;33m]\u001b[0m\u001b[1;33m)\u001b[0m\u001b[1;33m)\u001b[0m\u001b[1;33m\u001b[0m\u001b[0m\n",
      "\u001b[1;31mRuntimeError\u001b[0m: matrix product dimensions misaligned."
     ]
    }
   ],
   "source": [
    "y.dot(x)"
   ]
  },
  {
   "cell_type": "code",
   "execution_count": 99,
   "metadata": {
    "collapsed": false
   },
   "outputs": [
    {
     "data": {
      "image/png": "[encoded data removed]",
      "text/plain": [
       "<matplotlib.figure.Figure at 0x7f02c945bd30>"
      ]
     },
     "metadata": {},
     "output_type": "display_data"
    }
   ],
   "source": [
    "ax = plt.subplots(2,2)"
   ]
  },
  {
   "cell_type": "code",
   "execution_count": 100,
   "metadata": {
    "collapsed": false
   },
   "outputs": [
    {
     "data": {
      "text/plain": [
       "(<matplotlib.figure.Figure at 0x7f02c945bd30>,\n",
       " array([[<matplotlib.axes.AxesSubplot object at 0x7f02c9600588>,\n",
       "         <matplotlib.axes.AxesSubplot object at 0x7f02c95e0860>],\n",
       "        [<matplotlib.axes.AxesSubplot object at 0x7f02c9384358>,\n",
       "         <matplotlib.axes.AxesSubplot object at 0x7f02c9474668>]], dtype=object))"
      ]
     },
     "execution_count": 100,
     "metadata": {},
     "output_type": "execute_result"
    }
   ],
   "source": [
    "ax"
   ]
  },
  {
   "cell_type": "code",
   "execution_count": null,
   "metadata": {
    "collapsed": true
   },
   "outputs": [],
   "source": []
  }
 ],
 "metadata": {
  "kernelspec": {
   "display_name": "Python 3",
   "language": "python",
   "name": "python3"
  },
  "language_info": {
   "codemirror_mode": {
    "name": "ipython",
    "version": 3
   },
   "file_extension": ".py",
   "mimetype": "text/x-python",
   "name": "python",
   "nbconvert_exporter": "python",
   "pygments_lexer": "ipython3",
   "version": "3.4.1"
  }
 },
 "nbformat": 4,
 "nbformat_minor": 0
}
