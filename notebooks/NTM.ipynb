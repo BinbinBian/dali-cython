{
 "cells": [
  {
   "cell_type": "code",
   "execution_count": 1,
   "metadata": {
    "collapsed": false
   },
   "outputs": [],
   "source": [
    "import sys\n",
    "sys.path.append('..')\n",
    "%load_ext autoreload\n",
    "%autoreload 2"
   ]
  },
  {
   "cell_type": "code",
   "execution_count": 2,
   "metadata": {
    "collapsed": false
   },
   "outputs": [],
   "source": [
    "import numpy as np\n",
    "import math\n",
    "import matplotlib.pyplot as plt\n",
    "import random\n",
    "import time\n",
    "import dill as pickle\n",
    "\n",
    "from IPython.display import clear_output\n",
    "\n",
    "import dali.core as D\n",
    "import dali\n",
    "from dali.data import Lines, Process, DiscoverFiles, BatchBenefactor, IdentityReducer\n",
    "from dali.data.batch import TranslationBatch\n",
    "from dali.data.translation import TranslationFiles, TranslationMapper, build_vocabs, iterate_examples\n",
    "from dali.utils.scoring import bleu, ErrorTracker\n",
    "from dali.utils import (\n",
    "    Vocab,\n",
    "    Solver,\n",
    "    median_smoothing,\n",
    "    subsample,\n",
    "    Throttled,\n",
    "    pickle_globals,\n",
    "    unpickle_globals,\n",
    ")\n",
    "from dali import beam_search\n",
    "\n",
    "%matplotlib inline"
   ]
  },
  {
   "cell_type": "code",
   "execution_count": 3,
   "metadata": {
    "collapsed": false
   },
   "outputs": [
    {
     "name": "stdout",
     "output_type": "stream",
     "text": [
      "b'Quadro K2000M'\n"
     ]
    }
   ],
   "source": [
    "GPU_ID = 0\n",
    "D.config.default_device = 'gpu'\n",
    "D.config.default_gpu    = GPU_ID\n",
    "print(D.config.gpu_id_to_name(GPU_ID))"
   ]
  },
  {
   "cell_type": "code",
   "execution_count": 4,
   "metadata": {
    "collapsed": false
   },
   "outputs": [
    {
     "name": "stdout",
     "output_type": "stream",
     "text": [
      "x.cells[0].input_layer.matrices[0]\n",
      "x.cells[0].input_layer.matrices[1]\n",
      "x.cells[0].input_layer.matrices[2]\n",
      "x.cells[0].input_layer.b\n",
      "x.cells[0].forget_layer.matrices[0]\n",
      "x.cells[0].forget_layer.matrices[1]\n",
      "x.cells[0].forget_layer.matrices[2]\n",
      "x.cells[0].forget_layer.b\n",
      "x.cells[0].output_layer.matrices[0]\n",
      "x.cells[0].output_layer.matrices[1]\n",
      "x.cells[0].output_layer.matrices[2]\n",
      "x.cells[0].output_layer.b\n",
      "x.cells[0].cell_layer.matrices[0]\n",
      "x.cells[0].cell_layer.matrices[1]\n",
      "x.cells[0].cell_layer.matrices[2]\n",
      "x.cells[0].cell_layer.b\n",
      "x.cells[1].input_layer.matrices[0]\n",
      "x.cells[1].input_layer.matrices[1]\n",
      "x.cells[1].input_layer.b\n",
      "x.cells[1].forget_layer.matrices[0]\n",
      "x.cells[1].forget_layer.matrices[1]\n",
      "x.cells[1].forget_layer.b\n",
      "x.cells[1].output_layer.matrices[0]\n",
      "x.cells[1].output_layer.matrices[1]\n",
      "x.cells[1].output_layer.b\n",
      "x.cells[1].cell_layer.matrices[0]\n",
      "x.cells[1].cell_layer.matrices[1]\n",
      "x.cells[1].cell_layer.b\n"
     ]
    }
   ],
   "source": [
    "x = D.StackedLSTM([2,3],[5,2])\n",
    "x.name_parameters(\"x\")\n",
    "for param in x.parameters():\n",
    "    print(param.name)"
   ]
  },
  {
   "cell_type": "code",
   "execution_count": 4,
   "metadata": {
    "collapsed": false
   },
   "outputs": [],
   "source": [
    "def generate_example(item_size, num_items, batch_size = 1):\n",
    "    return [ D.Mat(np.random.binomial(1, 0.5, (batch_size, item_size)), dtype=np.float32) for _ in range(num_items) ]\n",
    "\n",
    "def list_norm(xs):\n",
    "    squared_sum = np.sqrt(sum((x.dw ** 2).sum() for x in xs))\n",
    "    return squared_sum\n",
    "\n",
    "\n",
    "def evaluate_copy(model, solver, input_size, max_train_seq_length, batch_size=1,\n",
    "                  epochs=100000, curriculum_epochs=None, debug=False):    \n",
    "    start_prediction = D.Mat.ones((1,input_size), constant=True)\n",
    "    \n",
    "    def test(model, max_train_seq_length):\n",
    "        with D.NoBackprop():\n",
    "            for test_len in [max_train_seq_length // 2, max_train_seq_length, max_train_seq_length * 2]:\n",
    "                print (\"    Testing sequence length %d: \" % (test_len,))\n",
    "\n",
    "                NUM_TRIES = 10\n",
    "\n",
    "                num_bits_correct = 0\n",
    "\n",
    "                for _ in range(NUM_TRIES):\n",
    "                    example = generate_example(input_size, test_len)\n",
    "                    state = model.initial_states()\n",
    "                    for input_vec in example:\n",
    "                        state = model.activate(input_vec, state)\n",
    "\n",
    "                    state = model.activate(start_prediction, state)\n",
    "                    for input_vec in example:\n",
    "                        decoded = np.round(model.decode(state).sigmoid().w)\n",
    "                        num_bits_correct += sum(sum(np.abs(decoded - input_vec.w)))\n",
    "                        state = model.activate(start_prediction, state)\n",
    "\n",
    "                        \n",
    "                print('        Cost per sequence: %f (chance: %f)' % (num_bits_correct / NUM_TRIES, \n",
    "                                                                      test_len * input_size / 2))\n",
    "    \n",
    "    \n",
    "    not_too_often = Throttled(1)\n",
    "    test_freqency = Throttled(30)\n",
    "    errors = []\n",
    "\n",
    "    for epoch in range(epochs):\n",
    "        try:\n",
    "            if curriculum_epochs is not None:\n",
    "                max_len = int(max_train_seq_length * (epoch / curriculum_epochs)) + 1\n",
    "                max_len = max(1, min(max_train_seq_length, max_len))\n",
    "            else:\n",
    "                max_len = max_train_seq_length\n",
    "            example = generate_example(input_size, random.randint(1, max_len), BATCH_SIZE)\n",
    "            state = model.initial_states()\n",
    "            for input_vec in example:\n",
    "                state = model.activate(input_vec, state)\n",
    "\n",
    "            state = model.activate(start_prediction, state)\n",
    "            error = D.Mat.zeros((1,1), constant=True)\n",
    "            for input_idx, input_vec in enumerate(example):\n",
    "                decoded = model.decode(state)\n",
    "                error = error + D.MatOps.sigmoid_binary_cross_entropy(decoded, input_vec).sum()\n",
    "                #error = error + ((decoded.sigmoid() - input_vec)**2).sum()\n",
    "                if input_idx + 1 != len(example):\n",
    "                    state = model.activate(start_prediction, state)\n",
    "\n",
    "            (error / BATCH_SIZE).grad()\n",
    "            D.Graph.backward()\n",
    "            solver.step()\n",
    "            \n",
    "            errors.append(error.w[0,0] / BATCH_SIZE)\n",
    "            if debug:\n",
    "                return errors\n",
    "            if not_too_often.should_i_run():\n",
    "                recent_error = np.median(errors[-100:])\n",
    "                print('Epoch %d (%d processed examples, curriculum: %d), error: %f' % (epoch, \n",
    "                                                                                       epoch*BATCH_SIZE,\n",
    "                                                                                       max_len,\n",
    "                                                                                       recent_error))\n",
    "            if test_freqency.should_i_run():\n",
    "                test(model, max_train_seq_length)\n",
    "            if solver.base.solver_type == 'adagrad' and epoch % 1000 == 0:\n",
    "                solver.reset_caches()\n",
    "            \n",
    "        except KeyboardInterrupt:\n",
    "            print(\"Early stopping\")\n",
    "            test(model, max_train_seq_length)\n",
    "            break\n",
    "    test(model, max_train_seq_length)\n",
    "    return errors\n",
    "    "
   ]
  },
  {
   "cell_type": "code",
   "execution_count": 5,
   "metadata": {
    "collapsed": true
   },
   "outputs": [],
   "source": [
    "class LSTMBaseline(object):\n",
    "    def __init__(self, input_size, hiddens, output_size):\n",
    "        self.lstm    = D.StackedLSTM(input_size, hiddens)\n",
    "        self.decoder = D.Layer(sum(hiddens), output_size)\n",
    "        \n",
    "    def activate(self, input_vec, previous_state):\n",
    "        return self.lstm.activate(input_vec, previous_state)\n",
    "    \n",
    "    def decode(self, state):\n",
    "        return self.decoder.activate(D.MatOps.hstack([s.hidden for s in state]))\n",
    "    \n",
    "    def parameters(self):\n",
    "        return self.lstm.parameters() + self.decoder.parameters()\n",
    "    \n",
    "    def initial_states(self):\n",
    "        return self.lstm.initial_states()"
   ]
  },
  {
   "cell_type": "code",
   "execution_count": 6,
   "metadata": {
    "collapsed": false
   },
   "outputs": [
    {
     "name": "stdout",
     "output_type": "stream",
     "text": [
      "Epoch 0 (0 processed examples, curriculum: 1), error: 2.772408\n",
      "    Testing sequence length 2: \n",
      "        Cost per sequence: 3.700000 (chance: 4.000000)\n",
      "    Testing sequence length 5: \n",
      "        Cost per sequence: 8.800000 (chance: 10.000000)\n",
      "    Testing sequence length 10: \n",
      "        Cost per sequence: 19.100000 (chance: 20.000000)\n",
      "Epoch 1 (20 processed examples, curriculum: 1), error: 2.770235\n",
      "Early stopping\n",
      "    Testing sequence length 2: \n",
      "        Cost per sequence: 3.700000 (chance: 4.000000)\n",
      "    Testing sequence length 5: \n",
      "        Cost per sequence: 10.100000 (chance: 10.000000)\n",
      "    Testing sequence length 10: \n",
      "        Cost per sequence: 19.100000 (chance: 20.000000)\n",
      "    Testing sequence length 2: \n",
      "        Cost per sequence: 3.800000 (chance: 4.000000)\n",
      "    Testing sequence length 5: \n",
      "        Cost per sequence: 10.500000 (chance: 10.000000)\n",
      "    Testing sequence length 10: \n",
      "        Cost per sequence: 19.300000 (chance: 20.000000)\n"
     ]
    }
   ],
   "source": [
    "INPUT_SIZE           = 4\n",
    "MAX_TRAIN_SEQ_LENGTH = 5\n",
    "\n",
    "\n",
    "HIDDENS  = [256, 256, 256]\n",
    "BATCH_SIZE  = 20\n",
    "baseline_model = LSTMBaseline(INPUT_SIZE, HIDDENS, INPUT_SIZE)\n",
    "##solver = Solver(\"rmsprop\", learning_rate=0.00003, decay_rate=0.9, smooth_eps=1e-4)\n",
    "solver = Solver(baseline_model.parameters(), \"rmsprop\", learning_rate=0.0001, decay_rate=0.9, smooth_eps=1e-4, clipval=10.0)\n",
    "\n",
    "errors = evaluate_copy(baseline_model, solver, INPUT_SIZE, MAX_TRAIN_SEQ_LENGTH, batch_size=BATCH_SIZE,\n",
    "                      epochs=10000, curriculum_epochs=5000)"
   ]
  },
  {
   "cell_type": "code",
   "execution_count": 175,
   "metadata": {
    "collapsed": true
   },
   "outputs": [],
   "source": [
    "class GRUBaseline(object):\n",
    "    def __init__(self, input_size, hidden, output_size):\n",
    "        self.seq    = D.GRU(input_size, hidden)\n",
    "        self.decoder = D.Layer(hidden, output_size)\n",
    "        \n",
    "    def activate(self, input_vec, previous_state):\n",
    "        return self.seq.activate(input_vec, previous_state)\n",
    "    \n",
    "    def decode(self, state):\n",
    "        return self.decoder.activate(state)\n",
    "    \n",
    "    def parameters(self):\n",
    "        return self.seq.parameters() + self.decoder.parameters()\n",
    "    \n",
    "    def initial_states(self):\n",
    "        return self.seq.initial_states()"
   ]
  },
  {
   "cell_type": "code",
   "execution_count": 176,
   "metadata": {
    "collapsed": false
   },
   "outputs": [
    {
     "name": "stdout",
     "output_type": "stream",
     "text": [
      "Epoch 0 (0 processed examples, curriculum: 1), error: 1.007807\n",
      "    Testing sequence length 2: \n",
      "        Cost per sequence: 3.900000 (chance: 4.000000)\n",
      "    Testing sequence length 5: \n",
      "        Cost per sequence: 8.600000 (chance: 10.000000)\n",
      "    Testing sequence length 10: \n",
      "        Cost per sequence: 20.400000 (chance: 20.000000)\n",
      "Epoch 141 (2820 processed examples, curriculum: 1), error: 1.006281\n",
      "Epoch 327 (6540 processed examples, curriculum: 1), error: 0.999587\n",
      "Epoch 513 (10260 processed examples, curriculum: 1), error: 0.983540\n",
      "Epoch 698 (13960 processed examples, curriculum: 1), error: 0.952478\n",
      "Epoch 883 (17660 processed examples, curriculum: 1), error: 0.909743\n",
      "Epoch 1055 (21100 processed examples, curriculum: 2), error: 0.864641\n",
      "Epoch 1198 (23960 processed examples, curriculum: 2), error: 0.892634\n",
      "Epoch 1337 (26740 processed examples, curriculum: 2), error: 0.900058\n",
      "Epoch 1484 (29680 processed examples, curriculum: 2), error: 0.855162\n",
      "Epoch 1628 (32560 processed examples, curriculum: 2), error: 0.876122\n",
      "Epoch 1770 (35400 processed examples, curriculum: 2), error: 0.870549\n",
      "Epoch 1910 (38200 processed examples, curriculum: 2), error: 0.881265\n",
      "Epoch 2039 (40780 processed examples, curriculum: 3), error: 0.837259\n",
      "Epoch 2155 (43100 processed examples, curriculum: 3), error: 0.865655\n",
      "Epoch 2265 (45300 processed examples, curriculum: 3), error: 0.822387\n",
      "Epoch 2377 (47540 processed examples, curriculum: 3), error: 0.781270\n",
      "Epoch 2493 (49860 processed examples, curriculum: 3), error: 0.896521\n",
      "Epoch 2607 (52140 processed examples, curriculum: 3), error: 0.918313\n",
      "Epoch 2713 (54260 processed examples, curriculum: 3), error: 0.966033\n",
      "Epoch 2824 (56480 processed examples, curriculum: 3), error: 1.084609\n",
      "Epoch 2937 (58740 processed examples, curriculum: 3), error: 1.189178\n",
      "Epoch 3044 (60880 processed examples, curriculum: 4), error: 1.370431\n",
      "Epoch 3135 (62700 processed examples, curriculum: 4), error: 1.451816\n",
      "Epoch 3238 (64760 processed examples, curriculum: 4), error: 1.547736\n",
      "Epoch 3338 (66760 processed examples, curriculum: 4), error: 1.736140\n",
      "Epoch 3438 (68760 processed examples, curriculum: 4), error: 1.907993\n",
      "Epoch 3534 (70680 processed examples, curriculum: 4), error: 1.973196\n",
      "Epoch 3631 (72620 processed examples, curriculum: 4), error: 2.107588\n",
      "Epoch 3733 (74660 processed examples, curriculum: 4), error: 2.069136\n",
      "    Testing sequence length 2: \n",
      "        Cost per sequence: 1.500000 (chance: 4.000000)\n",
      "    Testing sequence length 5: \n",
      "        Cost per sequence: 9.000000 (chance: 10.000000)\n",
      "    Testing sequence length 10: \n",
      "        Cost per sequence: 19.300000 (chance: 20.000000)\n",
      "Epoch 3811 (76220 processed examples, curriculum: 4), error: 1.965709\n",
      "Epoch 3905 (78100 processed examples, curriculum: 4), error: 2.093093\n",
      "Epoch 4001 (80020 processed examples, curriculum: 5), error: 2.197829\n",
      "Epoch 4081 (81620 processed examples, curriculum: 5), error: 2.308477\n",
      "Epoch 4166 (83320 processed examples, curriculum: 5), error: 2.477029\n",
      "Epoch 4253 (85060 processed examples, curriculum: 5), error: 2.630740\n",
      "Epoch 4333 (86660 processed examples, curriculum: 5), error: 2.706822\n",
      "Epoch 4411 (88220 processed examples, curriculum: 5), error: 2.842612\n",
      "Epoch 4490 (89800 processed examples, curriculum: 5), error: 2.820822\n",
      "Epoch 4575 (91500 processed examples, curriculum: 5), error: 2.964960\n",
      "Epoch 4656 (93120 processed examples, curriculum: 5), error: 3.101658\n",
      "Epoch 4730 (94600 processed examples, curriculum: 5), error: 3.146535\n",
      "Epoch 4809 (96180 processed examples, curriculum: 5), error: 3.271729\n",
      "Epoch 4887 (97740 processed examples, curriculum: 5), error: 3.179016\n",
      "Epoch 4970 (99400 processed examples, curriculum: 5), error: 3.145066\n",
      "Epoch 5054 (101080 processed examples, curriculum: 5), error: 3.259116\n",
      "Epoch 5140 (102800 processed examples, curriculum: 5), error: 3.227135\n",
      "Epoch 5224 (104480 processed examples, curriculum: 5), error: 3.331628\n",
      "Epoch 5311 (106220 processed examples, curriculum: 5), error: 3.348537\n",
      "Epoch 5387 (107740 processed examples, curriculum: 5), error: 3.181329\n",
      "Epoch 5464 (109280 processed examples, curriculum: 5), error: 3.285903\n",
      "Epoch 5537 (110740 processed examples, curriculum: 5), error: 3.230394\n",
      "Epoch 5624 (112480 processed examples, curriculum: 5), error: 3.191896\n",
      "Epoch 5705 (114100 processed examples, curriculum: 5), error: 3.074115\n",
      "Epoch 5795 (115900 processed examples, curriculum: 5), error: 2.920653\n",
      "Epoch 5876 (117520 processed examples, curriculum: 5), error: 3.028009\n",
      "Epoch 5957 (119140 processed examples, curriculum: 5), error: 3.042806\n",
      "Epoch 6039 (120780 processed examples, curriculum: 5), error: 2.890799\n",
      "Epoch 6121 (122420 processed examples, curriculum: 5), error: 2.883843\n",
      "Epoch 6199 (123980 processed examples, curriculum: 5), error: 2.975576\n",
      "    Testing sequence length 2: \n",
      "        Cost per sequence: 1.200000 (chance: 4.000000)\n",
      "    Testing sequence length 5: \n",
      "        Cost per sequence: 6.800000 (chance: 10.000000)\n",
      "    Testing sequence length 10: \n",
      "        Cost per sequence: 18.400000 (chance: 20.000000)\n",
      "Epoch 6258 (125160 processed examples, curriculum: 5), error: 2.922020\n",
      "Epoch 6340 (126800 processed examples, curriculum: 5), error: 2.817849\n",
      "Epoch 6421 (128420 processed examples, curriculum: 5), error: 2.929928\n",
      "Epoch 6505 (130100 processed examples, curriculum: 5), error: 3.039675\n",
      "Epoch 6586 (131720 processed examples, curriculum: 5), error: 3.006363\n",
      "Epoch 6667 (133340 processed examples, curriculum: 5), error: 2.955905\n",
      "Epoch 6749 (134980 processed examples, curriculum: 5), error: 2.852565\n",
      "Epoch 6827 (136540 processed examples, curriculum: 5), error: 2.969970\n",
      "Epoch 6904 (138080 processed examples, curriculum: 5), error: 3.000140\n",
      "Epoch 6991 (139820 processed examples, curriculum: 5), error: 3.092276\n",
      "Epoch 7074 (141480 processed examples, curriculum: 5), error: 3.096953\n",
      "Epoch 7154 (143080 processed examples, curriculum: 5), error: 3.182487\n",
      "Epoch 7241 (144820 processed examples, curriculum: 5), error: 3.143697\n",
      "Epoch 7324 (146480 processed examples, curriculum: 5), error: 3.207701\n",
      "Epoch 7410 (148200 processed examples, curriculum: 5), error: 3.214571\n",
      "Epoch 7484 (149680 processed examples, curriculum: 5), error: 3.294930\n",
      "Epoch 7562 (151240 processed examples, curriculum: 5), error: 3.296404\n",
      "Epoch 7644 (152880 processed examples, curriculum: 5), error: 3.230621\n",
      "Epoch 7727 (154540 processed examples, curriculum: 5), error: 3.238880\n",
      "Epoch 7795 (155900 processed examples, curriculum: 5), error: 3.172456\n",
      "Epoch 7884 (157680 processed examples, curriculum: 5), error: 3.264173\n",
      "Epoch 7961 (159220 processed examples, curriculum: 5), error: 3.272541\n",
      "Epoch 8040 (160800 processed examples, curriculum: 5), error: 3.323133\n",
      "Epoch 8122 (162440 processed examples, curriculum: 5), error: 3.309240\n",
      "Epoch 8198 (163960 processed examples, curriculum: 5), error: 3.371342\n",
      "Epoch 8272 (165440 processed examples, curriculum: 5), error: 3.202815\n",
      "Epoch 8349 (166980 processed examples, curriculum: 5), error: 3.271015\n",
      "Epoch 8438 (168760 processed examples, curriculum: 5), error: 3.137296\n",
      "Epoch 8518 (170360 processed examples, curriculum: 5), error: 3.060765\n",
      "Epoch 8603 (172060 processed examples, curriculum: 5), error: 3.064581\n",
      "    Testing sequence length 2: \n",
      "        Cost per sequence: 0.500000 (chance: 4.000000)\n",
      "    Testing sequence length 5: \n",
      "        Cost per sequence: 6.100000 (chance: 10.000000)\n",
      "    Testing sequence length 10: \n",
      "        Cost per sequence: 16.200000 (chance: 20.000000)\n",
      "Epoch 8663 (173260 processed examples, curriculum: 5), error: 2.911374\n",
      "Epoch 8737 (174740 processed examples, curriculum: 5), error: 2.864648\n",
      "Epoch 8817 (176340 processed examples, curriculum: 5), error: 2.750140\n",
      "Epoch 8888 (177760 processed examples, curriculum: 5), error: 2.873200\n",
      "Epoch 8968 (179360 processed examples, curriculum: 5), error: 2.893510\n",
      "Epoch 9049 (180980 processed examples, curriculum: 5), error: 2.748871\n",
      "Epoch 9131 (182620 processed examples, curriculum: 5), error: 2.852300\n",
      "Epoch 9208 (184160 processed examples, curriculum: 5), error: 2.854271\n",
      "Epoch 9295 (185900 processed examples, curriculum: 5), error: 2.845394\n",
      "Epoch 9379 (187580 processed examples, curriculum: 5), error: 2.840664\n",
      "Epoch 9463 (189260 processed examples, curriculum: 5), error: 2.931120\n",
      "Epoch 9543 (190860 processed examples, curriculum: 5), error: 2.784592\n",
      "Epoch 9624 (192480 processed examples, curriculum: 5), error: 2.880349\n",
      "Epoch 9704 (194080 processed examples, curriculum: 5), error: 2.879215\n",
      "Epoch 9783 (195660 processed examples, curriculum: 5), error: 2.960717\n",
      "Epoch 9864 (197280 processed examples, curriculum: 5), error: 2.812695\n",
      "Epoch 9942 (198840 processed examples, curriculum: 5), error: 2.753465\n",
      "    Testing sequence length 2: \n",
      "        Cost per sequence: 0.500000 (chance: 4.000000)\n",
      "    Testing sequence length 5: \n",
      "        Cost per sequence: 4.700000 (chance: 10.000000)\n",
      "    Testing sequence length 10: \n",
      "        Cost per sequence: 17.800000 (chance: 20.000000)\n"
     ]
    }
   ],
   "source": [
    "INPUT_SIZE           = 4\n",
    "MAX_TRAIN_SEQ_LENGTH = 5\n",
    "\n",
    "\n",
    "HIDDEN  = 256\n",
    "BATCH_SIZE  = 20\n",
    "baseline_model = GRUBaseline(INPUT_SIZE, HIDDEN, INPUT_SIZE)\n",
    "##solver = Solver(\"rmsprop\", learning_rate=0.00003, decay_rate=0.9, smooth_eps=1e-4)\n",
    "solver = Solver(\"rmsprop\", learning_rate=0.0001, decay_rate=0.9, smooth_eps=1e-4, clipval=10.0)\n",
    "\n",
    "errors = evaluate_copy(baseline_model, solver, INPUT_SIZE, MAX_TRAIN_SEQ_LENGTH, batch_size=BATCH_SIZE,\n",
    "                      epochs=10000, curriculum_epochs=5000)"
   ]
  },
  {
   "cell_type": "code",
   "execution_count": 7,
   "metadata": {
    "collapsed": true
   },
   "outputs": [],
   "source": [
    "from collections import defaultdict\n",
    "\n",
    "class Capture(object):\n",
    "    instances = set()\n",
    "    \n",
    "    def __init__(self):\n",
    "        self.state = defaultdict(lambda: [])\n",
    "        \n",
    "    @classmethod\n",
    "    def add(cls, name, value):\n",
    "        for instance in cls.instances:\n",
    "            instance.state[name].append(value)\n",
    "    \n",
    "    def __enter__(self):\n",
    "        Capture.instances.add(self)\n",
    "    \n",
    "    def __exit__(self, *args, **kwargs):\n",
    "        Capture.instances.remove(self)"
   ]
  },
  {
   "cell_type": "code",
   "execution_count": 8,
   "metadata": {
    "collapsed": true
   },
   "outputs": [],
   "source": [
    "class MLP(object):\n",
    "    def __init__(self, input_sizes, hiddens, nonlinearities):\n",
    "        self.input_sizes = input_sizes\n",
    "        self.hiddens = hiddens\n",
    "        self.input_nonlinearity, self.layer_nonlinearities = nonlinearities[0], nonlinearities[1:]\n",
    "        \n",
    "        self.input_layer = D.StackedInputLayer(input_sizes, hiddens[0])\n",
    "        self.layers = [D.Layer(h_from, h_to) for h_from, h_to in zip(hiddens[:-1], hiddens[1:])]\n",
    "        \n",
    "    def activate(self, inputs):\n",
    "        assert len(self.layers) == len(self.layer_nonlinearities)\n",
    "        hidden = self.input_nonlinearity(self.input_layer.activate(inputs))\n",
    "        for l, nonlinearity in zip(self.layers, self.layer_nonlinearities):\n",
    "            hidden = nonlinearity(l.activate(hidden))\n",
    "        return hidden\n",
    "    \n",
    "    def parameters(self):\n",
    "        ret = self.input_layer.parameters()\n",
    "        for l in self.layers:\n",
    "            ret.extend(l.parameters())\n",
    "        return ret\n",
    "    \n",
    "    def name_parameters(self, prefix):\n",
    "        self.input_layer.name_parameters(prefix + \"_input_layer\")\n",
    "        for layer_idx, layer in enumerate(self.layers):\n",
    "            layer.name_parameters(prefix + '_layer%d' % (layer_idx,))"
   ]
  },
  {
   "cell_type": "code",
   "execution_count": 77,
   "metadata": {
    "collapsed": false
   },
   "outputs": [],
   "source": [
    "def row_by_scalar(a,b):\n",
    "    return D.MatOps.eltmul(a, b, broadcast=True, axis=0)\n",
    "\n",
    "def col_by_scalar(a,b):\n",
    "    return D.MatOps.eltmul(a, b, broadcast=True, axis=1)\n",
    "\n",
    "class NTMAddressing(object):\n",
    "    def __init__(self, input_sizes, memory_locations, memory_size, shift_mask='local'):\n",
    "        self.memory_locations = memory_locations\n",
    "        \n",
    "        self.content_key          = D.StackedInputLayer(input_sizes, memory_size)\n",
    "        self.content_key_strength = D.StackedInputLayer(input_sizes, 1)\n",
    "        self.interpolation        = D.StackedInputLayer(input_sizes, 1)\n",
    "        self.shift                = D.StackedInputLayer(input_sizes, memory_locations)\n",
    "        self.focus                = D.StackedInputLayer(input_sizes, 1)\n",
    "        \n",
    "        self.shift_mask = np.zeros((1, memory_locations))\n",
    "        if shift_mask == 'local':\n",
    "            self.shift_mask[0, 0] = 1\n",
    "            self.shift_mask[0, 1] = 1\n",
    "            self.shift_mask[0, -1] = 1\n",
    "        else:\n",
    "            raise Exception(\"Unknown shift mask type: %s\" % (shift_mask,))\n",
    "        self.shift_mask = D.Mat(self.shift_mask)\n",
    "        \n",
    "        with D.NoBackprop():\n",
    "            self.initial_locations = D.random.uniform(0.001, 0.1, (1,self.memory_locations))        \n",
    "        \n",
    "    def name_parameters(self, prefix):\n",
    "        self.content_key.name_parameters(prefix + \"_content_key\")\n",
    "        self.content_key_strength.name_parameters(prefix + \"_content_key_strength\")\n",
    "        self.interpolation.name_parameters(prefix + \"_interpolation\")\n",
    "        self.shift.name_parameters(prefix + \"_shift\")\n",
    "        self.focus.name_parameters(prefix + \"_focus\")\n",
    "        self.initial_locations.name = prefix + \"_initial_locations\"\n",
    "\n",
    "    def content_addressing_activation(self, key, key_strength, memory):\n",
    "        # cosine distance essentially\n",
    "        key_broadcasted   = D.MatOps.broadcast(key, axis=0, num_replicas=memory.shape[0])\n",
    "        unnormalized_dot  = (key * memory).sum(axis=1)\n",
    "        key_norm          = key_broadcasted.L2_norm(axis=1)\n",
    "        memory_norm       = memory.L2_norm(axis=1)\n",
    "        cosine_similarity = (unnormalized_dot / (key_norm * memory_norm + 1e-6)).T()\n",
    "        presoftmax        = row_by_scalar(cosine_similarity, key_strength)\n",
    "        \n",
    "        return D.MatOps.softmax(presoftmax)\n",
    "        \n",
    "    def address(self, inputs, memory, state):\n",
    "        \"\"\"Outputs memory location weights.\n",
    "        \n",
    "        Inputs:\n",
    "        inputs -- set of vectors controlling the mechanism (e.g. LSTM output)\n",
    "        state  -- weights from previous timestep.\n",
    "        \"\"\"\n",
    "        # todo - should memory contents be tanhed?\n",
    "        key                  = self.content_key.activate(inputs)\n",
    "        key_strength         = self.content_key_strength.activate(inputs).softplus()\n",
    "        # todo - make multiplication of similarity (vector) * key strength_scalrar is correctly broadcasted\n",
    "        content_weights      = self.content_addressing_activation(key, key_strength, memory)\n",
    "        interpolation_gate   = self.interpolation.activate(inputs).sigmoid()\n",
    "        interpolated_weights = (row_by_scalar(content_weights, interpolation_gate) +\n",
    "                                row_by_scalar(state,1.0 - interpolation_gate))        \n",
    "        shift                = D.MatOps.softmax(self.shift.activate(inputs))\n",
    "        shift                = shift * self.shift_mask\n",
    "        shift                = shift / (shift.sum() + 1e-6)\n",
    "        \n",
    "        shifted_weighs       = D.MatOps.circular_convolution(interpolated_weights, shift)\n",
    "        focus                = self.focus.activate(inputs).softplus() + 1.\n",
    "        focused_weights      = shifted_weighs ** focus\n",
    "        # todo - make sure it's correctly broadcasted\n",
    "        sum_focused          = focused_weights.sum(axis=1)\n",
    "        focused_weights      = focused_weights / (sum_focused + 1e-6)\n",
    "        \n",
    "        return focused_weights\n",
    "    \n",
    "    def initial_states(self):\n",
    "        return D.MatOps.softmax(self.initial_locations)\n",
    "    \n",
    "    def parameters(self):\n",
    "        res = []\n",
    "        res.extend(self.content_key.parameters())\n",
    "        res.extend(self.content_key_strength.parameters())\n",
    "        res.extend(self.interpolation.parameters())\n",
    "        res.extend(self.shift.parameters())\n",
    "        res.extend(self.focus.parameters())\n",
    "        res.append(self.initial_locations)\n",
    "        return res\n",
    "\n",
    "class NTMReadHead(object):\n",
    "    def __init__(self, input_sizes, memory_locations, memory_size):\n",
    "        self.addressing = NTMAddressing(input_sizes, memory_locations, memory_size)\n",
    "    \n",
    "    def name_parameters(self, prefix):\n",
    "        self.addressing.name_parameters(prefix + \"_adressing\")\n",
    "    \n",
    "    def read(self, inputs, memory, state):\n",
    "        weights = self.addressing.address(inputs, memory, state)\n",
    "        Capture.add(\"read_head_weights\", weights)\n",
    "        # todo - make sure it is correctly broadcasted\n",
    "        pulled_from_memory = row_by_scalar(memory, weights.T()).sum(axis=0)\n",
    "        Capture.add(\"read_head_content\", pulled_from_memory)\n",
    "        return pulled_from_memory, weights\n",
    "    \n",
    "    def initial_states(self):\n",
    "        return self.addressing.initial_states()\n",
    "    \n",
    "    def parameters(self):\n",
    "        return self.addressing.parameters()\n",
    "\n",
    "\n",
    "class NTMWriteHead(object):\n",
    "    def __init__(self, input_sizes, memory_locations, memory_size):\n",
    "        self.addressing = NTMAddressing(input_sizes, memory_locations, memory_size)\n",
    "        self.content    = D.StackedInputLayer(input_sizes, memory_size)\n",
    "        self.erase      = D.StackedInputLayer(input_sizes, memory_size)\n",
    "        \n",
    "    def name_parameters(self, prefix):\n",
    "        self.addressing.name_parameters(prefix + \"_adressing\")\n",
    "        self.content.name_parameters(prefix + \"_content\")\n",
    "        self.erase.name_parameters(prefix + \"_erase\")\n",
    "\n",
    "        \n",
    "    def write(self, inputs, memory, state):\n",
    "        weights = self.addressing.address(inputs, memory, state)\n",
    "        Capture.add(\"write_head_weights\", weights)\n",
    "\n",
    "        # todo - make sure it is correctly broadcasted\n",
    "        new_content = self.content.activate(inputs)\n",
    "        Capture.add(\"write_head_content\", new_content)\n",
    "\n",
    "        erase       = self.erase.activate(inputs).sigmoid()\n",
    "        \n",
    "        memory = memory * (1.0 - weights.T().dot(erase))\n",
    "        # todo - make sure it is an outer product\n",
    "        memory = memory + weights.T().dot(new_content)\n",
    "        return memory, weights\n",
    "    \n",
    "    def initial_states(self):\n",
    "        return self.addressing.initial_states()\n",
    "    \n",
    "    def parameters(self):\n",
    "        return self.addressing.parameters()\n",
    "    "
   ]
  },
  {
   "cell_type": "code",
   "execution_count": 78,
   "metadata": {
    "collapsed": false
   },
   "outputs": [],
   "source": [
    "class NTM(object):\n",
    "    def __init__(self, input_size, hiddens, output_size, \n",
    "                 num_read_heads, num_write_heads,\n",
    "                 memory_locations, memory_size,\n",
    "                 controller_type='lstm'):\n",
    "        self.memory_locations = memory_locations\n",
    "        self.memory_size      = memory_size\n",
    "        self.controller_type  = controller_type\n",
    "        \n",
    "        controller_inputs = [input_size] + [memory_size for _ in range(num_read_heads)]\n",
    "        if controller_type   == 'mlp':\n",
    "            nonlinearities = [D.MatOps.tanh for _ in range(len(hiddens))]\n",
    "            self.controller = MLP(controller_inputs, hiddens, nonlinearities)\n",
    "            self.controller_output_size = [hiddens[-1]]\n",
    "        elif controller_type == 'lstm':\n",
    "            self.controller = D.StackedLSTM(controller_inputs, hiddens, memory_feeds_gates=True)\n",
    "            self.controller_output_size = hiddens\n",
    "        else:\n",
    "            raise Exception(\"Unrecognized controller %s, should be one of [mlp,lstm]\" % (controller_type,))\n",
    "    \n",
    "        self.decoder      = D.StackedInputLayer(self.controller_output_size, output_size)\n",
    "\n",
    "        self.read_heads   = [NTMReadHead (self.controller_output_size, memory_locations, memory_size) \n",
    "                                 for _ in range(num_read_heads) ]\n",
    "        self.write_heads  = [NTMWriteHead(self.controller_output_size, memory_locations, memory_size) \n",
    "                                 for _ in range(num_write_heads)]\n",
    "\n",
    "        # initialize memory to random values int range (-0.1, 0.1) not too close to zero\n",
    "        self.memory_init = D.random.uniform(0.01, 0.1, (self.memory_locations, self.memory_size))\n",
    "        self.memory_init.w *= np.random.binomial(1, 0.5, self.memory_init.shape) * 2 - 1\n",
    "        \n",
    "    def name_parameters(self, prefix):\n",
    "        self.decoder.name_parameters(prefix + \"_decoder\")\n",
    "        self.controller.name_parameters(prefix + \"_controller_\" + self.controller_type)\n",
    "        for head_idx, head in enumerate(self.read_heads):\n",
    "            head.name_parameters(prefix + \"_read_head%d\" % (head_idx,))\n",
    "        for head_idx, head in enumerate(self.write_heads):\n",
    "            head.name_parameters(prefix + \"_write_head%d\" % (head_idx,))\n",
    "        self.memory_init.name = prefix + \"_memory_init\"\n",
    "        \n",
    "    def activate(self, input_vec, state):\n",
    "        # read\n",
    "        new_read_heads_state = []\n",
    "        read_from_memory     = []\n",
    "        for head, head_state in zip(self.read_heads, state['read_heads']):\n",
    "            content, new_head_state = head.read(self.extract_hiddens(state['controller']), \n",
    "                                                state['memory'],\n",
    "                                                head_state)\n",
    "            read_from_memory.append(content)\n",
    "            new_read_heads_state.append(new_head_state)\n",
    "        # activate\n",
    "        if self.controller_type   == 'mlp':\n",
    "            new_controller_state = self.controller.activate([input_vec] + read_from_memory)\n",
    "        elif self.controller_type == 'lstm':\n",
    "            new_controller_state = self.controller.activate([input_vec] + read_from_memory, state['controller'])\n",
    "\n",
    "        # write\n",
    "        new_memory = state['memory']\n",
    "        new_write_heads_state = []\n",
    "        for head, head_state in zip(self.write_heads, state['write_heads']):\n",
    "            new_memory, new_head_state = head.write(self.extract_hiddens(new_controller_state),\n",
    "                                                    new_memory,\n",
    "                                                    head_state)\n",
    "            new_write_heads_state.append(new_head_state)\n",
    "        # collect results\n",
    "        new_state = {\n",
    "            'read_heads'           : new_read_heads_state,\n",
    "            'write_heads'          : new_write_heads_state,\n",
    "            'memory'               : new_memory,\n",
    "            'controller'           : new_controller_state\n",
    "        }\n",
    "\n",
    "        return new_state\n",
    "    \n",
    "    def decode(self, state):\n",
    "        return self.decoder.activate(self.extract_hiddens(state['controller']))\n",
    "        \n",
    "    def parameters(self):\n",
    "        res = []\n",
    "        res.extend(self.controller.parameters())\n",
    "        res.extend(self.decoder.parameters())\n",
    "        for head in self.read_heads:\n",
    "            res.extend(head.parameters())\n",
    "        for head in self.write_heads:\n",
    "            res.extend(head.parameters())\n",
    "        res.append(self.memory_init)\n",
    "        return res\n",
    "    \n",
    "    def extract_hiddens(self, state):\n",
    "        if self.controller_type   == 'mlp':\n",
    "            return [state]\n",
    "        elif self.controller_type == 'lstm':\n",
    "            return [s.hidden for s in state]\n",
    "    \n",
    "    def initial_states(self):\n",
    "        ret = {\n",
    "            'read_heads':            [head.initial_states() for head in self.read_heads],\n",
    "            'write_heads':           [head.initial_states() for head in self.write_heads],\n",
    "            'memory':                self.memory_init,           \n",
    "        }\n",
    "        if self.controller_type   == 'mlp':\n",
    "            ret['controller'] = D.Mat.ones((1, self.controller_output_size[0]))\n",
    "        elif self.controller_type == 'lstm':\n",
    "            ret['controller'] = self.controller.initial_states()\n",
    "        \n",
    "        return ret"
   ]
  },
  {
   "cell_type": "code",
   "execution_count": 96,
   "metadata": {
    "collapsed": false
   },
   "outputs": [],
   "source": [
    "INPUT_SIZE           = 8\n",
    "MAX_TRAIN_SEQ_LENGTH = 10\n",
    "\n",
    "\n",
    "HIDDENS          = [100]\n",
    "\n",
    "BATCH_SIZE       = 1\n",
    "assert BATCH_SIZE == 1\n",
    "\n",
    "MEMORY_LOCATIONS = 128\n",
    "MEMORY_SIZE      = 20\n",
    "ntm_model = NTM(input_size=INPUT_SIZE,\n",
    "                hiddens=HIDDENS,\n",
    "                output_size=INPUT_SIZE,\n",
    "                num_read_heads=1,\n",
    "                num_write_heads=1,\n",
    "                memory_locations=MEMORY_LOCATIONS,\n",
    "                memory_size=MEMORY_SIZE,\n",
    "                controller_type='mlp')\n",
    "ntm_model.name_parameters('ntm')\n",
    "\n",
    "#solver = Solver(\"rmsprop\", learning_rate=0.00003, decay_rate=0.9, smooth_eps=1e-4)\n",
    "solver = Solver(ntm_model.parameters(), \"rmsprop\",  learning_rate=1e-4, \n",
    "                decay_rate=0.9, smooth_eps=1e-6, clipval=10.0)\n",
    "# solver = Solver(ntm_model.parameters(), \"rmsprop_momentum\", \n",
    "#                 learning_rate=1e-5)#, regc=1e-4)\n",
    "# solver = Solver(ntm_model.parameters(), \"adadelta\", regc=1e-3, clipval=1.0)\n",
    "#olver = Solver(ntm_model.parameters(), \"sgd\", learning_rate=1e-2, clipval=10.0)\n",
    "# solver = Solver(\"adagrad\", learning_rate=0.00001, clipval=10.0)"
   ]
  },
  {
   "cell_type": "code",
   "execution_count": 103,
   "metadata": {
    "collapsed": false
   },
   "outputs": [
    {
     "name": "stdout",
     "output_type": "stream",
     "text": [
      "Epoch 0 (0 processed examples, curriculum: 10), error: 0.112109\n",
      "    Testing sequence length 5: \n",
      "        Cost per sequence: 0.000000 (chance: 20.000000)\n",
      "    Testing sequence length 10: \n",
      "        Cost per sequence: 1.500000 (chance: 40.000000)\n",
      "    Testing sequence length 20: \n",
      "        Cost per sequence: 56.400000 (chance: 80.000000)\n",
      "Epoch 1 (1 processed examples, curriculum: 10), error: 0.134869\n",
      "Epoch 9 (9 processed examples, curriculum: 10), error: 0.168976\n",
      "Epoch 21 (21 processed examples, curriculum: 10), error: 0.165157\n",
      "Epoch 31 (31 processed examples, curriculum: 10), error: 0.165157\n",
      "Early stopping\n",
      "    Testing sequence length 5: \n",
      "        Cost per sequence: 0.000000 (chance: 20.000000)\n",
      "    Testing sequence length 10: \n",
      "        Cost per sequence: 0.200000 (chance: 40.000000)\n",
      "    Testing sequence length 20: \n",
      "        Cost per sequence: 51.900000 (chance: 80.000000)\n",
      "    Testing sequence length 5: \n",
      "        Cost per sequence: 0.000000 (chance: 20.000000)\n",
      "    Testing sequence length 10: \n",
      "        Cost per sequence: 0.900000 (chance: 40.000000)\n",
      "    Testing sequence length 20: \n",
      "        Cost per sequence: 57.800000 (chance: 80.000000)\n"
     ]
    }
   ],
   "source": [
    "errors = evaluate_copy(ntm_model, solver, INPUT_SIZE, MAX_TRAIN_SEQ_LENGTH, batch_size=BATCH_SIZE,\n",
    "                      epochs=200000, curriculum_epochs = None, debug=False)"
   ]
  },
  {
   "cell_type": "code",
   "execution_count": 98,
   "metadata": {
    "collapsed": false
   },
   "outputs": [
    {
     "data": {
      "text/plain": [
       "200000"
      ]
     },
     "execution_count": 98,
     "metadata": {},
     "output_type": "execute_result"
    }
   ],
   "source": [
    "len(errors)"
   ]
  },
  {
   "cell_type": "code",
   "execution_count": 100,
   "metadata": {
    "collapsed": false
   },
   "outputs": [
    {
     "data": {
      "text/plain": [
       "[<matplotlib.lines.Line2D at 0x7fd5db69ff98>]"
      ]
     },
     "execution_count": 100,
     "metadata": {},
     "output_type": "execute_result"
    },
    {
     "data": {
      "image/png": "[encoded data removed]",
      "text/plain": [
       "<matplotlib.figure.Figure at 0x7fd5db33f9b0>"
      ]
     },
     "metadata": {},
     "output_type": "display_data"
    }
   ],
   "source": [
    "y = median_smoothing(errors[::100], window=100)\n",
    "plt.plot(range(len(y)), y)\n"
   ]
  },
  {
   "cell_type": "code",
   "execution_count": 101,
   "metadata": {
    "collapsed": false
   },
   "outputs": [
    {
     "name": "stdout",
     "output_type": "stream",
     "text": [
      "0.225\t8.744\t800\tntm_controller_mlp_input_layer_W0\n",
      "0.452\t25.454\t2000\tntm_controller_mlp_input_layer_W1\n",
      "0.472\t5.867\t100\tntm_controller_mlp_input_layer_b\n",
      "0.540\t19.681\t800\tntm_decoder_W0\n",
      "2.455\t8.069\t8\tntm_decoder_b\n",
      "0.165\t9.597\t2000\tntm_read_head0_adressing_content_key_W0\n",
      "1.155\t7.058\t20\tntm_read_head0_adressing_content_key_b\n",
      "0.422\t5.197\t100\tntm_read_head0_adressing_content_key_strength_W0\n",
      "2.557\t2.557\t1\tntm_read_head0_adressing_content_key_strength_b\n",
      "0.130\t1.603\t100\tntm_read_head0_adressing_interpolation_W0\n",
      "1.558\t1.558\t1\tntm_read_head0_adressing_interpolation_b\n",
      "0.358\t239.336\t12800\tntm_read_head0_adressing_shift_W0\n",
      "0.501\t33.445\t128\tntm_read_head0_adressing_shift_b\n",
      "0.159\t2.002\t100\tntm_read_head0_adressing_focus_W0\n",
      "0.175\t0.175\t1\tntm_read_head0_adressing_focus_b\n",
      "4.545\t54.356\t128\tntm_read_head0_adressing_initial_locations\n",
      "0.215\t12.362\t2000\tntm_write_head0_adressing_content_key_W0\n",
      "1.758\t9.412\t20\tntm_write_head0_adressing_content_key_b\n",
      "0.360\t4.741\t100\tntm_write_head0_adressing_content_key_strength_W0\n",
      "6.459\t6.459\t1\tntm_write_head0_adressing_content_key_strength_b\n",
      "11.446\t136.013\t100\tntm_write_head0_adressing_interpolation_W0\n",
      "19.510\t19.510\t1\tntm_write_head0_adressing_interpolation_b\n",
      "0.053\t7.688\t12800\tntm_write_head0_adressing_shift_W0\n",
      "0.140\t6.793\t128\tntm_write_head0_adressing_shift_b\n",
      "0.777\t10.016\t100\tntm_write_head0_adressing_focus_W0\n",
      "1.673\t1.673\t1\tntm_write_head0_adressing_focus_b\n",
      "19.840\t224.483\t128\tntm_write_head0_adressing_initial_locations\n",
      "0.358\t22.875\t2560\tntm_memory_init\n"
     ]
    }
   ],
   "source": [
    "for param in ntm_model.parameters():\n",
    "    nel = param.w.ravel().shape[0]\n",
    "    avg = sum(sum(abs(param.w))) / nel\n",
    "    nrm =  np.linalg.norm(param)\n",
    "    print('%.3f\\t%.3f\\t%d\\t%s' % (avg, nrm,nel, param.name))\n",
    "# plt.colorbar()"
   ]
  },
  {
   "cell_type": "code",
   "execution_count": 30,
   "metadata": {
    "collapsed": false
   },
   "outputs": [
    {
     "data": {
      "text/plain": [
       "4"
      ]
     },
     "execution_count": 30,
     "metadata": {},
     "output_type": "execute_result"
    }
   ],
   "source": [
    "x.ravel().shape[0]"
   ]
  },
  {
   "cell_type": "code",
   "execution_count": 91,
   "metadata": {
    "collapsed": false
   },
   "outputs": [
    {
     "data": {
      "text/plain": [
       "array([[ 0.8116377 ,  0.59566122,  0.49466214,  0.46039918,  0.61630201,\n",
       "        -0.33986348,  0.12560712,  0.58555883,  0.5218761 ,  0.33090848,\n",
       "         0.51518619,  0.8930847 ,  0.96688551,  0.63240188,  0.55799574,\n",
       "         0.55299872,  0.61381924,  1.00473475,  1.09844375,  0.75794619,\n",
       "         0.18987241, -0.09666262,  0.65739894,  0.60510671,  0.26888797,\n",
       "         0.34444487,  0.34612277,  0.38025174,  0.6011349 ,  0.88652372,\n",
       "         1.00608325,  0.89585954,  0.95290732,  0.79351598,  1.00413716,\n",
       "         0.64029497, -0.45334938, -0.09486344,  0.01748658, -0.44612688,\n",
       "        -0.57601643, -0.67443895, -0.90790713, -1.02970672, -0.94918191,\n",
       "        -0.89001358, -0.98256266, -1.15215051, -1.4409796 , -1.41517532,\n",
       "        -1.40730977, -1.27923059, -0.32512578,  0.26151612,  0.49421379,\n",
       "         0.77482742,  0.5601601 ,  0.09498564,  0.7505185 ,  1.13843215,\n",
       "         0.79770923, -0.0198104 , -0.3197937 , -0.27566588, -0.29326198,\n",
       "         0.15073785,  0.06546709, -0.01024877, -0.91852152, -0.92018431,\n",
       "        -0.67073995,  0.06388454, -1.44116163, -1.45558369, -1.472453  ,\n",
       "        -1.29750919, -1.43031549, -0.92626733,  0.08306657,  0.34299102,\n",
       "         0.45042664,  0.64116013,  0.49844611,  0.12246892,  0.51454318,\n",
       "         0.29408371,  0.54854816,  0.61646897,  0.13600096, -0.44812098,\n",
       "        -0.27566028, -0.41483358, -0.39711383, -0.27181363,  0.07092586,\n",
       "        -0.53938186, -0.52850872, -0.43358845, -0.45923787, -0.39129627,\n",
       "        -0.4587228 , -0.44044241, -0.36679566,  0.45176172,  1.24123621,\n",
       "         0.64989012,  0.48658693,  0.3470304 ,  0.48657009,  0.51197916,\n",
       "         0.49574515,  0.65736896,  0.1352496 , -1.07666636, -1.07678401,\n",
       "        -1.07564914, -0.50606668,  0.09098486,  0.8166846 , -0.13583948,\n",
       "        -0.17788452, -0.17440428, -0.05486675, -0.31219858,  0.44331852,\n",
       "         1.38567758,  1.01353371,  1.01901221]], dtype=float32)"
      ]
     },
     "execution_count": 91,
     "metadata": {},
     "output_type": "execute_result"
    }
   ],
   "source": [
    "ntm_model.read_heads[0].addressing.initial_locations.w\n",
    "# plt.colorbar()"
   ]
  },
  {
   "cell_type": "code",
   "execution_count": 92,
   "metadata": {
    "collapsed": false
   },
   "outputs": [
    {
     "ename": "ValueError",
     "evalue": "need more than 0 values to unpack",
     "output_type": "error",
     "traceback": [
      "\u001b[1;31m---------------------------------------------------------------------------\u001b[0m",
      "\u001b[1;31mValueError\u001b[0m                                Traceback (most recent call last)",
      "\u001b[1;32m<ipython-input-92-84f4d1cbfb41>\u001b[0m in \u001b[0;36m<module>\u001b[1;34m()\u001b[0m\n\u001b[0;32m      1\u001b[0m \u001b[0mh\u001b[0m \u001b[1;33m=\u001b[0m \u001b[0mntm_model\u001b[0m\u001b[1;33m.\u001b[0m\u001b[0mread_heads\u001b[0m\u001b[1;33m[\u001b[0m\u001b[1;36m0\u001b[0m\u001b[1;33m]\u001b[0m\u001b[1;33m\u001b[0m\u001b[0m\n\u001b[0;32m      2\u001b[0m \u001b[1;33m\u001b[0m\u001b[0m\n\u001b[1;32m----> 3\u001b[1;33m \u001b[0mplt\u001b[0m\u001b[1;33m.\u001b[0m\u001b[0mmatshow\u001b[0m\u001b[1;33m(\u001b[0m\u001b[0mh\u001b[0m\u001b[1;33m.\u001b[0m\u001b[0maddressing\u001b[0m\u001b[1;33m.\u001b[0m\u001b[0mshift\u001b[0m\u001b[1;33m)\u001b[0m\u001b[1;33m\u001b[0m\u001b[0m\n\u001b[0m\u001b[0;32m      4\u001b[0m \u001b[0mplt\u001b[0m\u001b[1;33m.\u001b[0m\u001b[0mcolorbar\u001b[0m\u001b[1;33m(\u001b[0m\u001b[1;33m)\u001b[0m\u001b[1;33m\u001b[0m\u001b[0m\n",
      "\u001b[1;32m/usr/lib64/python3.4/site-packages/matplotlib/pyplot.py\u001b[0m in \u001b[0;36mmatshow\u001b[1;34m(A, fignum, **kw)\u001b[0m\n\u001b[0;32m   2215\u001b[0m     \u001b[1;32melse\u001b[0m\u001b[1;33m:\u001b[0m\u001b[1;33m\u001b[0m\u001b[0m\n\u001b[0;32m   2216\u001b[0m         \u001b[1;31m# Extract actual aspect ratio of array and make appropriately sized figure\u001b[0m\u001b[1;33m\u001b[0m\u001b[1;33m\u001b[0m\u001b[0m\n\u001b[1;32m-> 2217\u001b[1;33m         \u001b[0mfig\u001b[0m \u001b[1;33m=\u001b[0m \u001b[0mfigure\u001b[0m\u001b[1;33m(\u001b[0m\u001b[0mfignum\u001b[0m\u001b[1;33m,\u001b[0m \u001b[0mfigsize\u001b[0m\u001b[1;33m=\u001b[0m\u001b[0mfigaspect\u001b[0m\u001b[1;33m(\u001b[0m\u001b[0mA\u001b[0m\u001b[1;33m)\u001b[0m\u001b[1;33m)\u001b[0m\u001b[1;33m\u001b[0m\u001b[0m\n\u001b[0m\u001b[0;32m   2218\u001b[0m         \u001b[0max\u001b[0m  \u001b[1;33m=\u001b[0m \u001b[0mfig\u001b[0m\u001b[1;33m.\u001b[0m\u001b[0madd_axes\u001b[0m\u001b[1;33m(\u001b[0m\u001b[1;33m[\u001b[0m\u001b[1;36m0.15\u001b[0m\u001b[1;33m,\u001b[0m \u001b[1;36m0.09\u001b[0m\u001b[1;33m,\u001b[0m \u001b[1;36m0.775\u001b[0m\u001b[1;33m,\u001b[0m \u001b[1;36m0.775\u001b[0m\u001b[1;33m]\u001b[0m\u001b[1;33m)\u001b[0m\u001b[1;33m\u001b[0m\u001b[0m\n\u001b[0;32m   2219\u001b[0m \u001b[1;33m\u001b[0m\u001b[0m\n",
      "\u001b[1;32m/usr/lib64/python3.4/site-packages/matplotlib/figure.py\u001b[0m in \u001b[0;36mfigaspect\u001b[1;34m(arg)\u001b[0m\n\u001b[0;32m   1648\u001b[0m     \u001b[1;31m# Extract the aspect ratio of the array\u001b[0m\u001b[1;33m\u001b[0m\u001b[1;33m\u001b[0m\u001b[0m\n\u001b[0;32m   1649\u001b[0m     \u001b[1;32mif\u001b[0m \u001b[0misarray\u001b[0m\u001b[1;33m:\u001b[0m\u001b[1;33m\u001b[0m\u001b[0m\n\u001b[1;32m-> 1650\u001b[1;33m         \u001b[0mnr\u001b[0m\u001b[1;33m,\u001b[0m \u001b[0mnc\u001b[0m \u001b[1;33m=\u001b[0m \u001b[0marg\u001b[0m\u001b[1;33m.\u001b[0m\u001b[0mshape\u001b[0m\u001b[1;33m[\u001b[0m\u001b[1;33m:\u001b[0m\u001b[1;36m2\u001b[0m\u001b[1;33m]\u001b[0m\u001b[1;33m\u001b[0m\u001b[0m\n\u001b[0m\u001b[0;32m   1651\u001b[0m         \u001b[0marr_ratio\u001b[0m \u001b[1;33m=\u001b[0m \u001b[0mfloat\u001b[0m\u001b[1;33m(\u001b[0m\u001b[0mnr\u001b[0m\u001b[1;33m)\u001b[0m \u001b[1;33m/\u001b[0m \u001b[0mnc\u001b[0m\u001b[1;33m\u001b[0m\u001b[0m\n\u001b[0;32m   1652\u001b[0m     \u001b[1;32melse\u001b[0m\u001b[1;33m:\u001b[0m\u001b[1;33m\u001b[0m\u001b[0m\n",
      "\u001b[1;31mValueError\u001b[0m: need more than 0 values to unpack"
     ]
    }
   ],
   "source": [
    "h = ntm_model.read_heads[0]\n",
    "\n",
    "plt.matshow(h.addressing.shift)\n",
    "plt.colorbar()"
   ]
  },
  {
   "cell_type": "code",
   "execution_count": 93,
   "metadata": {
    "collapsed": false
   },
   "outputs": [
    {
     "data": {
      "text/plain": [
       "<matplotlib.colorbar.Colorbar at 0x7fd5db57f5c0>"
      ]
     },
     "execution_count": 93,
     "metadata": {},
     "output_type": "execute_result"
    },
    {
     "data": {
      "image/png": "[encoded data removed]",
      "text/plain": [
       "<matplotlib.figure.Figure at 0x7fd5db57f9b0>"
      ]
     },
     "metadata": {},
     "output_type": "display_data"
    }
   ],
   "source": [
    "plt.matshow(ntm_model.memory_init)\n",
    "plt.colorbar()"
   ]
  },
  {
   "cell_type": "code",
   "execution_count": 104,
   "metadata": {
    "collapsed": false
   },
   "outputs": [
    {
     "name": "stdout",
     "output_type": "stream",
     "text": [
      "input_vec [ 0.  0.  0.  1.  0.  1.  1.  0.]\n",
      "decoded   [ 0.  0.  0.  1.  0.  1.  1.  0.]\n",
      "\n",
      "input_vec [ 0.  1.  1.  1.  1.  0.  1.  0.]\n",
      "decoded   [ 0.  1.  1.  1.  1.  0.  1.  0.]\n",
      "\n",
      "input_vec [ 1.  1.  0.  0.  0.  0.  1.  1.]\n",
      "decoded   [ 1.  1.  0.  0.  0.  0.  1.  1.]\n",
      "\n",
      "input_vec [ 1.  0.  1.  0.  1.  0.  1.  0.]\n",
      "decoded   [ 1.  0.  1.  0.  1.  0.  1.  0.]\n",
      "\n",
      "input_vec [ 0.  0.  1.  0.  0.  1.  0.  1.]\n",
      "decoded   [ 0.  0.  1.  0.  0.  1.  0.  1.]\n",
      "\n",
      "input_vec [ 0.  0.  1.  1.  0.  1.  0.  1.]\n",
      "decoded   [ 0.  0.  1.  1.  0.  1.  0.  1.]\n",
      "\n",
      "input_vec [ 0.  0.  0.  0.  0.  0.  0.  0.]\n",
      "decoded   [ 0.  0.  0.  0.  0.  0.  0.  0.]\n",
      "\n",
      "input_vec [ 0.  0.  0.  1.  1.  1.  1.  1.]\n",
      "decoded   [ 0.  0.  0.  1.  1.  1.  1.  1.]\n",
      "\n",
      "input_vec [ 0.  0.  1.  0.  0.  1.  0.  1.]\n",
      "decoded   [ 0.  0.  1.  0.  0.  1.  0.  1.]\n",
      "\n",
      "input_vec [ 0.  0.  1.  1.  0.  0.  0.  1.]\n",
      "decoded   [ 0.  0.  1.  1.  0.  0.  0.  1.]\n",
      "\n",
      "dict_keys(['write_head_weights', 'write_head_content', 'read_head_weights', 'read_head_content'])\n",
      "At tstep 0 READ: 1.000, WRITE: 1.000\n",
      "At tstep 1 READ: 0.985, WRITE: 0.584\n",
      "At tstep 2 READ: 0.486, WRITE: 0.918\n",
      "At tstep 3 READ: 0.616, WRITE: 0.796\n",
      "At tstep 4 READ: 0.540, WRITE: 0.852\n",
      "At tstep 5 READ: 0.567, WRITE: 0.779\n",
      "At tstep 6 READ: 0.556, WRITE: 0.740\n",
      "At tstep 7 READ: 0.535, WRITE: 0.783\n",
      "At tstep 8 READ: 0.564, WRITE: 0.598\n",
      "At tstep 9 READ: 0.551, WRITE: 0.396\n",
      "At tstep 10 READ: 0.536, WRITE: 0.416\n",
      "At tstep 11 READ: 0.991, WRITE: 0.585\n",
      "At tstep 12 READ: 0.934, WRITE: 0.495\n",
      "At tstep 13 READ: 0.756, WRITE: 0.278\n",
      "At tstep 14 READ: 0.921, WRITE: 0.090\n",
      "At tstep 15 READ: 0.996, WRITE: 0.218\n",
      "At tstep 16 READ: 0.994, WRITE: 0.355\n",
      "At tstep 17 READ: 0.994, WRITE: 0.494\n",
      "At tstep 18 READ: 0.999, WRITE: 0.283\n",
      "At tstep 19 READ: 0.994, WRITE: 0.144\n",
      "At tstep 20 READ: 0.918, WRITE: 0.106\n"
     ]
    },
    {
     "data": {
      "text/plain": [
       "<matplotlib.figure.Figure at 0x7fd5dafafcc0>"
      ]
     },
     "metadata": {},
     "output_type": "display_data"
    },
    {
     "data": {
      "image/png": "[encoded data removed]",
      "text/plain": [
       "<matplotlib.figure.Figure at 0x7fd5dab9d898>"
      ]
     },
     "metadata": {},
     "output_type": "display_data"
    },
    {
     "data": {
      "text/plain": [
       "<matplotlib.figure.Figure at 0x7fd5db0fc9b0>"
      ]
     },
     "metadata": {},
     "output_type": "display_data"
    },
    {
     "data": {
      "image/png": "[encoded data removed]",
      "text/plain": [
       "<matplotlib.figure.Figure at 0x7fd5db099d68>"
      ]
     },
     "metadata": {},
     "output_type": "display_data"
    },
    {
     "data": {
      "text/plain": [
       "<matplotlib.figure.Figure at 0x7fd5dab95b38>"
      ]
     },
     "metadata": {},
     "output_type": "display_data"
    },
    {
     "data": {
      "image/png": "[encoded data removed]",
      "text/plain": [
       "<matplotlib.figure.Figure at 0x7fd5dab8d4a8>"
      ]
     },
     "metadata": {},
     "output_type": "display_data"
    },
    {
     "data": {
      "text/plain": [
       "<matplotlib.figure.Figure at 0x7fd5db24d2e8>"
      ]
     },
     "metadata": {},
     "output_type": "display_data"
    },
    {
     "data": {
      "image/png": "[encoded data removed]",
      "text/plain": [
       "<matplotlib.figure.Figure at 0x7fd5db24c048>"
      ]
     },
     "metadata": {},
     "output_type": "display_data"
    }
   ],
   "source": [
    "def combine_access(accesses):\n",
    "    num_accesses = len(accesses)\n",
    "    assert(num_accesses > 0)\n",
    "    mem_locations = accesses[0].shape[1]\n",
    "    res = np.zeros((num_accesses, mem_locations))\n",
    "    norms = []\n",
    "    for idx, access in enumerate(accesses):\n",
    "        assert(access.shape == (1, mem_locations))\n",
    "        res[idx] = access.w[0]\n",
    "        norms.append(np.linalg.norm(access.w[0]))\n",
    "    return res, norms\n",
    "\n",
    "def inspect(model):\n",
    "    start_prediction = D.Mat.ones((1,INPUT_SIZE), constant=True)\n",
    "    c = Capture()\n",
    "    with D.NoBackprop():\n",
    "        with c:\n",
    "            example = generate_example(INPUT_SIZE, MAX_TRAIN_SEQ_LENGTH)\n",
    "            state = model.initial_states()\n",
    "            for input_vec in example:\n",
    "                state = model.activate(input_vec, state)\n",
    "\n",
    "            state = model.activate(start_prediction, state)\n",
    "            for input_vec in example:\n",
    "                decoded = np.round(model.decode(state).sigmoid().w)\n",
    "                print(\"input_vec\", input_vec.w[0])\n",
    "                print(\"decoded  \",   decoded[0])\n",
    "                print(\"\")\n",
    "                state = model.activate(start_prediction, state)\n",
    "    reads, read_norms  = combine_access(c.state[\"read_head_weights\"])\n",
    "    writes, write_norms = combine_access(c.state[\"write_head_weights\"])\n",
    "    \n",
    "    print(c.state.keys())\n",
    "    \n",
    "    plt.figure()\n",
    "    r = plt.matshow(reads)\n",
    "    plt.title(\"Read locations\")\n",
    "    plt.colorbar(r)\n",
    "    \n",
    "    read_contents, _ = combine_access(c.state[\"read_head_content\"])\n",
    "    plt.figure()\n",
    "    r = plt.matshow(read_contents)\n",
    "    plt.title(\"Read contents\")\n",
    "    plt.colorbar(r)\n",
    "    \n",
    "    plt.figure()\n",
    "    w = plt.matshow(writes)\n",
    "    plt.title(\"Write locations\")\n",
    "    plt.colorbar(w)\n",
    "    \n",
    "    write_contents, _ = combine_access(c.state[\"write_head_content\"])\n",
    "    plt.figure()\n",
    "    r = plt.matshow(write_contents)\n",
    "    plt.title(\"Write contents\")\n",
    "    plt.colorbar(r)\n",
    "    \n",
    "    for idx, (read_n, write_n) in enumerate(zip(read_norms, write_norms)):\n",
    "        print(\"At tstep %d READ: %.3f, WRITE: %.3f\" % (idx, read_n, write_n))\n",
    "\n",
    "inspect(ntm_model)"
   ]
  },
  {
   "cell_type": "code",
   "execution_count": null,
   "metadata": {
    "collapsed": false
   },
   "outputs": [],
   "source": [
    "c.state[\"read_head\"][1].shape"
   ]
  },
  {
   "cell_type": "code",
   "execution_count": null,
   "metadata": {
    "collapsed": false
   },
   "outputs": [],
   "source": [
    "ntm_model.__class__ = NTM\n",
    "for h in ntm_model.read_heads:\n",
    "    h.__class__ = NTMReadHead\n",
    "for h in ntm_model.write_heads:\n",
    "    h.__class__ = NTMWriteHead"
   ]
  },
  {
   "cell_type": "code",
   "execution_count": null,
   "metadata": {
    "collapsed": false
   },
   "outputs": [],
   "source": [
    "ntm_model.write_heads[0].__class__ = NTMWriteHead"
   ]
  },
  {
   "cell_type": "code",
   "execution_count": null,
   "metadata": {
    "collapsed": false
   },
   "outputs": [],
   "source": [
    "A = D.Mat([[1,1,1],[2,2,2]])\n",
    "B = D.Mat([[1,2,3]])"
   ]
  },
  {
   "cell_type": "code",
   "execution_count": null,
   "metadata": {
    "collapsed": false
   },
   "outputs": [],
   "source": [
    "print(A.w)\n",
    "print(B.w)\n",
    "A/ D.MatOps.broadcast(B, axis=0, num_replicas=2)"
   ]
  },
  {
   "cell_type": "code",
   "execution_count": null,
   "metadata": {
    "collapsed": false
   },
   "outputs": [],
   "source": [
    "A.w.mean(axis=0)"
   ]
  },
  {
   "cell_type": "code",
   "execution_count": null,
   "metadata": {
    "collapsed": false
   },
   "outputs": [],
   "source": [
    "A.softplus()"
   ]
  },
  {
   "cell_type": "code",
   "execution_count": null,
   "metadata": {
    "collapsed": false
   },
   "outputs": [],
   "source": [
    "A = D.Mat([1,2,3])"
   ]
  },
  {
   "cell_type": "code",
   "execution_count": null,
   "metadata": {
    "collapsed": false
   },
   "outputs": [],
   "source": [
    "D.Mat([1,2,3]) * D.Mat([2])"
   ]
  },
  {
   "cell_type": "code",
   "execution_count": null,
   "metadata": {
    "collapsed": false
   },
   "outputs": [],
   "source": [
    "x = D.random.uniform(-1,1, (1,1)).sum(0)"
   ]
  },
  {
   "cell_type": "code",
   "execution_count": null,
   "metadata": {
    "collapsed": false
   },
   "outputs": [],
   "source": [
    "D.MatOps.broadcast(x, axis=0, num_replicas=20)"
   ]
  },
  {
   "cell_type": "code",
   "execution_count": null,
   "metadata": {
    "collapsed": true
   },
   "outputs": [],
   "source": [
    "x = D.random.uniform(-1,1, (1,2))\n",
    "y = D.random.uniform(-1,1, (1,3))"
   ]
  },
  {
   "cell_type": "code",
   "execution_count": null,
   "metadata": {
    "collapsed": false
   },
   "outputs": [],
   "source": [
    "x"
   ]
  },
  {
   "cell_type": "code",
   "execution_count": null,
   "metadata": {
    "collapsed": false
   },
   "outputs": [],
   "source": [
    "y"
   ]
  },
  {
   "cell_type": "code",
   "execution_count": null,
   "metadata": {
    "collapsed": false
   },
   "outputs": [],
   "source": []
  },
  {
   "cell_type": "code",
   "execution_count": null,
   "metadata": {
    "collapsed": false
   },
   "outputs": [],
   "source": [
    "y.dot(x)"
   ]
  },
  {
   "cell_type": "code",
   "execution_count": null,
   "metadata": {
    "collapsed": false
   },
   "outputs": [],
   "source": [
    "ax = plt.subplots(2,2)"
   ]
  },
  {
   "cell_type": "code",
   "execution_count": null,
   "metadata": {
    "collapsed": false
   },
   "outputs": [],
   "source": [
    "ax"
   ]
  },
  {
   "cell_type": "code",
   "execution_count": null,
   "metadata": {
    "collapsed": false
   },
   "outputs": [],
   "source": [
    "1.0 - D.Mat.ones((2,3))"
   ]
  },
  {
   "cell_type": "code",
   "execution_count": null,
   "metadata": {
    "collapsed": true
   },
   "outputs": [],
   "source": []
  }
 ],
 "metadata": {
  "kernelspec": {
   "display_name": "Python 3",
   "language": "python",
   "name": "python3"
  },
  "language_info": {
   "codemirror_mode": {
    "name": "ipython",
    "version": 3
   },
   "file_extension": ".py",
   "mimetype": "text/x-python",
   "name": "python",
   "nbconvert_exporter": "python",
   "pygments_lexer": "ipython3",
   "version": "3.4.1"
  }
 },
 "nbformat": 4,
 "nbformat_minor": 0
}
