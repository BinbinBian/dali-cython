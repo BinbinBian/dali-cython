{
 "cells": [
  {
   "cell_type": "code",
   "execution_count": 120,
   "metadata": {
    "collapsed": false
   },
   "outputs": [
    {
     "name": "stdout",
     "output_type": "stream",
     "text": [
      "The autoreload extension is already loaded. To reload it, use:\n",
      "  %reload_ext autoreload\n"
     ]
    }
   ],
   "source": [
    "import sys\n",
    "sys.path.append('..')\n",
    "%load_ext autoreload\n",
    "%autoreload 2"
   ]
  },
  {
   "cell_type": "code",
   "execution_count": 121,
   "metadata": {
    "collapsed": false
   },
   "outputs": [],
   "source": [
    "import numpy as np\n",
    "import math\n",
    "import matplotlib.pyplot as plt\n",
    "import random\n",
    "import time\n",
    "import dill as pickle\n",
    "\n",
    "from IPython.display import clear_output\n",
    "\n",
    "import dali.core as D\n",
    "import dali\n",
    "from dali.data import Lines, Process, DiscoverFiles, BatchBenefactor, IdentityReducer\n",
    "from dali.data.batch import TranslationBatch\n",
    "from dali.data.translation import TranslationFiles, TranslationMapper, build_vocabs, iterate_examples\n",
    "from dali.utils.scoring import bleu, ErrorTracker\n",
    "from dali.utils import (\n",
    "    Vocab,\n",
    "    Solver,\n",
    "    median_smoothing,\n",
    "    subsample,\n",
    "    Throttled,\n",
    "    pickle_globals,\n",
    "    unpickle_globals,\n",
    ")\n",
    "from dali import beam_search\n",
    "\n",
    "%matplotlib inline"
   ]
  },
  {
   "cell_type": "code",
   "execution_count": 122,
   "metadata": {
    "collapsed": false
   },
   "outputs": [
    {
     "name": "stdout",
     "output_type": "stream",
     "text": [
      "b'Quadro K2000M'\n"
     ]
    }
   ],
   "source": [
    "GPU_ID = 0\n",
    "D.config.default_device = 'gpu'\n",
    "D.config.default_gpu    = GPU_ID\n",
    "print(D.config.gpu_id_to_name(GPU_ID))"
   ]
  },
  {
   "cell_type": "code",
   "execution_count": 160,
   "metadata": {
    "collapsed": false
   },
   "outputs": [
    {
     "data": {
      "text/plain": [
       "[[\n",
       "     [  1.000   0.000]\n",
       "     [  1.000   0.000]\n",
       "     [  0.000   1.000]\n",
       "     [  1.000   0.000]\n",
       " ], [\n",
       "     [  1.000   0.000]\n",
       "     [  0.000   0.000]\n",
       "     [  1.000   1.000]\n",
       "     [  0.000   0.000]\n",
       " ], [\n",
       "     [  1.000   1.000]\n",
       "     [  0.000   1.000]\n",
       "     [  1.000   1.000]\n",
       "     [  0.000   0.000]\n",
       " ], [\n",
       "     [  1.000   1.000]\n",
       "     [  0.000   1.000]\n",
       "     [  0.000   1.000]\n",
       "     [  1.000   1.000]\n",
       " ]]"
      ]
     },
     "execution_count": 160,
     "metadata": {},
     "output_type": "execute_result"
    }
   ],
   "source": [
    "generate_example(2, 4, 4)"
   ]
  },
  {
   "cell_type": "code",
   "execution_count": 170,
   "metadata": {
    "collapsed": false
   },
   "outputs": [],
   "source": [
    "def generate_example(item_size, num_items, batch_size = 1):\n",
    "    return [ D.Mat(np.random.binomial(1, 0.5, (batch_size, item_size)), dtype=np.float32) for _ in range(num_items) ]\n",
    "\n",
    "def list_norm(xs):\n",
    "    squared_sum = np.sqrt(sum((x.dw ** 2).sum() for x in xs))\n",
    "    return squared_sum\n",
    "\n",
    "\n",
    "def evaluate_copy(model, solver, input_size, max_train_seq_length, batch_size=1,\n",
    "                  epochs=100000, curriculum_epochs=10000, debug=False):    \n",
    "    start_prediction = D.Mat.ones((1,input_size), constant=True)\n",
    "    \n",
    "    def test(model, max_train_seq_length):\n",
    "        with D.NoBackprop():\n",
    "            for test_len in [max_train_seq_length // 2, max_train_seq_length, max_train_seq_length * 2]:\n",
    "                print (\"    Testing sequence length %d: \" % (test_len,))\n",
    "\n",
    "                NUM_TRIES = 10\n",
    "\n",
    "                num_bits_correct = 0\n",
    "\n",
    "                for _ in range(NUM_TRIES):\n",
    "                    example = generate_example(input_size, test_len)\n",
    "                    state = model.initial_states()\n",
    "                    for input_vec in example:\n",
    "                        state = model.activate(input_vec, state)\n",
    "\n",
    "                    state = model.activate(start_prediction, state)\n",
    "                    for input_vec in example:\n",
    "                        decoded = np.round(model.decode(state).sigmoid().w)\n",
    "                        num_bits_correct += sum(sum(np.abs(decoded - input_vec.w)))\n",
    "                        state = model.activate(start_prediction, state)\n",
    "\n",
    "                        \n",
    "                print('        Cost per sequence: %f (chance: %f)' % (num_bits_correct / NUM_TRIES, \n",
    "                                                                      test_len * input_size / 2))\n",
    "    \n",
    "    params = model.parameters()\n",
    "    \n",
    "    not_too_often = Throttled(1)\n",
    "    test_freqency = Throttled(30)\n",
    "    errors = []\n",
    "    \n",
    "    recent_error = None;\n",
    "    alpha = 0.95\n",
    "    \n",
    "    for epoch in range(epochs):\n",
    "        try:\n",
    "            max_len = int(max_train_seq_length * (epoch / curriculum_epochs)) + 1\n",
    "            max_len = max(1, min(max_train_seq_length, max_len))\n",
    "\n",
    "            example = generate_example(input_size, random.randint(1, max_len), BATCH_SIZE)\n",
    "            state = model.initial_states()\n",
    "            for input_vec in example:\n",
    "                state = model.activate(input_vec, state)\n",
    "\n",
    "            state = model.activate(start_prediction, state)\n",
    "            error = D.Mat.zeros((1,1), constant=True)\n",
    "            for input_idx, input_vec in enumerate(example):\n",
    "                decoded = model.decode(state)\n",
    "                #error = error + D.MatOps.sigmoid_binary_cross_entropy(decoded, input_vec).sum()\n",
    "                error = error + ((decoded.sigmoid() - input_vec)**2).sum()\n",
    "                if input_idx + 1 != len(example):\n",
    "                    state = model.activate(start_prediction, state)\n",
    "\n",
    "            (error / BATCH_SIZE).grad()\n",
    "            D.Graph.backward()\n",
    "            solver.step(params)\n",
    "            \n",
    "            errors.append(error.w[0,0] / BATCH_SIZE)\n",
    "            if debug:\n",
    "                return errors\n",
    "            if not_too_often.should_i_run():\n",
    "                recent_error = (errors[-1] if recent_error is None else recent_error) * alpha + errors[-1] * (1-alpha)\n",
    "                print('Epoch %d (%d processed examples, curriculum: %d), error: %f' % (epoch, \n",
    "                                                                                       epoch*BATCH_SIZE,\n",
    "                                                                                       max_len,\n",
    "                                                                                       recent_error))\n",
    "            if test_freqency.should_i_run():\n",
    "                test(model, max_train_seq_length)\n",
    "            if solver.solver_type == 'adagrad' and epoch % 1000 == 0:\n",
    "                solver.reset_caches(params)\n",
    "            \n",
    "        except KeyboardInterrupt:\n",
    "            print(\"Early stopping\")\n",
    "            test(model, max_train_seq_length)\n",
    "            break\n",
    "    test(model, max_train_seq_length)\n",
    "    return errors\n",
    "    "
   ]
  },
  {
   "cell_type": "code",
   "execution_count": 171,
   "metadata": {
    "collapsed": true
   },
   "outputs": [],
   "source": [
    "class LSTMBaseline(object):\n",
    "    def __init__(self, input_size, hiddens, output_size):\n",
    "        self.lstm    = D.StackedLSTM(input_size, hiddens)\n",
    "        self.decoder = D.Layer(sum(hiddens), output_size)\n",
    "        \n",
    "    def activate(self, input_vec, previous_state):\n",
    "        return self.lstm.activate(input_vec, previous_state)\n",
    "    \n",
    "    def decode(self, state):\n",
    "        return self.decoder.activate(D.MatOps.hstack([s.hidden for s in state]))\n",
    "    \n",
    "    def parameters(self):\n",
    "        return self.lstm.parameters() + self.decoder.parameters()\n",
    "    \n",
    "    def initial_states(self):\n",
    "        return self.lstm.initial_states()"
   ]
  },
  {
   "cell_type": "code",
   "execution_count": 173,
   "metadata": {
    "collapsed": false
   },
   "outputs": [
    {
     "name": "stdout",
     "output_type": "stream",
     "text": [
      "Epoch 0 (0 processed examples, curriculum: 1), error: 0.998558\n",
      "    Testing sequence length 2: \n",
      "        Cost per sequence: 4.900000 (chance: 4.000000)\n",
      "    Testing sequence length 5: \n",
      "        Cost per sequence: 8.800000 (chance: 10.000000)\n",
      "    Testing sequence length 10: \n",
      "        Cost per sequence: 19.800000 (chance: 20.000000)\n",
      "Epoch 1 (20 processed examples, curriculum: 1), error: 0.998728\n",
      "Epoch 37 (740 processed examples, curriculum: 1), error: 0.998720\n",
      "Epoch 73 (1460 processed examples, curriculum: 1), error: 0.998736\n",
      "Epoch 108 (2160 processed examples, curriculum: 1), error: 0.998297\n",
      "Epoch 144 (2880 processed examples, curriculum: 1), error: 0.997381\n",
      "Epoch 180 (3600 processed examples, curriculum: 1), error: 0.997023\n",
      "Epoch 216 (4320 processed examples, curriculum: 1), error: 0.995774\n",
      "Epoch 252 (5040 processed examples, curriculum: 1), error: 0.994375\n",
      "Epoch 288 (5760 processed examples, curriculum: 1), error: 0.992565\n",
      "Epoch 324 (6480 processed examples, curriculum: 1), error: 0.989766\n",
      "Epoch 360 (7200 processed examples, curriculum: 1), error: 0.986423\n",
      "Epoch 396 (7920 processed examples, curriculum: 1), error: 0.981174\n",
      "Epoch 431 (8620 processed examples, curriculum: 1), error: 0.975116\n",
      "Epoch 467 (9340 processed examples, curriculum: 1), error: 0.967600\n",
      "Epoch 502 (10040 processed examples, curriculum: 1), error: 0.956714\n",
      "Epoch 538 (10760 processed examples, curriculum: 1), error: 0.943246\n",
      "Epoch 574 (11480 processed examples, curriculum: 1), error: 0.925812\n",
      "Epoch 610 (12200 processed examples, curriculum: 1), error: 0.903104\n",
      "Epoch 645 (12900 processed examples, curriculum: 1), error: 0.877035\n",
      "Epoch 680 (13600 processed examples, curriculum: 1), error: 0.846220\n",
      "Epoch 715 (14300 processed examples, curriculum: 1), error: 0.812845\n",
      "Epoch 745 (14900 processed examples, curriculum: 1), error: 0.776794\n",
      "Epoch 777 (15540 processed examples, curriculum: 1), error: 0.740431\n",
      "Epoch 813 (16260 processed examples, curriculum: 1), error: 0.704777\n",
      "Epoch 849 (16980 processed examples, curriculum: 1), error: 0.670053\n",
      "Epoch 885 (17700 processed examples, curriculum: 1), error: 0.636715\n",
      "Epoch 920 (18400 processed examples, curriculum: 1), error: 0.604985\n",
      "Epoch 955 (19100 processed examples, curriculum: 1), error: 0.574759\n",
      "Epoch 987 (19740 processed examples, curriculum: 1), error: 0.546034\n",
      "    Testing sequence length 2: \n",
      "        Cost per sequence: 2.200000 (chance: 4.000000)\n",
      "    Testing sequence length 5: \n",
      "        Cost per sequence: 7.800000 (chance: 10.000000)\n",
      "    Testing sequence length 10: \n",
      "        Cost per sequence: 16.900000 (chance: 20.000000)\n",
      "Epoch 993 (19860 processed examples, curriculum: 1), error: 0.518743\n",
      "Epoch 1018 (20360 processed examples, curriculum: 2), error: 0.581161\n",
      "Epoch 1040 (20800 processed examples, curriculum: 2), error: 0.629417\n",
      "Epoch 1066 (21320 processed examples, curriculum: 2), error: 0.597961\n",
      "Epoch 1090 (21800 processed examples, curriculum: 2), error: 0.659401\n",
      "Epoch 1119 (22380 processed examples, curriculum: 2), error: 0.626472\n",
      "Epoch 1144 (22880 processed examples, curriculum: 2), error: 0.683319\n",
      "Epoch 1168 (23360 processed examples, curriculum: 2), error: 0.735206\n",
      "Epoch 1193 (23860 processed examples, curriculum: 2), error: 0.787417\n",
      "Epoch 1218 (24360 processed examples, curriculum: 2), error: 0.810471\n",
      "Epoch 1244 (24880 processed examples, curriculum: 2), error: 0.769956\n",
      "Epoch 1271 (25420 processed examples, curriculum: 2), error: 0.796540\n",
      "Epoch 1296 (25920 processed examples, curriculum: 2), error: 0.756776\n",
      "Epoch 1318 (26360 processed examples, curriculum: 2), error: 0.795579\n",
      "Epoch 1344 (26880 processed examples, curriculum: 2), error: 0.828644\n",
      "Epoch 1367 (27340 processed examples, curriculum: 2), error: 0.872692\n",
      "Epoch 1390 (27800 processed examples, curriculum: 2), error: 0.829059\n",
      "Epoch 1412 (28240 processed examples, curriculum: 2), error: 0.787610\n",
      "Epoch 1434 (28680 processed examples, curriculum: 2), error: 0.815451\n",
      "Epoch 1457 (29140 processed examples, curriculum: 2), error: 0.829382\n",
      "Epoch 1481 (29620 processed examples, curriculum: 2), error: 0.863111\n",
      "Epoch 1504 (30080 processed examples, curriculum: 2), error: 0.819956\n",
      "Epoch 1528 (30560 processed examples, curriculum: 2), error: 0.778958\n",
      "Epoch 1553 (31060 processed examples, curriculum: 2), error: 0.818528\n",
      "Epoch 1577 (31540 processed examples, curriculum: 2), error: 0.777602\n",
      "Epoch 1603 (32060 processed examples, curriculum: 2), error: 0.738722\n",
      "Epoch 1628 (32560 processed examples, curriculum: 2), error: 0.781974\n",
      "Epoch 1653 (33060 processed examples, curriculum: 2), error: 0.742875\n",
      "Epoch 1676 (33520 processed examples, curriculum: 2), error: 0.785039\n",
      "    Testing sequence length 2: \n",
      "        Cost per sequence: 1.400000 (chance: 4.000000)\n",
      "    Testing sequence length 5: \n",
      "        Cost per sequence: 9.300000 (chance: 10.000000)\n",
      "    Testing sequence length 10: \n",
      "        Cost per sequence: 20.800000 (chance: 20.000000)\n",
      "Epoch 1678 (33560 processed examples, curriculum: 2), error: 0.745788\n",
      "Epoch 1701 (34020 processed examples, curriculum: 2), error: 0.708498\n",
      "Epoch 1723 (34460 processed examples, curriculum: 2), error: 0.673073\n",
      "Epoch 1744 (34880 processed examples, curriculum: 2), error: 0.696885\n",
      "Epoch 1766 (35320 processed examples, curriculum: 2), error: 0.712337\n",
      "Epoch 1788 (35760 processed examples, curriculum: 2), error: 0.739450\n",
      "Epoch 1811 (36220 processed examples, curriculum: 2), error: 0.702477\n",
      "Epoch 1833 (36660 processed examples, curriculum: 2), error: 0.705983\n",
      "Epoch 1857 (37140 processed examples, curriculum: 2), error: 0.733096\n",
      "Epoch 1882 (37640 processed examples, curriculum: 2), error: 0.755059\n",
      "Epoch 1904 (38080 processed examples, curriculum: 2), error: 0.717306\n",
      "Epoch 1926 (38520 processed examples, curriculum: 2), error: 0.733838\n",
      "Epoch 1947 (38940 processed examples, curriculum: 2), error: 0.753997\n",
      "Epoch 1970 (39400 processed examples, curriculum: 2), error: 0.716297\n",
      "Epoch 1991 (39820 processed examples, curriculum: 2), error: 0.743948\n",
      "Epoch 2010 (40200 processed examples, curriculum: 3), error: 0.771297\n",
      "Epoch 2028 (40560 processed examples, curriculum: 3), error: 0.788305\n",
      "Epoch 2046 (40920 processed examples, curriculum: 3), error: 0.810659\n",
      "Epoch 2067 (41340 processed examples, curriculum: 3), error: 0.959498\n",
      "Epoch 2086 (41720 processed examples, curriculum: 3), error: 1.100464\n",
      "Epoch 2104 (42080 processed examples, curriculum: 3), error: 1.224310\n",
      "Epoch 2120 (42400 processed examples, curriculum: 3), error: 1.312990\n",
      "Epoch 2138 (42760 processed examples, curriculum: 3), error: 1.333546\n",
      "Epoch 2158 (43160 processed examples, curriculum: 3), error: 1.266869\n",
      "Epoch 2177 (43540 processed examples, curriculum: 3), error: 1.203525\n",
      "Epoch 2197 (43940 processed examples, curriculum: 3), error: 1.284327\n",
      "Epoch 2215 (44300 processed examples, curriculum: 3), error: 1.306213\n",
      "Epoch 2233 (44660 processed examples, curriculum: 3), error: 1.326339\n",
      "    Testing sequence length 2: \n",
      "        Cost per sequence: 2.000000 (chance: 4.000000)\n",
      "    Testing sequence length 5: \n",
      "        Cost per sequence: 8.400000 (chance: 10.000000)\n",
      "    Testing sequence length 10: \n",
      "        Cost per sequence: 19.100000 (chance: 20.000000)\n",
      "Epoch 2244 (44880 processed examples, curriculum: 3), error: 1.424349\n",
      "Epoch 2262 (45240 processed examples, curriculum: 3), error: 1.353132\n",
      "Epoch 2280 (45600 processed examples, curriculum: 3), error: 1.360621\n",
      "Epoch 2298 (45960 processed examples, curriculum: 3), error: 1.360044\n",
      "Epoch 2314 (46280 processed examples, curriculum: 3), error: 1.374805\n",
      "Epoch 2333 (46660 processed examples, curriculum: 3), error: 1.484858\n",
      "Epoch 2355 (47100 processed examples, curriculum: 3), error: 1.568187\n",
      "Epoch 2371 (47420 processed examples, curriculum: 3), error: 1.585122\n",
      "Epoch 2387 (47740 processed examples, curriculum: 3), error: 1.664795\n",
      "Epoch 2405 (48100 processed examples, curriculum: 3), error: 1.667077\n",
      "Epoch 2423 (48460 processed examples, curriculum: 3), error: 1.666765\n",
      "Epoch 2440 (48800 processed examples, curriculum: 3), error: 1.757579\n",
      "Epoch 2458 (49160 processed examples, curriculum: 3), error: 1.669700\n",
      "Epoch 2475 (49500 processed examples, curriculum: 3), error: 1.687101\n",
      "Epoch 2492 (49840 processed examples, curriculum: 3), error: 1.776019\n",
      "Epoch 2507 (50140 processed examples, curriculum: 3), error: 1.756936\n",
      "Epoch 2526 (50520 processed examples, curriculum: 3), error: 1.669089\n",
      "Epoch 2544 (50880 processed examples, curriculum: 3), error: 1.652225\n",
      "Epoch 2564 (51280 processed examples, curriculum: 3), error: 1.771013\n",
      "Epoch 2582 (51640 processed examples, curriculum: 3), error: 1.755860\n",
      "Epoch 2598 (51960 processed examples, curriculum: 3), error: 1.835262\n",
      "Epoch 2615 (52300 processed examples, curriculum: 3), error: 1.916249\n",
      "Epoch 2633 (52660 processed examples, curriculum: 3), error: 1.898344\n",
      "Epoch 2650 (53000 processed examples, curriculum: 3), error: 1.803427\n",
      "Epoch 2666 (53320 processed examples, curriculum: 3), error: 1.910605\n",
      "Epoch 2682 (53640 processed examples, curriculum: 3), error: 1.977355\n",
      "Epoch 2697 (53940 processed examples, curriculum: 3), error: 2.035219\n",
      "Epoch 2712 (54240 processed examples, curriculum: 3), error: 1.933458\n",
      "    Testing sequence length 2: \n",
      "        Cost per sequence: 1.400000 (chance: 4.000000)\n",
      "    Testing sequence length 5: \n",
      "        Cost per sequence: 9.600000 (chance: 10.000000)\n",
      "    Testing sequence length 10: \n",
      "        Cost per sequence: 21.600000 (chance: 20.000000)\n",
      "Epoch 2727 (54540 processed examples, curriculum: 3), error: 2.008887\n",
      "Epoch 2740 (54800 processed examples, curriculum: 3), error: 2.081835\n",
      "Epoch 2756 (55120 processed examples, curriculum: 3), error: 1.977744\n",
      "Epoch 2774 (55480 processed examples, curriculum: 3), error: 1.878858\n",
      "Epoch 2794 (55880 processed examples, curriculum: 3), error: 1.955995\n",
      "Epoch 2812 (56240 processed examples, curriculum: 3), error: 2.017640\n",
      "Epoch 2829 (56580 processed examples, curriculum: 3), error: 1.991864\n",
      "Epoch 2848 (56960 processed examples, curriculum: 3), error: 2.043667\n",
      "Epoch 2867 (57340 processed examples, curriculum: 3), error: 1.941483\n",
      "Epoch 2885 (57700 processed examples, curriculum: 3), error: 1.980945\n",
      "Epoch 2902 (58040 processed examples, curriculum: 3), error: 2.037803\n",
      "Epoch 2922 (58440 processed examples, curriculum: 3), error: 2.010453\n",
      "Epoch 2941 (58820 processed examples, curriculum: 3), error: 2.072088\n",
      "Epoch 2959 (59180 processed examples, curriculum: 3), error: 2.121595\n",
      "Epoch 2978 (59560 processed examples, curriculum: 3), error: 2.105270\n",
      "Epoch 2997 (59940 processed examples, curriculum: 3), error: 2.158182\n",
      "Epoch 3012 (60240 processed examples, curriculum: 4), error: 2.050273\n",
      "Epoch 3027 (60540 processed examples, curriculum: 4), error: 2.201136\n",
      "Epoch 3042 (60840 processed examples, curriculum: 4), error: 2.244838\n",
      "Early stopping\n",
      "    Testing sequence length 2: \n",
      "        Cost per sequence: 1.400000 (chance: 4.000000)\n",
      "    Testing sequence length 5: \n",
      "        Cost per sequence: 7.200000 (chance: 10.000000)\n",
      "    Testing sequence length 10: \n",
      "        Cost per sequence: 21.200000 (chance: 20.000000)\n",
      "    Testing sequence length 2: \n",
      "        Cost per sequence: 2.100000 (chance: 4.000000)\n",
      "    Testing sequence length 5: \n",
      "        Cost per sequence: 8.300000 (chance: 10.000000)\n",
      "    Testing sequence length 10: \n",
      "        Cost per sequence: 20.200000 (chance: 20.000000)\n"
     ]
    }
   ],
   "source": [
    "INPUT_SIZE           = 4\n",
    "MAX_TRAIN_SEQ_LENGTH = 5\n",
    "\n",
    "\n",
    "HIDDENS  = [256, 256, 256]\n",
    "BATCH_SIZE  = 20\n",
    "baseline_model = LSTMBaseline(INPUT_SIZE, HIDDENS, INPUT_SIZE)\n",
    "##solver = Solver(\"rmsprop\", learning_rate=0.00003, decay_rate=0.9, smooth_eps=1e-4)\n",
    "solver = Solver(\"rmsprop\", learning_rate=0.0001, decay_rate=0.9, smooth_eps=1e-4, clipval=10.0)\n",
    "\n",
    "errors = evaluate_copy(baseline_model, solver, INPUT_SIZE, MAX_TRAIN_SEQ_LENGTH, batch_size=BATCH_SIZE,\n",
    "                      epochs=10000, curriculum_epochs=5000)"
   ]
  },
  {
   "cell_type": "code",
   "execution_count": 175,
   "metadata": {
    "collapsed": true
   },
   "outputs": [],
   "source": [
    "class GRUBaseline(object):\n",
    "    def __init__(self, input_size, hidden, output_size):\n",
    "        self.seq    = D.GRU(input_size, hidden)\n",
    "        self.decoder = D.Layer(hidden, output_size)\n",
    "        \n",
    "    def activate(self, input_vec, previous_state):\n",
    "        return self.seq.activate(input_vec, previous_state)\n",
    "    \n",
    "    def decode(self, state):\n",
    "        return self.decoder.activate(state)\n",
    "    \n",
    "    def parameters(self):\n",
    "        return self.seq.parameters() + self.decoder.parameters()\n",
    "    \n",
    "    def initial_states(self):\n",
    "        return self.seq.initial_states()"
   ]
  },
  {
   "cell_type": "code",
   "execution_count": 176,
   "metadata": {
    "collapsed": false
   },
   "outputs": [
    {
     "name": "stdout",
     "output_type": "stream",
     "text": [
      "Epoch 0 (0 processed examples, curriculum: 1), error: 1.007807\n",
      "    Testing sequence length 2: \n",
      "        Cost per sequence: 3.900000 (chance: 4.000000)\n",
      "    Testing sequence length 5: \n",
      "        Cost per sequence: 8.600000 (chance: 10.000000)\n",
      "    Testing sequence length 10: \n",
      "        Cost per sequence: 20.400000 (chance: 20.000000)\n",
      "Epoch 141 (2820 processed examples, curriculum: 1), error: 1.006281\n",
      "Epoch 327 (6540 processed examples, curriculum: 1), error: 0.999587\n",
      "Epoch 513 (10260 processed examples, curriculum: 1), error: 0.983540\n",
      "Epoch 698 (13960 processed examples, curriculum: 1), error: 0.952478\n",
      "Epoch 883 (17660 processed examples, curriculum: 1), error: 0.909743\n",
      "Epoch 1055 (21100 processed examples, curriculum: 2), error: 0.864641\n",
      "Epoch 1198 (23960 processed examples, curriculum: 2), error: 0.892634\n",
      "Epoch 1337 (26740 processed examples, curriculum: 2), error: 0.900058\n",
      "Epoch 1484 (29680 processed examples, curriculum: 2), error: 0.855162\n",
      "Epoch 1628 (32560 processed examples, curriculum: 2), error: 0.876122\n",
      "Epoch 1770 (35400 processed examples, curriculum: 2), error: 0.870549\n",
      "Epoch 1910 (38200 processed examples, curriculum: 2), error: 0.881265\n",
      "Epoch 2039 (40780 processed examples, curriculum: 3), error: 0.837259\n",
      "Epoch 2155 (43100 processed examples, curriculum: 3), error: 0.865655\n",
      "Epoch 2265 (45300 processed examples, curriculum: 3), error: 0.822387\n",
      "Epoch 2377 (47540 processed examples, curriculum: 3), error: 0.781270\n",
      "Epoch 2493 (49860 processed examples, curriculum: 3), error: 0.896521\n",
      "Epoch 2607 (52140 processed examples, curriculum: 3), error: 0.918313\n",
      "Epoch 2713 (54260 processed examples, curriculum: 3), error: 0.966033\n",
      "Epoch 2824 (56480 processed examples, curriculum: 3), error: 1.084609\n",
      "Epoch 2937 (58740 processed examples, curriculum: 3), error: 1.189178\n",
      "Epoch 3044 (60880 processed examples, curriculum: 4), error: 1.370431\n",
      "Epoch 3135 (62700 processed examples, curriculum: 4), error: 1.451816\n",
      "Epoch 3238 (64760 processed examples, curriculum: 4), error: 1.547736\n",
      "Epoch 3338 (66760 processed examples, curriculum: 4), error: 1.736140\n",
      "Epoch 3438 (68760 processed examples, curriculum: 4), error: 1.907993\n",
      "Epoch 3534 (70680 processed examples, curriculum: 4), error: 1.973196\n",
      "Epoch 3631 (72620 processed examples, curriculum: 4), error: 2.107588\n",
      "Epoch 3733 (74660 processed examples, curriculum: 4), error: 2.069136\n",
      "    Testing sequence length 2: \n",
      "        Cost per sequence: 1.500000 (chance: 4.000000)\n",
      "    Testing sequence length 5: \n",
      "        Cost per sequence: 9.000000 (chance: 10.000000)\n",
      "    Testing sequence length 10: \n",
      "        Cost per sequence: 19.300000 (chance: 20.000000)\n",
      "Epoch 3811 (76220 processed examples, curriculum: 4), error: 1.965709\n",
      "Epoch 3905 (78100 processed examples, curriculum: 4), error: 2.093093\n",
      "Epoch 4001 (80020 processed examples, curriculum: 5), error: 2.197829\n",
      "Epoch 4081 (81620 processed examples, curriculum: 5), error: 2.308477\n",
      "Epoch 4166 (83320 processed examples, curriculum: 5), error: 2.477029\n",
      "Epoch 4253 (85060 processed examples, curriculum: 5), error: 2.630740\n",
      "Epoch 4333 (86660 processed examples, curriculum: 5), error: 2.706822\n",
      "Epoch 4411 (88220 processed examples, curriculum: 5), error: 2.842612\n",
      "Epoch 4490 (89800 processed examples, curriculum: 5), error: 2.820822\n",
      "Epoch 4575 (91500 processed examples, curriculum: 5), error: 2.964960\n",
      "Epoch 4656 (93120 processed examples, curriculum: 5), error: 3.101658\n",
      "Epoch 4730 (94600 processed examples, curriculum: 5), error: 3.146535\n",
      "Epoch 4809 (96180 processed examples, curriculum: 5), error: 3.271729\n",
      "Epoch 4887 (97740 processed examples, curriculum: 5), error: 3.179016\n",
      "Epoch 4970 (99400 processed examples, curriculum: 5), error: 3.145066\n",
      "Epoch 5054 (101080 processed examples, curriculum: 5), error: 3.259116\n",
      "Epoch 5140 (102800 processed examples, curriculum: 5), error: 3.227135\n",
      "Epoch 5224 (104480 processed examples, curriculum: 5), error: 3.331628\n",
      "Epoch 5311 (106220 processed examples, curriculum: 5), error: 3.348537\n",
      "Epoch 5387 (107740 processed examples, curriculum: 5), error: 3.181329\n",
      "Epoch 5464 (109280 processed examples, curriculum: 5), error: 3.285903\n",
      "Epoch 5537 (110740 processed examples, curriculum: 5), error: 3.230394\n",
      "Epoch 5624 (112480 processed examples, curriculum: 5), error: 3.191896\n",
      "Epoch 5705 (114100 processed examples, curriculum: 5), error: 3.074115\n",
      "Epoch 5795 (115900 processed examples, curriculum: 5), error: 2.920653\n",
      "Epoch 5876 (117520 processed examples, curriculum: 5), error: 3.028009\n",
      "Epoch 5957 (119140 processed examples, curriculum: 5), error: 3.042806\n",
      "Epoch 6039 (120780 processed examples, curriculum: 5), error: 2.890799\n",
      "Epoch 6121 (122420 processed examples, curriculum: 5), error: 2.883843\n",
      "Epoch 6199 (123980 processed examples, curriculum: 5), error: 2.975576\n",
      "    Testing sequence length 2: \n",
      "        Cost per sequence: 1.200000 (chance: 4.000000)\n",
      "    Testing sequence length 5: \n",
      "        Cost per sequence: 6.800000 (chance: 10.000000)\n",
      "    Testing sequence length 10: \n",
      "        Cost per sequence: 18.400000 (chance: 20.000000)\n",
      "Epoch 6258 (125160 processed examples, curriculum: 5), error: 2.922020\n",
      "Epoch 6340 (126800 processed examples, curriculum: 5), error: 2.817849\n",
      "Epoch 6421 (128420 processed examples, curriculum: 5), error: 2.929928\n",
      "Epoch 6505 (130100 processed examples, curriculum: 5), error: 3.039675\n",
      "Epoch 6586 (131720 processed examples, curriculum: 5), error: 3.006363\n",
      "Epoch 6667 (133340 processed examples, curriculum: 5), error: 2.955905\n",
      "Epoch 6749 (134980 processed examples, curriculum: 5), error: 2.852565\n",
      "Epoch 6827 (136540 processed examples, curriculum: 5), error: 2.969970\n",
      "Epoch 6904 (138080 processed examples, curriculum: 5), error: 3.000140\n",
      "Epoch 6991 (139820 processed examples, curriculum: 5), error: 3.092276\n",
      "Epoch 7074 (141480 processed examples, curriculum: 5), error: 3.096953\n",
      "Epoch 7154 (143080 processed examples, curriculum: 5), error: 3.182487\n",
      "Epoch 7241 (144820 processed examples, curriculum: 5), error: 3.143697\n",
      "Epoch 7324 (146480 processed examples, curriculum: 5), error: 3.207701\n",
      "Epoch 7410 (148200 processed examples, curriculum: 5), error: 3.214571\n",
      "Epoch 7484 (149680 processed examples, curriculum: 5), error: 3.294930\n",
      "Epoch 7562 (151240 processed examples, curriculum: 5), error: 3.296404\n",
      "Epoch 7644 (152880 processed examples, curriculum: 5), error: 3.230621\n",
      "Epoch 7727 (154540 processed examples, curriculum: 5), error: 3.238880\n",
      "Epoch 7795 (155900 processed examples, curriculum: 5), error: 3.172456\n",
      "Epoch 7884 (157680 processed examples, curriculum: 5), error: 3.264173\n",
      "Epoch 7961 (159220 processed examples, curriculum: 5), error: 3.272541\n",
      "Epoch 8040 (160800 processed examples, curriculum: 5), error: 3.323133\n",
      "Epoch 8122 (162440 processed examples, curriculum: 5), error: 3.309240\n",
      "Epoch 8198 (163960 processed examples, curriculum: 5), error: 3.371342\n",
      "Epoch 8272 (165440 processed examples, curriculum: 5), error: 3.202815\n",
      "Epoch 8349 (166980 processed examples, curriculum: 5), error: 3.271015\n",
      "Epoch 8438 (168760 processed examples, curriculum: 5), error: 3.137296\n",
      "Epoch 8518 (170360 processed examples, curriculum: 5), error: 3.060765\n",
      "Epoch 8603 (172060 processed examples, curriculum: 5), error: 3.064581\n",
      "    Testing sequence length 2: \n",
      "        Cost per sequence: 0.500000 (chance: 4.000000)\n",
      "    Testing sequence length 5: \n",
      "        Cost per sequence: 6.100000 (chance: 10.000000)\n",
      "    Testing sequence length 10: \n",
      "        Cost per sequence: 16.200000 (chance: 20.000000)\n",
      "Epoch 8663 (173260 processed examples, curriculum: 5), error: 2.911374\n",
      "Epoch 8737 (174740 processed examples, curriculum: 5), error: 2.864648\n",
      "Epoch 8817 (176340 processed examples, curriculum: 5), error: 2.750140\n",
      "Epoch 8888 (177760 processed examples, curriculum: 5), error: 2.873200\n",
      "Epoch 8968 (179360 processed examples, curriculum: 5), error: 2.893510\n",
      "Epoch 9049 (180980 processed examples, curriculum: 5), error: 2.748871\n",
      "Epoch 9131 (182620 processed examples, curriculum: 5), error: 2.852300\n",
      "Epoch 9208 (184160 processed examples, curriculum: 5), error: 2.854271\n",
      "Epoch 9295 (185900 processed examples, curriculum: 5), error: 2.845394\n",
      "Epoch 9379 (187580 processed examples, curriculum: 5), error: 2.840664\n",
      "Epoch 9463 (189260 processed examples, curriculum: 5), error: 2.931120\n",
      "Epoch 9543 (190860 processed examples, curriculum: 5), error: 2.784592\n",
      "Epoch 9624 (192480 processed examples, curriculum: 5), error: 2.880349\n",
      "Epoch 9704 (194080 processed examples, curriculum: 5), error: 2.879215\n",
      "Epoch 9783 (195660 processed examples, curriculum: 5), error: 2.960717\n",
      "Epoch 9864 (197280 processed examples, curriculum: 5), error: 2.812695\n",
      "Epoch 9942 (198840 processed examples, curriculum: 5), error: 2.753465\n",
      "    Testing sequence length 2: \n",
      "        Cost per sequence: 0.500000 (chance: 4.000000)\n",
      "    Testing sequence length 5: \n",
      "        Cost per sequence: 4.700000 (chance: 10.000000)\n",
      "    Testing sequence length 10: \n",
      "        Cost per sequence: 17.800000 (chance: 20.000000)\n"
     ]
    }
   ],
   "source": [
    "INPUT_SIZE           = 4\n",
    "MAX_TRAIN_SEQ_LENGTH = 5\n",
    "\n",
    "\n",
    "HIDDEN  = 256\n",
    "BATCH_SIZE  = 20\n",
    "baseline_model = GRUBaseline(INPUT_SIZE, HIDDEN, INPUT_SIZE)\n",
    "##solver = Solver(\"rmsprop\", learning_rate=0.00003, decay_rate=0.9, smooth_eps=1e-4)\n",
    "solver = Solver(\"rmsprop\", learning_rate=0.0001, decay_rate=0.9, smooth_eps=1e-4, clipval=10.0)\n",
    "\n",
    "errors = evaluate_copy(baseline_model, solver, INPUT_SIZE, MAX_TRAIN_SEQ_LENGTH, batch_size=BATCH_SIZE,\n",
    "                      epochs=10000, curriculum_epochs=5000)"
   ]
  },
  {
   "cell_type": "code",
   "execution_count": null,
   "metadata": {
    "collapsed": true
   },
   "outputs": [],
   "source": [
    "from collections import defaultdict\n",
    "\n",
    "class Capture(object):\n",
    "    instances = set()\n",
    "    \n",
    "    def __init__(self):\n",
    "        self.state = defaultdict(lambda: [])\n",
    "        \n",
    "    @classmethod\n",
    "    def add(cls, name, value):\n",
    "        for instance in cls.instances:\n",
    "            instance.state[name].append(value)\n",
    "    \n",
    "    def __enter__(self):\n",
    "        Capture.instances.add(self)\n",
    "    \n",
    "    def __exit__(self, *args, **kwargs):\n",
    "        Capture.instances.remove(self)"
   ]
  },
  {
   "cell_type": "code",
   "execution_count": null,
   "metadata": {
    "collapsed": true
   },
   "outputs": [],
   "source": [
    "class MLP(object):\n",
    "    def __init__(self, input_sizes, hiddens, nonlinearities):\n",
    "        self.input_sizes = input_sizes\n",
    "        self.hiddens = hiddens\n",
    "        self.input_nonlinearity, self.layer_nonlinearities = nonlinearities[0], nonlinearities[1:]\n",
    "        \n",
    "        self.input_layer = D.StackedInputLayer(input_sizes, hiddens[0])\n",
    "        self.layers = [D.Layer(h_from, h_to) for h_from, h_to in zip(hiddens[:-1], hiddens[1:])]\n",
    "        \n",
    "    def activate(self, inputs):\n",
    "        assert len(self.layers) == len(self.layer_nonlinearities)\n",
    "        hidden = self.input_nonlinearity(self.input_layer.activate(inputs))\n",
    "        for l, nonlinearity in zip(self.layers, self.layer_nonlinearities):\n",
    "            hidden = nonlinearity(l.activate(hidden))\n",
    "        return hidden\n",
    "    \n",
    "    def parameters(self):\n",
    "        ret = self.input_layer.parameters()\n",
    "        for l in self.layers:\n",
    "            ret.extend(l.parameters())\n",
    "        return ret"
   ]
  },
  {
   "cell_type": "code",
   "execution_count": 177,
   "metadata": {
    "collapsed": false
   },
   "outputs": [],
   "source": [
    "def row_by_scalar(a,b):\n",
    "    return D.MatOps.eltmul(a, b, broadcast=True, axis=0)\n",
    "\n",
    "def col_by_scalar(a,b):\n",
    "    return D.MatOps.eltmul(a, b, broadcast=True, axis=1)\n",
    "\n",
    "class NTMAddressing(object):\n",
    "    def __init__(self, input_sizes, memory_locations, memory_size, max_shifts=3):\n",
    "        self.memory_locations = memory_locations\n",
    "        self.content_key          = D.StackedInputLayer(input_sizes, memory_size)\n",
    "        self.content_key_strength = D.StackedInputLayer(input_sizes, 1)\n",
    "        self.interpolation        = D.StackedInputLayer(input_sizes, 1)\n",
    "        self.shift                = D.StackedInputLayer(input_sizes, memory_locations)\n",
    "        self.focus                = D.StackedInputLayer(input_sizes, 1)\n",
    "        \n",
    "        self.shift_mask = np.zeros((1, memory_locations))\n",
    "        self.shift_mask[0, 0] = 1\n",
    "        self.shift_mask[0, 1] = 1\n",
    "        self.shift_mask[0, -1] = 1\n",
    "        self.shift_mask = D.Mat(self.shift_mask)\n",
    "        \n",
    "    def content_addressing_activation(self, key, key_strength, memory):\n",
    "        # cosine distance essentially\n",
    "        key_broadcasted   = D.MatOps.broadcast(key, axis=0, num_replicas=memory.shape[0])\n",
    "        unnormalized_dot  = (key * memory).sum(axis=1)\n",
    "        key_norm          = key_broadcasted.L2_norm(axis=1)\n",
    "        memory_norm       = memory.L2_norm(axis=1)\n",
    "        cosine_similarity = (unnormalized_dot / (key_norm * memory_norm + 1e-6)).T()\n",
    "        presoftmax        = row_by_scalar(cosine_similarity, key_strength)\n",
    "\n",
    "        return D.MatOps.softmax(presoftmax)\n",
    "        \n",
    "    def address(self, inputs, memory, state):\n",
    "        \"\"\"Outputs memory location weights.\n",
    "        \n",
    "        Inputs:\n",
    "        inputs -- set of vectors controlling the mechanism (e.g. LSTM output)\n",
    "        state  -- weights from previous timestep.\n",
    "        \"\"\"\n",
    "        # todo - should memory contents be tanhed?\n",
    "        key                  = self.content_key.activate(inputs)\n",
    "        key_strength         = self.content_key_strength.activate(inputs).softplus()\n",
    "        # todo - make multiplication of similarity (vector) * key strength_scalrar is correctly broadcasted\n",
    "        content_weights      = self.content_addressing_activation(key, key_strength, memory)\n",
    "        interpolation_gate   = self.interpolation.activate(inputs).sigmoid()\n",
    "        interpolated_weights = (row_by_scalar(content_weights, interpolation_gate) +\n",
    "                                row_by_scalar(state,1.0 - interpolation_gate))        \n",
    "        shift                = D.MatOps.softmax(self.shift.activate(inputs))\n",
    "        shift                = shift * self.shift_mask\n",
    "        shift                = shift / (shift.sum() + 1e-6)\n",
    "        \n",
    "        shifted_weighs       = D.MatOps.circular_convolution(interpolated_weights, shift)\n",
    "        focus                = self.focus.activate(inputs).softplus() + 1.\n",
    "        focused_weights      = shifted_weighs ** focus\n",
    "        # todo - make sure it's correctly broadcasted\n",
    "        sum_focused          = focused_weights.sum(axis=1)\n",
    "        focused_weights      = focused_weights / (sum_focused + 1e-6)\n",
    "        return focused_weights\n",
    "    \n",
    "    def initial_states(self):\n",
    "        with D.NoBackprop():\n",
    "            return D.MatOps.softmax(D.random.uniform(-1,1, (1,self.memory_locations)))\n",
    "    \n",
    "    def parameters(self):\n",
    "        res = []\n",
    "        res.extend(self.content_key.parameters())\n",
    "        res.extend(self.content_key_strength.parameters())\n",
    "        res.extend(self.interpolation.parameters())\n",
    "        res.extend(self.shift.parameters())\n",
    "        res.extend(self.focus.parameters())\n",
    "        return res\n",
    "\n",
    "class NTMReadHead(object):\n",
    "    def __init__(self, input_sizes, memory_locations, memory_size):\n",
    "        self.addressing = NTMAddressing(input_sizes, memory_locations, memory_size)\n",
    "    \n",
    "    def read(self, inputs, memory, state):\n",
    "        weights = self.addressing.address(inputs, memory, state)\n",
    "        Capture.add(\"read_head_weights\", weights)\n",
    "        # todo - make sure it is correctly broadcasted\n",
    "        pulled_from_memory = row_by_scalar(memory, weights.T()).sum(axis=0)\n",
    "        Capture.add(\"read_head_content\", pulled_from_memory)\n",
    "        return pulled_from_memory, weights\n",
    "    \n",
    "    def initial_states(self):\n",
    "        return self.addressing.initial_states()\n",
    "    \n",
    "    def parameters(self):\n",
    "        return self.addressing.parameters()\n",
    "\n",
    "\n",
    "class NTMWriteHead(object):\n",
    "    def __init__(self, input_sizes, memory_locations, memory_size):\n",
    "        self.addressing = NTMAddressing(input_sizes, memory_locations, memory_size)\n",
    "        self.content    = D.StackedInputLayer(input_sizes, memory_size)\n",
    "        self.erase      = D.StackedInputLayer(input_sizes, memory_size)\n",
    "        \n",
    "    def write(self, inputs, memory, state):\n",
    "        weights = self.addressing.address(inputs, memory, state)\n",
    "        Capture.add(\"write_head_weights\", weights)\n",
    "\n",
    "        # todo - make sure it is correctly broadcasted\n",
    "        new_content = self.content.activate(inputs)\n",
    "        Capture.add(\"write_head_content\", new_content)\n",
    "\n",
    "        erase       = self.erase.activate(inputs).sigmoid()\n",
    "        \n",
    "        memory = memory * (1.0 - weights.T().dot(erase))\n",
    "        # todo - make sure it is an outer product\n",
    "        memory = memory + weights.T().dot(new_content)\n",
    "        return memory, weights\n",
    "    \n",
    "    def initial_states(self):\n",
    "        return self.addressing.initial_states()\n",
    "    \n",
    "    def parameters(self):\n",
    "        return self.addressing.parameters()\n",
    "    "
   ]
  },
  {
   "cell_type": "code",
   "execution_count": 195,
   "metadata": {
    "collapsed": false
   },
   "outputs": [],
   "source": [
    "class NTM(object):\n",
    "    def __init__(self, input_size, hiddens, output_size, \n",
    "                 num_read_heads, num_write_heads,\n",
    "                 memory_locations, memory_size,\n",
    "                 controller_type='lstm'):\n",
    "        self.memory_locations = memory_locations\n",
    "        self.memory_size      = memory_size\n",
    "        self.controller_type  = controller_type\n",
    "        \n",
    "        controller_inputs = [input_size] + [memory_size for _ in range(num_read_heads)]\n",
    "        if controller_type   == 'mlp':\n",
    "            nonlinearities = [D.MatOps.tanh for _ in range(len(hiddens))]\n",
    "            self.controller = MLP(controller_inputs, hiddens, nonlinearities)\n",
    "            self.controller_output_size = [hiddens[-1]]\n",
    "        elif controller_type == 'lstm':\n",
    "            self.controller = D.StackedLSTM(controller_inputs, hiddens, memory_feeds_gates=True)\n",
    "            self.controller_output_size = hiddens\n",
    "    \n",
    "        self.decoder      = D.StackedInputLayer(self.controller_output_size, output_size)\n",
    "        self.read_heads   = [NTMReadHead (self.controller_output_size, memory_locations, memory_size) \n",
    "                                 for _ in range(num_read_heads) ]\n",
    "        self.write_heads  = [NTMWriteHead(self.controller_output_size, memory_locations, memory_size) \n",
    "                                 for _ in range(num_write_heads)]\n",
    "\n",
    "    def activate(self, input_vec, state):\n",
    "        # read\n",
    "        new_read_heads_state = []\n",
    "        read_from_memory     = []\n",
    "        for head, head_state in zip(self.read_heads, state['read_heads']):\n",
    "            content, new_head_state = head.read(self.extract_hiddens(state['controller']), \n",
    "                                                state['memory'],\n",
    "                                                head_state)\n",
    "            read_from_memory.append(content)\n",
    "            new_read_heads_state.append(new_head_state)\n",
    "        # activate\n",
    "        if self.controller_type   == 'mlp':\n",
    "            new_controller_state = self.controller.activate([input_vec] + read_from_memory)\n",
    "        elif self.controller_type == 'lstm':\n",
    "            new_controller_state = self.controller.activate([input_vec] + read_from_memory, state['controller'])\n",
    "\n",
    "        # write\n",
    "        new_memory = state['memory']\n",
    "        new_write_heads_state = []\n",
    "        for head, head_state in zip(self.write_heads, state['write_heads']):\n",
    "            new_memory, new_head_state = head.write(self.extract_hiddens(new_controller_state),\n",
    "                                                    new_memory,\n",
    "                                                    head_state)\n",
    "            new_write_heads_state.append(new_head_state)\n",
    "        # collect results\n",
    "        new_state = {\n",
    "            'read_heads'           : new_read_heads_state,\n",
    "            'write_heads'          : new_write_heads_state,\n",
    "            'memory'               : new_memory,\n",
    "            'controller'           : new_controller_state\n",
    "        }\n",
    "\n",
    "        return new_state\n",
    "    \n",
    "    def decode(self, state):\n",
    "        return self.decoder.activate(self.extract_hiddens(state['controller']))\n",
    "        \n",
    "    def parameters(self):\n",
    "        res = []\n",
    "        res.extend(self.controller.parameters())\n",
    "        res.extend(self.decoder.parameters())\n",
    "        for head in self.read_heads:\n",
    "            res.extend(head.parameters())\n",
    "        for head in self.write_heads:\n",
    "            res.extend(head.parameters())\n",
    "        return res\n",
    "    \n",
    "    def extract_hiddens(self, state):\n",
    "        if self.controller_type   == 'mlp':\n",
    "            return [state]\n",
    "        elif self.controller_type == 'lstm':\n",
    "            return [s.hidden for s in state]\n",
    "    \n",
    "    def initial_states(self):\n",
    "        with D.NoBackprop():\n",
    "            memory_init = D.MatOps.softmax(D.random.uniform(0.1, -0.1, (self.memory_locations, self.memory_size)))\n",
    "        \n",
    "        ret = {\n",
    "            'read_heads':            [head.initial_states() for head in self.read_heads],\n",
    "            'write_heads':           [head.initial_states() for head in self.write_heads],\n",
    "            'memory':                memory_init,            \n",
    "        }\n",
    "        if self.controller_type   == 'mlp':\n",
    "            ret['controller'] = D.Mat.ones((1, self.controller_output_size[0]))\n",
    "        elif self.controller_type == 'lstm':\n",
    "            ret['controller'] = self.controller.initial_states()\n",
    "        \n",
    "        return ret"
   ]
  },
  {
   "cell_type": "code",
   "execution_count": 196,
   "metadata": {
    "collapsed": false
   },
   "outputs": [],
   "source": [
    "INPUT_SIZE           = 1\n",
    "MAX_TRAIN_SEQ_LENGTH = 1\n",
    "\n",
    "\n",
    "HIDDENS          = [10]\n",
    "BATCH_SIZE       = 1\n",
    "MEMORY_LOCATIONS = 12\n",
    "MEMORY_SIZE      = 2\n",
    "ntm_model = NTM(input_size=INPUT_SIZE,\n",
    "                hiddens=HIDDENS,\n",
    "                output_size=INPUT_SIZE,\n",
    "                num_read_heads=1,\n",
    "                num_write_heads=1,\n",
    "                memory_locations=MEMORY_LOCATIONS,\n",
    "                memory_size=MEMORY_SIZE,\n",
    "                controller_type='mlp')\n"
   ]
  },
  {
   "cell_type": "code",
   "execution_count": null,
   "metadata": {
    "collapsed": false
   },
   "outputs": [
    {
     "name": "stdout",
     "output_type": "stream",
     "text": [
      "Epoch 0 (0 processed examples, curriculum: 1), error: 0.168475\n",
      "    Testing sequence length 0: \n",
      "        Cost per sequence: 0.000000 (chance: 0.000000)\n",
      "    Testing sequence length 1: \n",
      "        Cost per sequence: 0.200000 (chance: 0.500000)\n",
      "    Testing sequence length 2: \n",
      "        Cost per sequence: 1.000000 (chance: 1.000000)\n",
      "Epoch 97 (97 processed examples, curriculum: 1), error: 0.177194"
     ]
    }
   ],
   "source": [
    "#solver = Solver(\"rmsprop\", learning_rate=0.00003, decay_rate=0.9, smooth_eps=1e-4)\n",
    "solver = Solver(\"rmsprop\", learning_rate=1e-5, decay_rate=0.9, smooth_eps=1e-4, clipval=10.0)\n",
    "#solver = Solver(\"sgd\", learning_rate=1e-2, clipval=10.0)\n",
    "# solver = Solver(\"adagrad\", learning_rate=0.00001, clipval=10.0)\n",
    "\n",
    "errors = evaluate_copy(ntm_model, solver, INPUT_SIZE, MAX_TRAIN_SEQ_LENGTH, batch_size=BATCH_SIZE,\n",
    "                      epochs=100990, debug=False)"
   ]
  },
  {
   "cell_type": "code",
   "execution_count": null,
   "metadata": {
    "collapsed": true
   },
   "outputs": [],
   "source": []
  },
  {
   "cell_type": "code",
   "execution_count": 186,
   "metadata": {
    "collapsed": false
   },
   "outputs": [
    {
     "name": "stdout",
     "output_type": "stream",
     "text": [
      "dict_keys(['write_head_weights', 'write_head_content', 'read_head_content', 'read_head_weights'])\n",
      "At tstep 0 READ: 0.091, WRITE: 0.091\n",
      "At tstep 1 READ: 0.090, WRITE: 0.090\n",
      "At tstep 2 READ: 0.089, WRITE: 0.089\n"
     ]
    },
    {
     "data": {
      "text/plain": [
       "<matplotlib.figure.Figure at 0x7f49c1122908>"
      ]
     },
     "metadata": {},
     "output_type": "display_data"
    },
    {
     "data": {
      "image/png": "[encoded data removed]",
      "text/plain": [
       "<matplotlib.figure.Figure at 0x7f49c116a4e0>"
      ]
     },
     "metadata": {},
     "output_type": "display_data"
    },
    {
     "data": {
      "text/plain": [
       "<matplotlib.figure.Figure at 0x7f49c11ccf60>"
      ]
     },
     "metadata": {},
     "output_type": "display_data"
    },
    {
     "data": {
      "image/png": "[encoded data removed]",
      "text/plain": [
       "<matplotlib.figure.Figure at 0x7f49c1165048>"
      ]
     },
     "metadata": {},
     "output_type": "display_data"
    },
    {
     "data": {
      "text/plain": [
       "<matplotlib.figure.Figure at 0x7f49c10ea438>"
      ]
     },
     "metadata": {},
     "output_type": "display_data"
    },
    {
     "data": {
      "image/png": "[encoded data removed]",
      "text/plain": [
       "<matplotlib.figure.Figure at 0x7f49c138f400>"
      ]
     },
     "metadata": {},
     "output_type": "display_data"
    },
    {
     "data": {
      "text/plain": [
       "<matplotlib.figure.Figure at 0x7f49c108fc50>"
      ]
     },
     "metadata": {},
     "output_type": "display_data"
    },
    {
     "data": {
      "image/png": "[encoded data removed]",
      "text/plain": [
       "<matplotlib.figure.Figure at 0x7f49c11507b8>"
      ]
     },
     "metadata": {},
     "output_type": "display_data"
    }
   ],
   "source": [
    "def combine_access(accesses):\n",
    "    num_accesses = len(accesses)\n",
    "    assert(num_accesses > 0)\n",
    "    mem_locations = accesses[0].shape[1]\n",
    "    res = np.zeros((num_accesses, mem_locations))\n",
    "    norms = []\n",
    "    for idx, access in enumerate(accesses):\n",
    "        assert(access.shape == (1, mem_locations))\n",
    "        res[idx] = access.w[0]\n",
    "        norms.append(np.linalg.norm(access.w[0]))\n",
    "    return res, norms\n",
    "\n",
    "def inspect(model):\n",
    "    empty_input      = D.Mat.zeros((1,INPUT_SIZE), constant=True)\n",
    "    start_prediction = D.Mat.ones((1,INPUT_SIZE), constant=True)\n",
    "    c = Capture()\n",
    "    with D.NoBackprop():\n",
    "        with c:\n",
    "            example = generate_example(INPUT_SIZE, MAX_TRAIN_SEQ_LENGTH)\n",
    "            state = model.initial_states()\n",
    "            for input_vec in example:\n",
    "                state = model.activate(input_vec, state)\n",
    "\n",
    "            state = model.activate(start_prediction, state)\n",
    "            for input_vec in example:\n",
    "                decoded = np.round(model.decode(state).sigmoid().w)\n",
    "                state = model.activate(empty_input, state)\n",
    "    reads, read_norms  = combine_access(c.state[\"read_head_weights\"])\n",
    "    writes, write_norms = combine_access(c.state[\"write_head_weights\"])\n",
    "    \n",
    "    print(c.state.keys())\n",
    "    \n",
    "    plt.figure()\n",
    "    r = plt.matshow(reads)\n",
    "    plt.title(\"Read locations\")\n",
    "    plt.colorbar(r)\n",
    "    \n",
    "    read_contents, _ = combine_access(c.state[\"read_head_content\"])\n",
    "    plt.figure()\n",
    "    r = plt.matshow(read_contents)\n",
    "    plt.title(\"Read contents\")\n",
    "    plt.colorbar(r)\n",
    "    \n",
    "    plt.figure()\n",
    "    w = plt.matshow(writes)\n",
    "    plt.title(\"Write locations\")\n",
    "    plt.colorbar(w)\n",
    "    \n",
    "    write_contents, _ = combine_access(c.state[\"write_head_content\"])\n",
    "    plt.figure()\n",
    "    r = plt.matshow(write_contents)\n",
    "    plt.title(\"Write contents\")\n",
    "    plt.colorbar(r)\n",
    "    \n",
    "    for idx, (read_n, write_n) in enumerate(zip(read_norms, write_norms)):\n",
    "        print(\"At tstep %d READ: %.3f, WRITE: %.3f\" % (idx, read_n, write_n))\n",
    "\n",
    "inspect(ntm_model)"
   ]
  },
  {
   "cell_type": "code",
   "execution_count": null,
   "metadata": {
    "collapsed": false
   },
   "outputs": [],
   "source": [
    "c.state[\"read_head\"][1].shape"
   ]
  },
  {
   "cell_type": "code",
   "execution_count": null,
   "metadata": {
    "collapsed": false
   },
   "outputs": [],
   "source": [
    "ntm_model.__class__ = NTM\n",
    "for h in ntm_model.read_heads:\n",
    "    h.__class__ = NTMReadHead\n",
    "for h in ntm_model.write_heads:\n",
    "    h.__class__ = NTMWriteHead"
   ]
  },
  {
   "cell_type": "code",
   "execution_count": null,
   "metadata": {
    "collapsed": false
   },
   "outputs": [],
   "source": [
    "ntm_model.write_heads[0].__class__ = NTMWriteHead"
   ]
  },
  {
   "cell_type": "code",
   "execution_count": null,
   "metadata": {
    "collapsed": false
   },
   "outputs": [],
   "source": [
    "A = D.Mat([[1,1,1],[2,2,2]])\n",
    "B = D.Mat([[1,2,3]])"
   ]
  },
  {
   "cell_type": "code",
   "execution_count": null,
   "metadata": {
    "collapsed": false
   },
   "outputs": [],
   "source": [
    "print(A.w)\n",
    "print(B.w)\n",
    "A/ D.MatOps.broadcast(B, axis=0, num_replicas=2)"
   ]
  },
  {
   "cell_type": "code",
   "execution_count": null,
   "metadata": {
    "collapsed": false
   },
   "outputs": [],
   "source": [
    "A.w.mean(axis=0)"
   ]
  },
  {
   "cell_type": "code",
   "execution_count": null,
   "metadata": {
    "collapsed": false
   },
   "outputs": [],
   "source": [
    "A.softplus()"
   ]
  },
  {
   "cell_type": "code",
   "execution_count": null,
   "metadata": {
    "collapsed": false
   },
   "outputs": [],
   "source": [
    "A = D.Mat([1,2,3])"
   ]
  },
  {
   "cell_type": "code",
   "execution_count": null,
   "metadata": {
    "collapsed": false
   },
   "outputs": [],
   "source": [
    "D.Mat([1,2,3]) * D.Mat([2])"
   ]
  },
  {
   "cell_type": "code",
   "execution_count": null,
   "metadata": {
    "collapsed": false
   },
   "outputs": [],
   "source": [
    "x = D.random.uniform(-1,1, (1,1)).sum(0)"
   ]
  },
  {
   "cell_type": "code",
   "execution_count": null,
   "metadata": {
    "collapsed": false
   },
   "outputs": [],
   "source": [
    "D.MatOps.broadcast(x, axis=0, num_replicas=20)"
   ]
  },
  {
   "cell_type": "code",
   "execution_count": null,
   "metadata": {
    "collapsed": true
   },
   "outputs": [],
   "source": [
    "x = D.random.uniform(-1,1, (1,2))\n",
    "y = D.random.uniform(-1,1, (1,3))"
   ]
  },
  {
   "cell_type": "code",
   "execution_count": null,
   "metadata": {
    "collapsed": false
   },
   "outputs": [],
   "source": [
    "x"
   ]
  },
  {
   "cell_type": "code",
   "execution_count": null,
   "metadata": {
    "collapsed": false
   },
   "outputs": [],
   "source": [
    "y"
   ]
  },
  {
   "cell_type": "code",
   "execution_count": null,
   "metadata": {
    "collapsed": false
   },
   "outputs": [],
   "source": []
  },
  {
   "cell_type": "code",
   "execution_count": null,
   "metadata": {
    "collapsed": false
   },
   "outputs": [],
   "source": [
    "y.dot(x)"
   ]
  },
  {
   "cell_type": "code",
   "execution_count": null,
   "metadata": {
    "collapsed": false
   },
   "outputs": [],
   "source": [
    "ax = plt.subplots(2,2)"
   ]
  },
  {
   "cell_type": "code",
   "execution_count": null,
   "metadata": {
    "collapsed": false
   },
   "outputs": [],
   "source": [
    "ax"
   ]
  },
  {
   "cell_type": "code",
   "execution_count": null,
   "metadata": {
    "collapsed": false
   },
   "outputs": [],
   "source": [
    "1.0 - D.Mat.ones((2,3))"
   ]
  },
  {
   "cell_type": "code",
   "execution_count": null,
   "metadata": {
    "collapsed": true
   },
   "outputs": [],
   "source": []
  }
 ],
 "metadata": {
  "kernelspec": {
   "display_name": "Python 3",
   "language": "python",
   "name": "python3"
  },
  "language_info": {
   "codemirror_mode": {
    "name": "ipython",
    "version": 3
   },
   "file_extension": ".py",
   "mimetype": "text/x-python",
   "name": "python",
   "nbconvert_exporter": "python",
   "pygments_lexer": "ipython3",
   "version": "3.4.1"
  }
 },
 "nbformat": 4,
 "nbformat_minor": 0
}
