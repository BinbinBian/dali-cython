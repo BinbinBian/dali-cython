{
 "cells": [
  {
   "cell_type": "code",
   "execution_count": 1,
   "metadata": {
    "collapsed": false
   },
   "outputs": [],
   "source": [
    "import sys\n",
    "sys.path.append('..')\n",
    "%load_ext autoreload\n",
    "%autoreload 2"
   ]
  },
  {
   "cell_type": "code",
   "execution_count": 2,
   "metadata": {
    "collapsed": false
   },
   "outputs": [],
   "source": [
    "import numpy as np\n",
    "import math\n",
    "import matplotlib.pyplot as plt\n",
    "import random\n",
    "import time\n",
    "import dill as pickle\n",
    "\n",
    "from IPython.display import clear_output\n",
    "\n",
    "import dali.core as D\n",
    "from dali.data import Lines, DiscoverFiles, BatchBenefactor, DataGenerator\n",
    "from dali.data.batch import LMBatch\n",
    "\n",
    "from dali.utils import Vocab, median_smoothing, throttled, pickle_globals, unpickle_globals\n",
    "from dali import beam_search\n",
    "\n",
    "%matplotlib inline"
   ]
  },
  {
   "cell_type": "code",
   "execution_count": 3,
   "metadata": {
    "collapsed": false
   },
   "outputs": [],
   "source": [
    "D.config.default_device = 'gpu'"
   ]
  },
  {
   "cell_type": "code",
   "execution_count": 4,
   "metadata": {
    "collapsed": true
   },
   "outputs": [],
   "source": [
    "# first 10k words from glove\n",
    "GLOVE_VOCAB = '/home/sidor/projects/Dali/data/glove/vocab10k.txt'\n",
    "# Bookcorpus - pretokenized\n",
    "BOOKCORPUS  = '/home/sidor/datasets/bookcorpus/'\n",
    "\n",
    "# network sizes\n",
    "INPUT_SIZE = 250\n",
    "HIDDENS = [250, 250]\n",
    "\n",
    "# dataset / training parameters\n",
    "MINIBATCH = 256\n",
    "SENTENCES_UNTIL_MINIBATCH = 1000 * MINIBATCH\n",
    "SENTENCE_LENGTH=(2, 10)"
   ]
  },
  {
   "cell_type": "markdown",
   "metadata": {},
   "source": [
    "# Data loading"
   ]
  },
  {
   "cell_type": "code",
   "execution_count": 5,
   "metadata": {
    "collapsed": false
   },
   "outputs": [
    {
     "name": "stdout",
     "output_type": "stream",
     "text": [
      "I have 10003 words in my vocabulary, how fun!\n"
     ]
    }
   ],
   "source": [
    "glove_vocab = Vocab()\n",
    "with open(GLOVE_VOCAB, \"rt\") as f:\n",
    "    glove_vocab.add(word for word in f.read().split('\\n') if word != '')\n",
    "glove_vocab.add(LMBatch.START_TOKEN)\n",
    "print(\"I have %d words in my vocabulary, how fun!\" % (len(glove_vocab),))"
   ]
  },
  {
   "cell_type": "code",
   "execution_count": 6,
   "metadata": {
    "collapsed": false
   },
   "outputs": [],
   "source": [
    "def extract_bookcorpus(path, vocab, minibatch_size, sentences_until_minibatch=None, sentence_length_bounds=(2, 20)):\n",
    "    sentences_until_minibatch = sentences_until_minibatch or 10000 * minibatch_size\n",
    "    files   = DiscoverFiles(path, \".txt\")\n",
    "    mapper = Lines()          \\\n",
    "              .lower()        \\\n",
    "              .split_spaces() \\\n",
    "              .bound_length(*sentence_length_bounds)\n",
    "    reducer = BatchBenefactor(minibatch_size,\n",
    "                              LMBatch.given_vocab(glove_vocab, store_originals=True),\n",
    "                              sentences_until_minibatch)\n",
    "    return DataGenerator(files=files, mapper=mapper, reducer=reducer)\n"
   ]
  },
  {
   "cell_type": "markdown",
   "metadata": {},
   "source": [
    "# Model definition "
   ]
  },
  {
   "cell_type": "code",
   "execution_count": 7,
   "metadata": {
    "collapsed": false
   },
   "outputs": [],
   "source": [
    "class LanguageModel(object):\n",
    "    def __init__(self, input_size, hiddens, vocab_size, dtype=np.float32):\n",
    "        self.input_size = input_size\n",
    "        self.hiddens    = hiddens\n",
    "        self.vocab_size = vocab_size\n",
    "        self.dtype = dtype\n",
    "        \n",
    "        self.encoder = D.random.uniform(-0.05, 0.05, (vocab_size, input_size), dtype=dtype)\n",
    "        self.lstm    = D.StackedLSTM(input_size, hiddens, dtype=dtype)\n",
    "        self.decoder = D.Layer(hiddens[-1], vocab_size, dtype=dtype)\n",
    "    \n",
    "    def error(self, batch):\n",
    "        error = D.Mat(1,1)\n",
    "        state = self.lstm.initial_states()\n",
    "        for ts in range(batch.timesteps):\n",
    "            inputs  = batch.inputs(ts)\n",
    "            targets = batch.targets(ts)\n",
    "            if inputs:\n",
    "                encoded = self.encoder[batch.inputs(ts)]\n",
    "            else:\n",
    "                encoded = Mat(1, self.input_size)\n",
    "            state = self.lstm.activate(encoded, state)\n",
    "            if targets:\n",
    "                decoded = self.decoder.activate(state[-1].hidden)\n",
    "                error = error + D.MatOps.softmax_cross_entropy(decoded, targets).sum()\n",
    "        return error\n",
    "    \n",
    "    def sample(self, priming, temperature=1.0, **kwargs):\n",
    "        with D.NoBackprop():\n",
    "            state = self.lstm.initial_states()\n",
    "            for word_idx in priming:\n",
    "                encoded = self.encoder[word_idx]\n",
    "                state = self.lstm.activate(encoded, state)\n",
    "            def candidate_scores(state):\n",
    "                return D.MatOps.softmax(self.decoder.activate(state[-1].hidden), temperature=temperature).log()\n",
    "            def make_choice(state, candidate_idx):\n",
    "                encoded = self.encoder[candidate_idx]\n",
    "                return self.lstm.activate(encoded, state)\n",
    "\n",
    "            return beam_search(state,\n",
    "                               candidate_scores,\n",
    "                               make_choice,\n",
    "                               **kwargs)\n",
    "    \n",
    "    def parameters(self):\n",
    "        return [self.encoder] + self.lstm.parameters() + self.decoder.parameters()"
   ]
  },
  {
   "cell_type": "code",
   "execution_count": 8,
   "metadata": {
    "collapsed": true
   },
   "outputs": [],
   "source": [
    "def show_reconstructions(model, words, temperature=1.0):\n",
    "    for solution, score, _ in model.sample(glove_vocab.encode([LMBatch.START_TOKEN] + words), \n",
    "                                           eos_symbol=glove_vocab.eos,\n",
    "                                           max_sequence_length=20,\n",
    "                                           blacklist=[glove_vocab.unk],\n",
    "                                           temperature=temperature):\n",
    "        score = math.exp(score.w[0])\n",
    "        priming = ' '.join(words)\n",
    "        solution = ' '.join(glove_vocab.decode(solution, False))\n",
    "        print('%f => [%s] %s' % (score, priming, solution))"
   ]
  },
  {
   "cell_type": "markdown",
   "metadata": {},
   "source": [
    "# Create new experiment "
   ]
  },
  {
   "cell_type": "code",
   "execution_count": 9,
   "metadata": {
    "collapsed": false
   },
   "outputs": [],
   "source": [
    "model  = LanguageModel(INPUT_SIZE, HIDDENS, len(glove_vocab))"
   ]
  },
  {
   "cell_type": "code",
   "execution_count": 10,
   "metadata": {
    "collapsed": false
   },
   "outputs": [],
   "source": [
    "params = model.parameters()\n",
    "solver = D.AdaGrad(params)\n",
    "solver.step_size = 0.003"
   ]
  },
  {
   "cell_type": "code",
   "execution_count": 11,
   "metadata": {
    "collapsed": true
   },
   "outputs": [],
   "source": [
    "data = []"
   ]
  },
  {
   "cell_type": "code",
   "execution_count": 12,
   "metadata": {
    "collapsed": true
   },
   "outputs": [],
   "source": [
    "error_evolution = []"
   ]
  },
  {
   "cell_type": "markdown",
   "metadata": {},
   "source": [
    "# (Optional) continue running previous attempt "
   ]
  },
  {
   "cell_type": "code",
   "execution_count": 11,
   "metadata": {
    "collapsed": true
   },
   "outputs": [],
   "source": [
    "unpickle_globals(\"/home/sidor/tmp/lm_experiment\")\n",
    "params = model.parameters()"
   ]
  },
  {
   "cell_type": "markdown",
   "metadata": {},
   "source": [
    "# Training"
   ]
  },
  {
   "cell_type": "code",
   "execution_count": 16,
   "metadata": {
    "collapsed": false
   },
   "outputs": [
    {
     "name": "stdout",
     "output_type": "stream",
     "text": [
      "Error:              5.72426644225\n",
      "Time per batch:     0.7378439585367839\n",
      "Words per second:   2439.1787891065464\n",
      "Batches processed:  15\n",
      "0.080454 => [eventually it was time for] **EOS**\n",
      "0.004966 => [eventually it was time for] . **EOS**\n",
      "0.004073 => [eventually it was time for] the **EOS**\n",
      "0.003302 => [eventually it was time for] '' **EOS**\n",
      "0.000315 => [eventually it was time for] . . **EOS**\n"
     ]
    },
    {
     "ename": "KeyboardInterrupt",
     "evalue": "",
     "output_type": "error",
     "traceback": [
      "\u001b[1;31m---------------------------------------------------------------------------\u001b[0m",
      "\u001b[1;31mKeyboardInterrupt\u001b[0m                         Traceback (most recent call last)",
      "\u001b[1;32m<ipython-input-16-dc9071d16210>\u001b[0m in \u001b[0;36m<module>\u001b[1;34m()\u001b[0m\n\u001b[0;32m     23\u001b[0m \u001b[1;33m\u001b[0m\u001b[0m\n\u001b[0;32m     24\u001b[0m         \u001b[0merror\u001b[0m\u001b[1;33m.\u001b[0m\u001b[0mgrad\u001b[0m\u001b[1;33m(\u001b[0m\u001b[1;33m)\u001b[0m\u001b[1;33m\u001b[0m\u001b[0m\n\u001b[1;32m---> 25\u001b[1;33m         \u001b[0mD\u001b[0m\u001b[1;33m.\u001b[0m\u001b[0mGraph\u001b[0m\u001b[1;33m.\u001b[0m\u001b[0mbackward\u001b[0m\u001b[1;33m(\u001b[0m\u001b[1;33m)\u001b[0m\u001b[1;33m\u001b[0m\u001b[0m\n\u001b[0m\u001b[0;32m     26\u001b[0m         \u001b[0msolver\u001b[0m\u001b[1;33m.\u001b[0m\u001b[0mstep\u001b[0m\u001b[1;33m(\u001b[0m\u001b[0mparams\u001b[0m\u001b[1;33m)\u001b[0m\u001b[1;33m\u001b[0m\u001b[0m\n\u001b[0;32m     27\u001b[0m         \u001b[0mbatch_end_time\u001b[0m \u001b[1;33m=\u001b[0m \u001b[0mtime\u001b[0m\u001b[1;33m.\u001b[0m\u001b[0mtime\u001b[0m\u001b[1;33m(\u001b[0m\u001b[1;33m)\u001b[0m\u001b[1;33m\u001b[0m\u001b[0m\n",
      "\u001b[1;31mKeyboardInterrupt\u001b[0m: "
     ]
    }
   ],
   "source": [
    "total_error, num_words = 0.0, 0\n",
    "batch_time, num_batches = 0.0, 0\n",
    "\n",
    "@throttled(5)\n",
    "def report(example):\n",
    "    if num_batches == 0 or num_words == 0 or abs(batch_time) < 1e-6:\n",
    "        return\n",
    "    clear_output()\n",
    "    print('Error:             ', total_error / num_words)\n",
    "    print('Time per batch:    ', batch_time  / num_batches)\n",
    "    print('Words per second:  ', num_words   / batch_time )\n",
    "    print('Batches processed: ', num_batches)\n",
    "    show_reconstructions(model, example)\n",
    "    sys.stdout.flush()\n",
    "    \n",
    "\n",
    "batch_end_time, batch_start_time = None, None\n",
    "\n",
    "while True:\n",
    "    for batch in data:    \n",
    "        batch_start_time = time.time()\n",
    "        error = model.error(batch)\n",
    "\n",
    "        error.grad()\n",
    "        D.Graph.backward()\n",
    "        solver.step(params)\n",
    "        batch_end_time = time.time()\n",
    "\n",
    "        error_evolution.append(error.w[0,0] / sum(batch.sentence_lengths))\n",
    "        if len(error_evolution) > 5000:\n",
    "            error_evolution = error_evolution[::2]\n",
    "\n",
    "        total_error += error.w[0, 0]\n",
    "        num_words   += sum(batch.sentence_lengths)\n",
    "\n",
    "        if batch_end_time is not None and batch_start_time is not None:\n",
    "            batch_time += batch_end_time - batch_start_time\n",
    "        num_batches    += 1\n",
    "\n",
    "        example = batch.sentences[0]\n",
    "        example_len = random.randint(1, len(example))\n",
    "\n",
    "        report(example[:example_len])\n",
    "        \n",
    "    data = extract_bookcorpus(BOOKCORPUS, glove_vocab, MINIBATCH, \n",
    "                          SENTENCES_UNTIL_MINIBATCH, sentence_length_bounds=SENTENCE_LENGTH)"
   ]
  },
  {
   "cell_type": "code",
   "execution_count": 28,
   "metadata": {
    "collapsed": false
   },
   "outputs": [],
   "source": [
    "pickle_globals(\"/home/sidor/tmp/lm_experiment\", [\"model\", \"solver\", \"data\", \"error_evolution\"])"
   ]
  },
  {
   "cell_type": "code",
   "execution_count": 17,
   "metadata": {
    "collapsed": false
   },
   "outputs": [
    {
     "data": {
      "text/plain": [
       "[<matplotlib.lines.Line2D at 0x7ff169a44d30>]"
      ]
     },
     "execution_count": 17,
     "metadata": {},
     "output_type": "execute_result"
    },
    {
     "data": {
      "image/png": "[encoded data removed]",
      "text/plain": [
       "<matplotlib.figure.Figure at 0x7ff162649978>"
      ]
     },
     "metadata": {},
     "output_type": "display_data"
    }
   ],
   "source": [
    "plt.plot(median_smoothing(error_evolution, window=len(error_evolution) // 20 ) )"
   ]
  },
  {
   "cell_type": "code",
   "execution_count": 22,
   "metadata": {
    "collapsed": false
   },
   "outputs": [
    {
     "data": {
      "text/plain": [
       "<__main__.LanguageModel at 0x7f28c5c2aba8>"
      ]
     },
     "execution_count": 22,
     "metadata": {},
     "output_type": "execute_result"
    }
   ],
   "source": [
    "print(sorted(globals().keys()))"
   ]
  },
  {
   "cell_type": "code",
   "execution_count": null,
   "metadata": {
    "collapsed": true
   },
   "outputs": [],
   "source": []
  }
 ],
 "metadata": {
  "kernelspec": {
   "display_name": "Python 3",
   "language": "python",
   "name": "python3"
  },
  "language_info": {
   "codemirror_mode": {
    "name": "ipython",
    "version": 3
   },
   "file_extension": ".py",
   "mimetype": "text/x-python",
   "name": "python",
   "nbconvert_exporter": "python",
   "pygments_lexer": "ipython3",
   "version": "3.4.1"
  }
 },
 "nbformat": 4,
 "nbformat_minor": 0
}
