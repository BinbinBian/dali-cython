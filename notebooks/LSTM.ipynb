{
 "cells": [
  {
   "cell_type": "code",
   "execution_count": 27,
   "metadata": {
    "collapsed": false
   },
   "outputs": [],
   "source": [
    "from test_dali import LSTM, Mat, LSTMState, StackedLSTM\n",
    "\n",
    "import matplotlib.pyplot as plt\n",
    "%matplotlib inline"
   ]
  },
  {
   "cell_type": "code",
   "execution_count": 2,
   "metadata": {
    "collapsed": true
   },
   "outputs": [],
   "source": [
    "l = LSTM(2, 5)"
   ]
  },
  {
   "cell_type": "code",
   "execution_count": 3,
   "metadata": {
    "collapsed": false
   },
   "outputs": [
    {
     "name": "stdout",
     "output_type": "stream",
     "text": [
      "[\n",
      "    [  1.000]\n",
      "    [  2.000]\n",
      "]\n",
      "\n",
      "[\n",
      "    [  0.000]\n",
      "    [  0.000]\n",
      "    [  0.000]\n",
      "    [  0.000]\n",
      "    [  0.000]\n",
      "]\n",
      "\n",
      "[\n",
      "    [  0.000]\n",
      "    [  0.000]\n",
      "    [  0.000]\n",
      "    [  0.000]\n",
      "    [  0.000]\n",
      "]\n",
      "\n",
      "[\n",
      "    [  0.124]\n",
      "    [ -0.295]\n",
      "    [  0.158]\n",
      "    [  0.011]\n",
      "    [  0.129]\n",
      "]\n",
      "\n",
      "[\n",
      "    [  0.406]\n",
      "    [ -0.521]\n",
      "    [  0.220]\n",
      "    [  0.024]\n",
      "    [  0.369]\n",
      "]\n",
      "\n"
     ]
    }
   ],
   "source": [
    "i = Mat([[1],[2]])\n",
    "h = l.initial_states()\n",
    "print(i.__repr__())\n",
    "print(h.hidden.__repr__())\n",
    "print(h.memory.__repr__())\n",
    "h = l.activate(i, h)\n",
    "print(h.hidden.__repr__())\n",
    "print(h.memory.__repr__())"
   ]
  },
  {
   "cell_type": "code",
   "execution_count": 13,
   "metadata": {
    "collapsed": true
   },
   "outputs": [],
   "source": [
    "INPUTS = [2,3]\n",
    "HIDDEN_SIZE = 5\n",
    "NUM_CHILDREN = 3\n",
    "l = LSTM(INPUTS, HIDDEN_SIZE, NUM_CHILDREN, memory_feeds_gates=True)"
   ]
  },
  {
   "cell_type": "code",
   "execution_count": 15,
   "metadata": {
    "collapsed": false
   },
   "outputs": [
    {
     "name": "stdout",
     "output_type": "stream",
     "text": [
      "[\n",
      "    [  0.031]\n",
      "    [  0.046]\n",
      "    [  0.008]\n",
      "    [  0.049]\n",
      "    [ -0.034]\n",
      "]\n",
      "\n",
      "[\n",
      "    [  0.059]\n",
      "    [  0.098]\n",
      "    [  0.014]\n",
      "    [  0.094]\n",
      "    [ -0.074]\n",
      "]\n",
      "\n"
     ]
    }
   ],
   "source": [
    "hs = [l.initial_states() for _ in range(NUM_CHILDREN)]\n",
    "i = [Mat(ipt, 1) for ipt in INPUTS]\n",
    "\n",
    "h_combined = l.activate(i, hs)\n",
    "print(h_combined.hidden.__repr__())\n",
    "print(h_combined.memory.__repr__())"
   ]
  },
  {
   "cell_type": "code",
   "execution_count": 6,
   "metadata": {
    "collapsed": false
   },
   "outputs": [
    {
     "data": {
      "text/plain": [
       "[\n",
       "    [ -0.364]\n",
       "    [  0.152]\n",
       "    [ -0.249]\n",
       "    [ -0.097]\n",
       "    [  0.154]\n",
       "]"
      ]
     },
     "execution_count": 6,
     "metadata": {},
     "output_type": "execute_result"
    }
   ],
   "source": [
    "l.Wcells_to_forgets[0]"
   ]
  },
  {
   "cell_type": "code",
   "execution_count": 2,
   "metadata": {
    "collapsed": false
   },
   "outputs": [],
   "source": [
    "x = StackedLSTM([1,2], [5,4])"
   ]
  },
  {
   "cell_type": "code",
   "execution_count": 10,
   "metadata": {
    "collapsed": false
   },
   "outputs": [],
   "source": [
    "new_state = x.activate([\n",
    "    Mat([[1]]),\n",
    "    Mat([[1],[2]])\n",
    "],\n",
    "x.initial_states(),\n",
    "0.5\n",
    ")"
   ]
  },
  {
   "cell_type": "code",
   "execution_count": 29,
   "metadata": {
    "collapsed": false
   },
   "outputs": [
    {
     "data": {
      "text/plain": [
       "<matplotlib.image.AxesImage at 0x7ff219f9cd30>"
      ]
     },
     "execution_count": 29,
     "metadata": {},
     "output_type": "execute_result"
    },
    {
     "data": {
      "image/png": "[encoded data removed]",
      "text/plain": [
       "<matplotlib.figure.Figure at 0x7ff21a03b4a8>"
      ]
     },
     "metadata": {},
     "output_type": "display_data"
    }
   ],
   "source": [
    "plt.matshow(x.cells[0].forget_layers[0].matrices[0].w)"
   ]
  },
  {
   "cell_type": "code",
   "execution_count": null,
   "metadata": {
    "collapsed": true
   },
   "outputs": [],
   "source": []
  }
 ],
 "metadata": {
  "kernelspec": {
   "display_name": "Python 3",
   "language": "python",
   "name": "python3"
  },
  "language_info": {
   "codemirror_mode": {
    "name": "ipython",
    "version": 3
   },
   "file_extension": ".py",
   "mimetype": "text/x-python",
   "name": "python",
   "nbconvert_exporter": "python",
   "pygments_lexer": "ipython3",
   "version": "3.4.1"
  }
 },
 "nbformat": 4,
 "nbformat_minor": 0
}
