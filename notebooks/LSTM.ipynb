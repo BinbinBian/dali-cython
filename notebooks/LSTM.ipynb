{
 "cells": [
  {
   "cell_type": "code",
   "execution_count": 1,
   "metadata": {
    "collapsed": false
   },
   "outputs": [],
   "source": [
    "import sys\n",
    "sys.path.append('..')\n",
    "from test_dali import LSTM, Mat, LSTMState, StackedLSTM\n",
    "\n",
    "import pickle\n",
    "import random\n",
    "import matplotlib.pyplot as plt\n",
    "%matplotlib inline"
   ]
  },
  {
   "cell_type": "code",
   "execution_count": 2,
   "metadata": {
    "collapsed": false
   },
   "outputs": [
    {
     "name": "stdout",
     "output_type": "stream",
     "text": [
      "float32\n",
      "[[ 1.  2.  3.]]\n",
      "[[ 4.  2.  1.]]\n"
     ]
    }
   ],
   "source": [
    "s = LSTMState(Mat([1,2,3]), Mat([4,2,1]))\n",
    "print(s.dtype)\n",
    "print(s.memory.w)\n",
    "print(s.hidden.w)"
   ]
  },
  {
   "cell_type": "code",
   "execution_count": 3,
   "metadata": {
    "collapsed": false
   },
   "outputs": [],
   "source": [
    "l = LSTM(2, 5)"
   ]
  },
  {
   "cell_type": "code",
   "execution_count": 4,
   "metadata": {
    "collapsed": false,
    "scrolled": true
   },
   "outputs": [
    {
     "name": "stdout",
     "output_type": "stream",
     "text": [
      "[\n",
      "    [  1.000   2.000]\n",
      "]\n",
      "\n",
      "[\n",
      "    [  0.000   0.000   0.000   0.000   0.000]\n",
      "]\n",
      "\n",
      "[\n",
      "    [  0.000   0.000   0.000   0.000   0.000]\n",
      "]\n",
      "\n",
      "[\n",
      "    [ -0.041   0.092   0.022  -0.148   0.075]\n",
      "]\n",
      "\n",
      "[\n",
      "    [ -0.148   0.157   0.054  -0.404   0.169]\n",
      "]\n",
      "\n"
     ]
    }
   ],
   "source": [
    "i = Mat([[1, 2]])\n",
    "h = l.initial_states()\n",
    "print(i.__repr__())\n",
    "print(h.hidden.__repr__())\n",
    "print(h.memory.__repr__())\n",
    "h = l.activate(i, h)\n",
    "print(h.hidden.__repr__())\n",
    "print(h.memory.__repr__())"
   ]
  },
  {
   "cell_type": "code",
   "execution_count": 5,
   "metadata": {
    "collapsed": false
   },
   "outputs": [
    {
     "name": "stdout",
     "output_type": "stream",
     "text": [
      "Activate sequence for 3 different inputs states and one hidden states\n",
      "[[-0.14922693  0.25416917  0.24280307 -0.45820007  0.14360353]\n",
      " [-0.14922693  0.25416917  0.24280307 -0.45820007  0.14360353]\n",
      " [-0.14922693  0.25416917  0.24280307 -0.45820007  0.14360353]]\n",
      "Activate sequence for 3 different hidden states and three different inputs\n",
      "[[-0.14922693  0.25416917  0.24280307 -0.45820007  0.14360353]\n",
      " [-0.14922693  0.25416917  0.24280307 -0.45820007  0.14360353]\n",
      " [-0.14922693  0.25416917  0.24280307 -0.45820007  0.14360353]]\n",
      "Activate sequence for 3 different hidden states and one input (!)\n",
      "[[-0.14922693  0.25416917  0.24280307 -0.45820007  0.14360353]\n",
      " [-0.14922693  0.25416917  0.24280307 -0.45820007  0.14360353]\n",
      " [-0.14922693  0.25416917  0.24280307 -0.45820007  0.14360353]]\n"
     ]
    }
   ],
   "source": [
    "print(\"Activate sequence for 3 different inputs states and one hidden states\")\n",
    "r1 = l.activate_sequence([Mat(3, 2) for i in range(10)], l.initial_states()).memory\n",
    "print(r1.w)\n",
    "print(\"Activate sequence for 3 different hidden states and three different inputs\")\n",
    "r2 = l.activate_sequence([Mat(3, 2) for i in range(10)], LSTMState(Mat(3,5), Mat(3,5))).memory\n",
    "print(r2.w)\n",
    "print(\"Activate sequence for 3 different hidden states and one input (!)\")\n",
    "r3 = l.activate_sequence([Mat(1, 2) for i in range(10)], LSTMState(Mat(3,5), Mat(3,5))).memory\n",
    "print(r3.w)"
   ]
  },
  {
   "cell_type": "code",
   "execution_count": 6,
   "metadata": {
    "collapsed": false
   },
   "outputs": [],
   "source": [
    "INPUTS = [2,3]\n",
    "HIDDEN_SIZE = 5\n",
    "NUM_CHILDREN = 3\n",
    "l = LSTM(INPUTS, HIDDEN_SIZE, NUM_CHILDREN, memory_feeds_gates=True)"
   ]
  },
  {
   "cell_type": "code",
   "execution_count": 7,
   "metadata": {
    "collapsed": false
   },
   "outputs": [
    {
     "name": "stdout",
     "output_type": "stream",
     "text": [
      "<StackedInputLayer in=[2, 3, 5, 5, 5], out=5>\n",
      "[<StackedInputLayer in=[2, 3, 5, 5, 5], out=5>, <StackedInputLayer in=[2, 3, 5, 5, 5], out=5>, <StackedInputLayer in=[2, 3, 5, 5, 5], out=5>]\n",
      "5\n",
      "[2, 3]\n",
      "<StackedInputLayer in=[2, 3, 5, 5, 5], out=5>\n",
      "3\n",
      "True\n",
      "[[-0.02097718  0.14071748  0.02983057 -0.14180495 -0.05913816]\n",
      " [-0.00718732  0.17062435  0.129556   -0.11555042  0.1381399 ]\n",
      " [-0.07139292 -0.17151463 -0.16027422  0.19166744 -0.05134377]]\n",
      "==== PICKLED ====\n",
      "<StackedInputLayer in=[2, 3, 5, 5, 5], out=5>\n",
      "[<StackedInputLayer in=[2, 3, 5, 5, 5], out=5>, <StackedInputLayer in=[2, 3, 5, 5, 5], out=5>, <StackedInputLayer in=[2, 3, 5, 5, 5], out=5>]\n",
      "5\n",
      "[2, 3]\n",
      "<StackedInputLayer in=[2, 3, 5, 5, 5], out=5>\n",
      "3\n",
      "True\n",
      "[[-0.02097718  0.14071748  0.02983057 -0.14180495 -0.05913816]\n",
      " [-0.00718732  0.17062435  0.129556   -0.11555042  0.1381399 ]\n",
      " [-0.07139292 -0.17151463 -0.16027422  0.19166744 -0.05134377]]\n"
     ]
    }
   ],
   "source": [
    "idx = random.randint(0, len(l.parameters()) - 1)\n",
    "print(l.cell_layer)\n",
    "print(l.forget_layers)\n",
    "print(l.hidden_size)\n",
    "print(l.input_sizes)\n",
    "print(l.input_layer)\n",
    "print(l.num_children)\n",
    "print(l.memory_feeds_gates)\n",
    "print(l.parameters()[idx].w)\n",
    "l_pickled = pickle.loads(pickle.dumps(l))\n",
    "print(\"==== PICKLED ====\")\n",
    "\n",
    "print(l_pickled.cell_layer)\n",
    "print(l_pickled.forget_layers)\n",
    "print(l_pickled.hidden_size)\n",
    "print(l_pickled.input_sizes)\n",
    "print(l_pickled.input_layer)\n",
    "print(l_pickled.num_children)\n",
    "print(l_pickled.memory_feeds_gates)\n",
    "print(l_pickled.parameters()[idx].w)"
   ]
  },
  {
   "cell_type": "code",
   "execution_count": 8,
   "metadata": {
    "collapsed": false
   },
   "outputs": [
    {
     "name": "stdout",
     "output_type": "stream",
     "text": [
      "[\n",
      "    [  0.052   0.040   0.026  -0.001   0.021]\n",
      "]\n",
      "\n",
      "[\n",
      "    [  0.112   0.089   0.047  -0.002   0.039]\n",
      "]\n",
      "\n"
     ]
    }
   ],
   "source": [
    "hs = [l.initial_states() for _ in range(NUM_CHILDREN)]\n",
    "i = [Mat(1, ipt) for ipt in INPUTS]\n",
    "\n",
    "h_combined = l.activate(i, hs)\n",
    "print(h_combined.hidden.__repr__())\n",
    "print(h_combined.memory.__repr__())"
   ]
  },
  {
   "cell_type": "code",
   "execution_count": 9,
   "metadata": {
    "collapsed": false
   },
   "outputs": [
    {
     "data": {
      "text/plain": [
       "[\n",
       "    [ -0.246  -0.396   0.444   0.312   0.144]\n",
       "]"
      ]
     },
     "execution_count": 9,
     "metadata": {},
     "output_type": "execute_result"
    }
   ],
   "source": [
    "l.Wcells_to_forgets[0]"
   ]
  },
  {
   "cell_type": "code",
   "execution_count": 10,
   "metadata": {
    "collapsed": false
   },
   "outputs": [],
   "source": [
    "x = StackedLSTM([1,2], [5,4])"
   ]
  },
  {
   "cell_type": "code",
   "execution_count": 17,
   "metadata": {
    "collapsed": false
   },
   "outputs": [
    {
     "data": {
      "text/plain": [
       "[\n",
       "    [  0.216  -0.157   0.098  -0.395   0.266]\n",
       "]"
      ]
     },
     "execution_count": 17,
     "metadata": {},
     "output_type": "execute_result"
    }
   ],
   "source": [
    "new_state = x.activate([\n",
    "    Mat([[1]]),\n",
    "    Mat([[1, 2]])\n",
    "],\n",
    "x.initial_states(),\n",
    "0.5\n",
    ")\n",
    "new_state[0].memory"
   ]
  },
  {
   "cell_type": "code",
   "execution_count": 13,
   "metadata": {
    "collapsed": false
   },
   "outputs": [
    {
     "data": {
      "text/plain": [
       "<matplotlib.image.AxesImage at 0x7f4b6440f748>"
      ]
     },
     "execution_count": 13,
     "metadata": {},
     "output_type": "execute_result"
    },
    {
     "data": {
      "image/png": "[encoded data removed]",
      "text/plain": [
       "<matplotlib.figure.Figure at 0x7f4b6651c1d0>"
      ]
     },
     "metadata": {},
     "output_type": "display_data"
    }
   ],
   "source": [
    "plt.matshow(x.cells[0].forget_layers[0].matrices[0].w)"
   ]
  },
  {
   "cell_type": "code",
   "execution_count": 33,
   "metadata": {
    "collapsed": true
   },
   "outputs": [],
   "source": [
    "?l.activate_sequence"
   ]
  },
  {
   "cell_type": "code",
   "execution_count": null,
   "metadata": {
    "collapsed": true
   },
   "outputs": [],
   "source": []
  }
 ],
 "metadata": {
  "kernelspec": {
   "display_name": "Python 3",
   "language": "python",
   "name": "python3"
  },
  "language_info": {
   "codemirror_mode": {
    "name": "ipython",
    "version": 3
   },
   "file_extension": ".py",
   "mimetype": "text/x-python",
   "name": "python",
   "nbconvert_exporter": "python",
   "pygments_lexer": "ipython3",
   "version": "3.4.1"
  }
 },
 "nbformat": 4,
 "nbformat_minor": 0
}
