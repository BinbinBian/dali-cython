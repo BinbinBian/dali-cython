{
 "cells": [
  {
   "cell_type": "code",
   "execution_count": 9,
   "metadata": {
    "collapsed": false
   },
   "outputs": [],
   "source": [
    "import sys\n",
    "sys.path.append('..')\n",
    "from test_dali import LSTM, Mat, LSTMState, StackedLSTM\n",
    "\n",
    "import pickle\n",
    "import random\n",
    "import matplotlib.pyplot as plt\n",
    "%matplotlib inline"
   ]
  },
  {
   "cell_type": "code",
   "execution_count": 2,
   "metadata": {
    "collapsed": false
   },
   "outputs": [
    {
     "name": "stdout",
     "output_type": "stream",
     "text": [
      "float32\n",
      "[[ 1.  2.  3.]]\n",
      "[[ 4.  2.  1.]]\n"
     ]
    }
   ],
   "source": [
    "s = LSTMState(Mat([1,2,3]), Mat([4,2,1]))\n",
    "print(s.dtype)\n",
    "print(s.memory.w)\n",
    "print(s.hidden.w)"
   ]
  },
  {
   "cell_type": "code",
   "execution_count": 3,
   "metadata": {
    "collapsed": false
   },
   "outputs": [],
   "source": [
    "l = LSTM(2, 5)"
   ]
  },
  {
   "cell_type": "code",
   "execution_count": 4,
   "metadata": {
    "collapsed": false,
    "scrolled": true
   },
   "outputs": [
    {
     "name": "stdout",
     "output_type": "stream",
     "text": [
      "[\n",
      "    [  1.000   2.000]\n",
      "]\n",
      "\n",
      "[\n",
      "    [  0.000   0.000   0.000   0.000   0.000]\n",
      "]\n",
      "\n",
      "[\n",
      "    [  0.000   0.000   0.000   0.000   0.000]\n",
      "]\n",
      "\n",
      "[\n",
      "    [  0.034   0.088  -0.178   0.156   0.099]\n",
      "]\n",
      "\n",
      "[\n",
      "    [  0.088   0.256  -0.427   0.270   0.175]\n",
      "]\n",
      "\n"
     ]
    }
   ],
   "source": [
    "i = Mat([[1, 2]])\n",
    "h = l.initial_states()\n",
    "print(i.__repr__())\n",
    "print(h.hidden.__repr__())\n",
    "print(h.memory.__repr__())\n",
    "h = l.activate(i, h)\n",
    "print(h.hidden.__repr__())\n",
    "print(h.memory.__repr__())"
   ]
  },
  {
   "cell_type": "code",
   "execution_count": 5,
   "metadata": {
    "collapsed": false
   },
   "outputs": [
    {
     "name": "stdout",
     "output_type": "stream",
     "text": [
      "Activate sequence for 3 different inputs states and one hidden states\n",
      "[[ 0.26741028  0.26953137  0.00224128 -0.20896104 -0.00707232]\n",
      " [ 0.26741028  0.26953137  0.00224128 -0.20896104 -0.00707232]\n",
      " [ 0.26741028  0.26953137  0.00224128 -0.20896104 -0.00707232]]\n",
      "Activate sequence for 3 different hidden states and three different inputs\n",
      "[[ 0.26741028  0.26953137  0.00224128 -0.20896104 -0.00707232]\n",
      " [ 0.26741028  0.26953137  0.00224128 -0.20896104 -0.00707232]\n",
      " [ 0.26741028  0.26953137  0.00224128 -0.20896104 -0.00707232]]\n",
      "Activate sequence for 3 different hidden states and one input (!)\n",
      "[[ 0.26741028  0.26953137  0.00224128 -0.20896104 -0.00707232]\n",
      " [ 0.26741028  0.26953137  0.00224128 -0.20896104 -0.00707232]\n",
      " [ 0.26741028  0.26953137  0.00224128 -0.20896104 -0.00707232]]\n"
     ]
    }
   ],
   "source": [
    "print(\"Activate sequence for 3 different inputs states and one hidden states\")\n",
    "r1 = l.activate_sequence([Mat(3, 2) for i in range(10)], l.initial_states()).memory\n",
    "print(r1.w)\n",
    "print(\"Activate sequence for 3 different hidden states and three different inputs\")\n",
    "r2 = l.activate_sequence([Mat(3, 2) for i in range(10)], LSTMState(Mat(3,5), Mat(3,5))).memory\n",
    "print(r2.w)\n",
    "print(\"Activate sequence for 3 different hidden states and one input (!)\")\n",
    "r3 = l.activate_sequence([Mat(1, 2) for i in range(10)], LSTMState(Mat(3,5), Mat(3,5))).memory\n",
    "print(r3.w)"
   ]
  },
  {
   "cell_type": "code",
   "execution_count": 6,
   "metadata": {
    "collapsed": false
   },
   "outputs": [],
   "source": [
    "INPUTS = [2,3]\n",
    "HIDDEN_SIZE = 5\n",
    "NUM_CHILDREN = 3\n",
    "l = LSTM(INPUTS, HIDDEN_SIZE, NUM_CHILDREN, memory_feeds_gates=True)"
   ]
  },
  {
   "cell_type": "code",
   "execution_count": 7,
   "metadata": {
    "collapsed": false
   },
   "outputs": [
    {
     "name": "stdout",
     "output_type": "stream",
     "text": [
      "<StackedInputLayer in=[2, 3, 5, 5, 5], out=5>\n",
      "[<StackedInputLayer in=[2, 3, 5, 5, 5], out=5>, <StackedInputLayer in=[2, 3, 5, 5, 5], out=5>, <StackedInputLayer in=[2, 3, 5, 5, 5], out=5>]\n",
      "5\n",
      "[2, 3]\n",
      "<StackedInputLayer in=[2, 3, 5, 5, 5], out=5>\n",
      "3\n",
      "True\n",
      "[[-0.14056322  0.20734197  0.21508116  0.11263621 -0.19408099]\n",
      " [ 0.10434964  0.20806834  0.08814898  0.1194793   0.19214448]\n",
      " [ 0.02305275  0.11441574  0.1395776   0.05164564  0.14230883]\n",
      " [-0.03978263  0.00561874  0.20305613  0.02860758  0.08776888]\n",
      " [-0.05105552  0.00259291 -0.04615346 -0.17697047  0.01897539]]\n",
      "==== PICKLED ====\n",
      "<StackedInputLayer in=[2, 3, 5, 5, 5], out=5>\n",
      "[<StackedInputLayer in=[2, 3, 5, 5, 5], out=5>, <StackedInputLayer in=[2, 3, 5, 5, 5], out=5>, <StackedInputLayer in=[2, 3, 5, 5, 5], out=5>]\n",
      "5\n",
      "[2, 3]\n",
      "<StackedInputLayer in=[2, 3, 5, 5, 5], out=5>\n",
      "3\n",
      "True\n",
      "[[-0.14056322  0.20734197  0.21508116  0.11263621 -0.19408099]\n",
      " [ 0.10434964  0.20806834  0.08814898  0.1194793   0.19214448]\n",
      " [ 0.02305275  0.11441574  0.1395776   0.05164564  0.14230883]\n",
      " [-0.03978263  0.00561874  0.20305613  0.02860758  0.08776888]\n",
      " [-0.05105552  0.00259291 -0.04615346 -0.17697047  0.01897539]]\n"
     ]
    }
   ],
   "source": [
    "idx = random.randint(0, len(l.parameters()) - 1)\n",
    "print(l.cell_layer)\n",
    "print(l.forget_layers)\n",
    "print(l.hidden_size)\n",
    "print(l.input_sizes)\n",
    "print(l.input_layer)\n",
    "print(l.num_children)\n",
    "print(l.memory_feeds_gates)\n",
    "print(l.parameters()[idx].w)\n",
    "l_pickled = pickle.loads(pickle.dumps(l))\n",
    "print(\"==== PICKLED ====\")\n",
    "\n",
    "print(l_pickled.cell_layer)\n",
    "print(l_pickled.forget_layers)\n",
    "print(l_pickled.hidden_size)\n",
    "print(l_pickled.input_sizes)\n",
    "print(l_pickled.input_layer)\n",
    "print(l_pickled.num_children)\n",
    "print(l_pickled.memory_feeds_gates)\n",
    "print(l_pickled.parameters()[idx].w)"
   ]
  },
  {
   "cell_type": "code",
   "execution_count": 10,
   "metadata": {
    "collapsed": false
   },
   "outputs": [
    {
     "name": "stdout",
     "output_type": "stream",
     "text": [
      "[\n",
      "    [  0.043   0.034  -0.013   0.024  -0.022]\n",
      "]\n",
      "\n",
      "[\n",
      "    [  0.082   0.067  -0.025   0.045  -0.048]\n",
      "]\n",
      "\n"
     ]
    }
   ],
   "source": [
    "hs = [l.initial_states() for _ in range(NUM_CHILDREN)]\n",
    "i = [Mat(1, ipt) for ipt in INPUTS]\n",
    "\n",
    "h_combined = l.activate(i, hs)\n",
    "print(h_combined.hidden.__repr__())\n",
    "print(h_combined.memory.__repr__())"
   ]
  },
  {
   "cell_type": "code",
   "execution_count": 11,
   "metadata": {
    "collapsed": false
   },
   "outputs": [
    {
     "data": {
      "text/plain": [
       "[\n",
       "    [ -0.412  -0.326  -0.169  -0.220  -0.349]\n",
       "]"
      ]
     },
     "execution_count": 11,
     "metadata": {},
     "output_type": "execute_result"
    }
   ],
   "source": [
    "l.Wcells_to_forgets[0]"
   ]
  },
  {
   "cell_type": "code",
   "execution_count": 12,
   "metadata": {
    "collapsed": false
   },
   "outputs": [],
   "source": [
    "x = StackedLSTM([1,2], [5,4])"
   ]
  },
  {
   "cell_type": "code",
   "execution_count": 13,
   "metadata": {
    "collapsed": false
   },
   "outputs": [
    {
     "ename": "TypeError",
     "evalue": "Cannot convert list to test_dali.LSTMState",
     "output_type": "error",
     "traceback": [
      "\u001b[1;31m---------------------------------------------------------------------------\u001b[0m",
      "\u001b[1;31mTypeError\u001b[0m                                 Traceback (most recent call last)",
      "\u001b[1;32m<ipython-input-13-68b0ce28d452>\u001b[0m in \u001b[0;36m<module>\u001b[1;34m()\u001b[0m\n\u001b[0;32m      3\u001b[0m     \u001b[0mMat\u001b[0m\u001b[1;33m(\u001b[0m\u001b[1;33m[\u001b[0m\u001b[1;33m[\u001b[0m\u001b[1;36m1\u001b[0m\u001b[1;33m]\u001b[0m\u001b[1;33m,\u001b[0m\u001b[1;33m[\u001b[0m\u001b[1;36m2\u001b[0m\u001b[1;33m]\u001b[0m\u001b[1;33m]\u001b[0m\u001b[1;33m)\u001b[0m\u001b[1;33m\u001b[0m\u001b[0m\n\u001b[0;32m      4\u001b[0m ],\n\u001b[1;32m----> 5\u001b[1;33m \u001b[0mx\u001b[0m\u001b[1;33m.\u001b[0m\u001b[0minitial_states\u001b[0m\u001b[1;33m(\u001b[0m\u001b[1;33m)\u001b[0m\u001b[1;33m,\u001b[0m\u001b[1;33m\u001b[0m\u001b[0m\n\u001b[0m\u001b[0;32m      6\u001b[0m \u001b[1;36m0.5\u001b[0m\u001b[1;33m\u001b[0m\u001b[0m\n\u001b[0;32m      7\u001b[0m )\n",
      "\u001b[1;32m/home/sidor/projects/less_important/dali-cython-stub/dali/layers/LSTM.pyx\u001b[0m in \u001b[0;36mtest_dali.StackedLSTM.initial_states (test_dali.cpp:67110)\u001b[1;34m()\u001b[0m\n\u001b[0;32m    862\u001b[0m     \u001b[1;32mdef\u001b[0m \u001b[0minitial_states\u001b[0m\u001b[1;33m(\u001b[0m\u001b[0mStackedLSTM\u001b[0m \u001b[0mself\u001b[0m\u001b[1;33m)\u001b[0m\u001b[1;33m:\u001b[0m\u001b[1;33m\u001b[0m\u001b[0m\n\u001b[0;32m    863\u001b[0m         \u001b[1;32mif\u001b[0m \u001b[1;33m(\u001b[0m\u001b[0mself\u001b[0m\u001b[1;33m)\u001b[0m\u001b[1;33m.\u001b[0m\u001b[0mdtypeinternal\u001b[0m \u001b[1;33m==\u001b[0m \u001b[0mnp\u001b[0m\u001b[1;33m.\u001b[0m\u001b[0mNPY_FLOAT32\u001b[0m\u001b[1;33m:\u001b[0m\u001b[1;33m\u001b[0m\u001b[0m\n\u001b[1;32m--> 864\u001b[1;33m             \u001b[1;32mreturn\u001b[0m \u001b[0mWrapLSTMStates_float\u001b[0m\u001b[1;33m(\u001b[0m\u001b[1;33m(\u001b[0m\u001b[1;33m<\u001b[0m\u001b[0mCStackedLSTM\u001b[0m\u001b[1;33m[\u001b[0m\u001b[0mfloat\u001b[0m\u001b[1;33m]\u001b[0m\u001b[1;33m*\u001b[0m\u001b[1;33m>\u001b[0m\u001b[1;33m(\u001b[0m\u001b[1;33m(\u001b[0m\u001b[1;33m<\u001b[0m\u001b[0mStackedLSTM\u001b[0m\u001b[1;33m>\u001b[0m\u001b[1;33m(\u001b[0m\u001b[0mself\u001b[0m\u001b[1;33m)\u001b[0m\u001b[1;33m)\u001b[0m\u001b[1;33m.\u001b[0m\u001b[0mlayerinternal\u001b[0m\u001b[1;33m)\u001b[0m\u001b[1;33m)\u001b[0m\u001b[1;33m[\u001b[0m\u001b[1;36m0\u001b[0m\u001b[1;33m]\u001b[0m\u001b[1;33m.\u001b[0m\u001b[0minitial_states\u001b[0m\u001b[1;33m(\u001b[0m\u001b[1;33m)\u001b[0m\u001b[1;33m)\u001b[0m\u001b[1;33m\u001b[0m\u001b[0m\n\u001b[0m\u001b[0;32m    865\u001b[0m         \u001b[1;32melif\u001b[0m \u001b[1;33m(\u001b[0m\u001b[0mself\u001b[0m\u001b[1;33m)\u001b[0m\u001b[1;33m.\u001b[0m\u001b[0mdtypeinternal\u001b[0m \u001b[1;33m==\u001b[0m \u001b[0mnp\u001b[0m\u001b[1;33m.\u001b[0m\u001b[0mNPY_FLOAT64\u001b[0m\u001b[1;33m:\u001b[0m\u001b[1;33m\u001b[0m\u001b[0m\n\u001b[0;32m    866\u001b[0m             \u001b[1;32mreturn\u001b[0m \u001b[0mWrapLSTMStates_double\u001b[0m\u001b[1;33m(\u001b[0m\u001b[1;33m(\u001b[0m\u001b[1;33m<\u001b[0m\u001b[0mCStackedLSTM\u001b[0m\u001b[1;33m[\u001b[0m\u001b[0mdouble\u001b[0m\u001b[1;33m]\u001b[0m\u001b[1;33m*\u001b[0m\u001b[1;33m>\u001b[0m\u001b[1;33m(\u001b[0m\u001b[1;33m(\u001b[0m\u001b[1;33m<\u001b[0m\u001b[0mStackedLSTM\u001b[0m\u001b[1;33m>\u001b[0m\u001b[1;33m(\u001b[0m\u001b[0mself\u001b[0m\u001b[1;33m)\u001b[0m\u001b[1;33m)\u001b[0m\u001b[1;33m.\u001b[0m\u001b[0mlayerinternal\u001b[0m\u001b[1;33m)\u001b[0m\u001b[1;33m)\u001b[0m\u001b[1;33m[\u001b[0m\u001b[1;36m0\u001b[0m\u001b[1;33m]\u001b[0m\u001b[1;33m.\u001b[0m\u001b[0minitial_states\u001b[0m\u001b[1;33m(\u001b[0m\u001b[1;33m)\u001b[0m\u001b[1;33m)\u001b[0m\u001b[1;33m\u001b[0m\u001b[0m\n",
      "\u001b[1;32m/home/sidor/projects/less_important/dali-cython-stub/dali/layers/LSTM.pyx\u001b[0m in \u001b[0;36mtest_dali.WrapLSTMStates_float (test_dali.cpp:58028)\u001b[1;34m()\u001b[0m\n\u001b[0;32m    238\u001b[0m         \u001b[0mit\u001b[0m \u001b[1;33m+=\u001b[0m \u001b[1;36m1\u001b[0m\u001b[1;33m\u001b[0m\u001b[0m\n\u001b[0;32m    239\u001b[0m \u001b[1;33m\u001b[0m\u001b[0m\n\u001b[1;32m--> 240\u001b[1;33m     \u001b[1;32mreturn\u001b[0m \u001b[0mres\u001b[0m\u001b[1;33m\u001b[0m\u001b[0m\n\u001b[0m\u001b[0;32m    241\u001b[0m \u001b[0mcdef\u001b[0m \u001b[0minline\u001b[0m \u001b[0mLSTMState\u001b[0m \u001b[0mWrapLSTMStates_double\u001b[0m\u001b[1;33m(\u001b[0m\u001b[0mconst\u001b[0m \u001b[0mvector\u001b[0m\u001b[1;33m[\u001b[0m\u001b[0mCLSTMState\u001b[0m\u001b[1;33m[\u001b[0m\u001b[0mdouble\u001b[0m\u001b[1;33m]\u001b[0m\u001b[1;33m]\u001b[0m\u001b[1;33m&\u001b[0m \u001b[0minternal\u001b[0m\u001b[1;33m)\u001b[0m\u001b[1;33m:\u001b[0m\u001b[1;33m\u001b[0m\u001b[0m\n\u001b[0;32m    242\u001b[0m     \u001b[0mcdef\u001b[0m \u001b[0mCLSTMState\u001b[0m\u001b[1;33m[\u001b[0m\u001b[0mdouble\u001b[0m\u001b[1;33m]\u001b[0m \u001b[0mstate\u001b[0m\u001b[1;33m\u001b[0m\u001b[0m\n",
      "\u001b[1;31mTypeError\u001b[0m: Cannot convert list to test_dali.LSTMState"
     ]
    }
   ],
   "source": [
    "new_state = x.activate([\n",
    "    Mat([[1]]),\n",
    "    Mat([[1],[2]])\n",
    "],\n",
    "x.initial_states(),\n",
    "0.5\n",
    ")"
   ]
  },
  {
   "cell_type": "code",
   "execution_count": 29,
   "metadata": {
    "collapsed": false
   },
   "outputs": [
    {
     "data": {
      "text/plain": [
       "<matplotlib.image.AxesImage at 0x7ff219f9cd30>"
      ]
     },
     "execution_count": 29,
     "metadata": {},
     "output_type": "execute_result"
    },
    {
     "data": {
      "image/png": "[encoded data removed]",
      "text/plain": [
       "<matplotlib.figure.Figure at 0x7ff21a03b4a8>"
      ]
     },
     "metadata": {},
     "output_type": "display_data"
    }
   ],
   "source": [
    "plt.matshow(x.cells[0].forget_layers[0].matrices[0].w)"
   ]
  },
  {
   "cell_type": "code",
   "execution_count": 33,
   "metadata": {
    "collapsed": true
   },
   "outputs": [],
   "source": [
    "?l.activate_sequence"
   ]
  },
  {
   "cell_type": "code",
   "execution_count": null,
   "metadata": {
    "collapsed": true
   },
   "outputs": [],
   "source": []
  }
 ],
 "metadata": {
  "kernelspec": {
   "display_name": "Python 3",
   "language": "python",
   "name": "python3"
  },
  "language_info": {
   "codemirror_mode": {
    "name": "ipython",
    "version": 3
   },
   "file_extension": ".py",
   "mimetype": "text/x-python",
   "name": "python",
   "nbconvert_exporter": "python",
   "pygments_lexer": "ipython3",
   "version": "3.4.1"
  }
 },
 "nbformat": 4,
 "nbformat_minor": 0
}
