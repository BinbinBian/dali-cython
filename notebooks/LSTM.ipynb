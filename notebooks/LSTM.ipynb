{
 "cells": [
  {
   "cell_type": "code",
   "execution_count": 18,
   "metadata": {
    "collapsed": false
   },
   "outputs": [],
   "source": [
    "import sys\n",
    "sys.path.append('..')\n",
    "from test_dali import LSTM, Mat, LSTMState #, StackedLSTM\n",
    "\n",
    "import pickle\n",
    "import random\n",
    "import matplotlib.pyplot as plt\n",
    "%matplotlib inline"
   ]
  },
  {
   "cell_type": "code",
   "execution_count": 2,
   "metadata": {
    "collapsed": false
   },
   "outputs": [
    {
     "name": "stdout",
     "output_type": "stream",
     "text": [
      "float32\n",
      "[[ 1.  2.  3.]]\n",
      "[[ 4.  2.  1.]]\n"
     ]
    }
   ],
   "source": [
    "s = LSTMState(Mat([1,2,3]), Mat([4,2,1]))\n",
    "print(s.dtype)\n",
    "print(s.memory.w)\n",
    "print(s.hidden.w)"
   ]
  },
  {
   "cell_type": "code",
   "execution_count": 35,
   "metadata": {
    "collapsed": false
   },
   "outputs": [],
   "source": [
    "l = LSTM(2, 5)"
   ]
  },
  {
   "cell_type": "code",
   "execution_count": 11,
   "metadata": {
    "collapsed": false
   },
   "outputs": [
    {
     "name": "stdout",
     "output_type": "stream",
     "text": [
      "[\n",
      "    [  1.000   2.000]\n",
      "]\n",
      "\n",
      "[\n",
      "    [  0.000   0.000   0.000   0.000   0.000]\n",
      "]\n",
      "\n",
      "[\n",
      "    [  0.000   0.000   0.000   0.000   0.000]\n",
      "]\n",
      "\n",
      "[\n",
      "    [ -0.168  -0.194  -0.186   0.132  -0.092]\n",
      "]\n",
      "\n",
      "[\n",
      "    [ -0.407  -0.264  -0.313   0.219  -0.276]\n",
      "]\n",
      "\n"
     ]
    }
   ],
   "source": [
    "i = Mat([[1, 2]])\n",
    "h = l.initial_states()\n",
    "print(i.__repr__())\n",
    "print(h.hidden.__repr__())\n",
    "print(h.memory.__repr__())\n",
    "h = l.activate(i, h)\n",
    "print(h.hidden.__repr__())\n",
    "print(h.memory.__repr__())"
   ]
  },
  {
   "cell_type": "code",
   "execution_count": 34,
   "metadata": {
    "collapsed": false
   },
   "outputs": [
    {
     "ename": "RuntimeError",
     "evalue": "LSTM: Got 1 inputs but expected 2 instead.",
     "output_type": "error",
     "traceback": [
      "\u001b[1;31m---------------------------------------------------------------------------\u001b[0m",
      "\u001b[1;31mRuntimeError\u001b[0m                              Traceback (most recent call last)",
      "\u001b[1;32m<ipython-input-34-1456251f2d79>\u001b[0m in \u001b[0;36m<module>\u001b[1;34m()\u001b[0m\n\u001b[0;32m      1\u001b[0m \u001b[0mipt\u001b[0m \u001b[1;33m=\u001b[0m \u001b[1;33m[\u001b[0m\u001b[0mMat\u001b[0m\u001b[1;33m(\u001b[0m\u001b[1;36m1\u001b[0m\u001b[1;33m,\u001b[0m \u001b[1;36m2\u001b[0m\u001b[1;33m)\u001b[0m \u001b[1;32mfor\u001b[0m \u001b[0mi\u001b[0m \u001b[1;32min\u001b[0m \u001b[0mrange\u001b[0m\u001b[1;33m(\u001b[0m\u001b[1;36m10\u001b[0m\u001b[1;33m)\u001b[0m\u001b[1;33m]\u001b[0m\u001b[1;33m\u001b[0m\u001b[0m\n\u001b[1;32m----> 2\u001b[1;33m \u001b[0ml\u001b[0m\u001b[1;33m.\u001b[0m\u001b[0mactivate_sequence\u001b[0m\u001b[1;33m(\u001b[0m\u001b[0mipt\u001b[0m\u001b[1;33m,\u001b[0m \u001b[0ml\u001b[0m\u001b[1;33m.\u001b[0m\u001b[0minitial_states\u001b[0m\u001b[1;33m(\u001b[0m\u001b[1;33m)\u001b[0m\u001b[1;33m)\u001b[0m\u001b[1;33m\u001b[0m\u001b[0m\n\u001b[0m",
      "\u001b[1;32m/home/sidor/projects/less_important/dali-cython-stub/dali/layers/LSTM.pyx\u001b[0m in \u001b[0;36mtest_dali.LSTM.activate_sequence (test_dali.cpp:62168)\u001b[1;34m()\u001b[0m\n\u001b[0;32m    524\u001b[0m                 \u001b[1;32mraise\u001b[0m \u001b[0mValueError\u001b[0m\u001b[1;33m(\u001b[0m\u001b[1;34m\"Invalid dtype for initial_state: \"\u001b[0m \u001b[1;33m+\u001b[0m \u001b[0mstr\u001b[0m\u001b[1;33m(\u001b[0m\u001b[0minitial_state\u001b[0m\u001b[1;33m.\u001b[0m\u001b[0mdtype\u001b[0m\u001b[1;33m)\u001b[0m \u001b[1;33m+\u001b[0m \u001b[1;34m\", when LSTM is \"\u001b[0m \u001b[1;33m+\u001b[0m \u001b[0mstr\u001b[0m\u001b[1;33m(\u001b[0m\u001b[0mself\u001b[0m\u001b[1;33m.\u001b[0m\u001b[0mdtype\u001b[0m\u001b[1;33m)\u001b[0m\u001b[1;33m)\u001b[0m\u001b[1;33m\u001b[0m\u001b[0m\n\u001b[0;32m    525\u001b[0m             \u001b[1;32mwith\u001b[0m \u001b[0mnogil\u001b[0m\u001b[1;33m:\u001b[0m\u001b[1;33m\u001b[0m\u001b[0m\n\u001b[1;32m--> 526\u001b[1;33m                 \u001b[0mout_float\u001b[0m \u001b[1;33m=\u001b[0m \u001b[1;33m(\u001b[0m\u001b[1;33m<\u001b[0m\u001b[0mCLSTM\u001b[0m\u001b[1;33m[\u001b[0m\u001b[0mfloat\u001b[0m\u001b[1;33m]\u001b[0m\u001b[1;33m*\u001b[0m\u001b[1;33m>\u001b[0m\u001b[1;33m(\u001b[0m\u001b[1;33m(\u001b[0m\u001b[1;33m<\u001b[0m\u001b[0mLSTM\u001b[0m\u001b[1;33m>\u001b[0m\u001b[1;33m(\u001b[0m\u001b[0mself\u001b[0m\u001b[1;33m)\u001b[0m\u001b[1;33m)\u001b[0m\u001b[1;33m.\u001b[0m\u001b[0mlayerinternal\u001b[0m\u001b[1;33m)\u001b[0m\u001b[1;33m)\u001b[0m\u001b[1;33m[\u001b[0m\u001b[1;36m0\u001b[0m\u001b[1;33m]\u001b[0m\u001b[1;33m.\u001b[0m\u001b[0mactivate_sequence\u001b[0m\u001b[1;33m(\u001b[0m\u001b[1;33m(\u001b[0m\u001b[1;33m<\u001b[0m\u001b[0mCLSTMState\u001b[0m\u001b[1;33m[\u001b[0m\u001b[0mfloat\u001b[0m\u001b[1;33m]\u001b[0m\u001b[1;33m*\u001b[0m\u001b[1;33m>\u001b[0m\u001b[1;33m(\u001b[0m\u001b[1;33m(\u001b[0m\u001b[1;33m<\u001b[0m\u001b[0mLSTMState\u001b[0m\u001b[1;33m>\u001b[0m\u001b[1;33m(\u001b[0m\u001b[0minitial_state\u001b[0m\u001b[1;33m)\u001b[0m\u001b[1;33m)\u001b[0m\u001b[1;33m.\u001b[0m\u001b[0mlstmstateinternal\u001b[0m\u001b[1;33m)\u001b[0m\u001b[1;33m)\u001b[0m\u001b[1;33m[\u001b[0m\u001b[1;36m0\u001b[0m\u001b[1;33m]\u001b[0m\u001b[1;33m,\u001b[0m \u001b[0mc_input_sequence_float\u001b[0m\u001b[1;33m)\u001b[0m\u001b[1;33m\u001b[0m\u001b[0m\n\u001b[0m\u001b[0;32m    527\u001b[0m             \u001b[1;32mreturn\u001b[0m \u001b[0mWrapLSTMState_float\u001b[0m\u001b[1;33m(\u001b[0m\u001b[0mout_float\u001b[0m\u001b[1;33m)\u001b[0m\u001b[1;33m\u001b[0m\u001b[0m\n\u001b[0;32m    528\u001b[0m         \u001b[1;32melif\u001b[0m \u001b[0mcommon_dtype\u001b[0m \u001b[1;33m==\u001b[0m \u001b[0mnp\u001b[0m\u001b[1;33m.\u001b[0m\u001b[0mNPY_FLOAT64\u001b[0m\u001b[1;33m:\u001b[0m\u001b[1;33m\u001b[0m\u001b[0m\n",
      "\u001b[1;31mRuntimeError\u001b[0m: LSTM: Got 1 inputs but expected 2 instead."
     ]
    }
   ],
   "source": [
    "ipt = [Mat(1, 2) for i in range(10)]\n",
    "l.activate_sequence(ipt, l.initial_states())"
   ]
  },
  {
   "cell_type": "code",
   "execution_count": 13,
   "metadata": {
    "collapsed": false
   },
   "outputs": [],
   "source": [
    "INPUTS = [2,3]\n",
    "HIDDEN_SIZE = 5\n",
    "NUM_CHILDREN = 3\n",
    "l = LSTM(INPUTS, HIDDEN_SIZE, NUM_CHILDREN, memory_feeds_gates=True)"
   ]
  },
  {
   "cell_type": "code",
   "execution_count": 30,
   "metadata": {
    "collapsed": false
   },
   "outputs": [
    {
     "name": "stdout",
     "output_type": "stream",
     "text": [
      "<StackedInputLayer in=[2, 3, 5, 5, 5], out=5>\n",
      "[<StackedInputLayer in=[2, 3, 5, 5, 5], out=5>, <StackedInputLayer in=[2, 3, 5, 5, 5], out=5>, <StackedInputLayer in=[2, 3, 5, 5, 5], out=5>]\n",
      "5\n",
      "[2, 3]\n",
      "<StackedInputLayer in=[2, 3, 5, 5, 5], out=5>\n",
      "3\n",
      "True\n",
      "[[-0.26931459 -0.20251347  0.42822242  0.15779221  0.1396879 ]]\n",
      "==== PICKLED ====\n",
      "<StackedInputLayer in=[2, 3, 5, 5, 5], out=5>\n",
      "[<StackedInputLayer in=[2, 3, 5, 5, 5], out=5>, <StackedInputLayer in=[2, 3, 5, 5, 5], out=5>, <StackedInputLayer in=[2, 3, 5, 5, 5], out=5>]\n",
      "5\n",
      "[2, 3]\n",
      "<StackedInputLayer in=[2, 3, 5, 5, 5], out=5>\n",
      "3\n",
      "True\n",
      "[[-0.26931459 -0.20251347  0.42822242  0.15779221  0.1396879 ]]\n"
     ]
    }
   ],
   "source": [
    "idx = random.randint(0, len(l.parameters()) - 1)\n",
    "print(l.cell_layer)\n",
    "print(l.forget_layers)\n",
    "print(l.hidden_size)\n",
    "print(l.input_sizes)\n",
    "print(l.input_layer)\n",
    "print(l.num_children)\n",
    "print(l.memory_feeds_gates)\n",
    "print(l.parameters()[idx].w)\n",
    "l_pickled = pickle.loads(pickle.dumps(l))\n",
    "print(\"==== PICKLED ====\")\n",
    "\n",
    "print(l_pickled.cell_layer)\n",
    "print(l_pickled.forget_layers)\n",
    "print(l_pickled.hidden_size)\n",
    "print(l_pickled.input_sizes)\n",
    "print(l_pickled.input_layer)\n",
    "print(l_pickled.num_children)\n",
    "print(l_pickled.memory_feeds_gates)\n",
    "print(l_pickled.parameters()[idx].w)"
   ]
  },
  {
   "cell_type": "code",
   "execution_count": 8,
   "metadata": {
    "collapsed": false
   },
   "outputs": [
    {
     "name": "stdout",
     "output_type": "stream",
     "text": [
      "[\n",
      "    [  0.018  -0.039   0.014   0.052  -0.027]\n",
      "]\n",
      "\n",
      "[\n",
      "    [  0.034  -0.072   0.031   0.105  -0.050]\n",
      "]\n",
      "\n"
     ]
    }
   ],
   "source": [
    "hs = [l.initial_states() for _ in range(NUM_CHILDREN)]\n",
    "i = [Mat(1, ipt) for ipt in INPUTS]\n",
    "\n",
    "h_combined = l.activate(i, hs)\n",
    "print(h_combined.hidden.__repr__())\n",
    "print(h_combined.memory.__repr__())"
   ]
  },
  {
   "cell_type": "code",
   "execution_count": 9,
   "metadata": {
    "collapsed": false
   },
   "outputs": [
    {
     "data": {
      "text/plain": [
       "[\n",
       "    [ -0.297   0.423  -0.371   0.326   0.129]\n",
       "]"
      ]
     },
     "execution_count": 9,
     "metadata": {},
     "output_type": "execute_result"
    }
   ],
   "source": [
    "l.Wcells_to_forgets[0]"
   ]
  },
  {
   "cell_type": "code",
   "execution_count": 2,
   "metadata": {
    "collapsed": false
   },
   "outputs": [],
   "source": [
    "x = StackedLSTM([1,2], [5,4])"
   ]
  },
  {
   "cell_type": "code",
   "execution_count": 10,
   "metadata": {
    "collapsed": false
   },
   "outputs": [],
   "source": [
    "new_state = x.activate([\n",
    "    Mat([[1]]),\n",
    "    Mat([[1],[2]])\n",
    "],\n",
    "x.initial_states(),\n",
    "0.5\n",
    ")"
   ]
  },
  {
   "cell_type": "code",
   "execution_count": 29,
   "metadata": {
    "collapsed": false
   },
   "outputs": [
    {
     "data": {
      "text/plain": [
       "<matplotlib.image.AxesImage at 0x7ff219f9cd30>"
      ]
     },
     "execution_count": 29,
     "metadata": {},
     "output_type": "execute_result"
    },
    {
     "data": {
      "image/png": "[encoded data removed]",
      "text/plain": [
       "<matplotlib.figure.Figure at 0x7ff21a03b4a8>"
      ]
     },
     "metadata": {},
     "output_type": "display_data"
    }
   ],
   "source": [
    "plt.matshow(x.cells[0].forget_layers[0].matrices[0].w)"
   ]
  },
  {
   "cell_type": "code",
   "execution_count": 33,
   "metadata": {
    "collapsed": true
   },
   "outputs": [],
   "source": [
    "?l.activate_sequence"
   ]
  },
  {
   "cell_type": "code",
   "execution_count": null,
   "metadata": {
    "collapsed": true
   },
   "outputs": [],
   "source": []
  }
 ],
 "metadata": {
  "kernelspec": {
   "display_name": "Python 3",
   "language": "python",
   "name": "python3"
  },
  "language_info": {
   "codemirror_mode": {
    "name": "ipython",
    "version": 3
   },
   "file_extension": ".py",
   "mimetype": "text/x-python",
   "name": "python",
   "nbconvert_exporter": "python",
   "pygments_lexer": "ipython3",
   "version": "3.4.1"
  }
 },
 "nbformat": 4,
 "nbformat_minor": 0
}
