{
 "cells": [
  {
   "cell_type": "code",
   "execution_count": 1,
   "metadata": {
    "collapsed": false
   },
   "outputs": [],
   "source": [
    "import sys\n",
    "sys.path.append('..')\n",
    "%load_ext autoreload\n",
    "%autoreload 2"
   ]
  },
  {
   "cell_type": "code",
   "execution_count": 2,
   "metadata": {
    "collapsed": false
   },
   "outputs": [],
   "source": [
    "import numpy as np\n",
    "import math\n",
    "import matplotlib.pyplot as plt\n",
    "import random\n",
    "import time\n",
    "import dill as pickle\n",
    "\n",
    "from IPython.display import clear_output\n",
    "\n",
    "import dali.core as D\n",
    "from dali.data import Lines, DiscoverFiles, BatchBenefactor\n",
    "from dali.data.batch import TranslationBatch\n",
    "from dali.data.translation import TranslationFiles, TranslationMapper, build_vocabs, iterate_examples\n",
    "\n",
    "from dali.utils import (\n",
    "    Vocab,\n",
    "    median_smoothing,\n",
    "    subsample,\n",
    "    throttled,\n",
    "    pickle_globals,\n",
    "    unpickle_globals,\n",
    ")\n",
    "from dali import beam_search\n",
    "\n",
    "%matplotlib inline"
   ]
  },
  {
   "cell_type": "code",
   "execution_count": 3,
   "metadata": {
    "collapsed": false
   },
   "outputs": [],
   "source": [
    "D.config.default_device = 'gpu'"
   ]
  },
  {
   "cell_type": "markdown",
   "metadata": {},
   "source": [
    "# Data loading"
   ]
  },
  {
   "cell_type": "code",
   "execution_count": 4,
   "metadata": {
    "collapsed": true
   },
   "outputs": [],
   "source": [
    "# dataset\n",
    "DATASET_PATH = \"/home/sidor/datasets/translation/fr_en/europarl/\"\n",
    "FROM_LANG = \"fr\"\n",
    "TO_LANG   = \"en\"\n",
    "FROM_VOCAB_SIZE = 20000\n",
    "TO_VOCAB_SIZE   = 20000\n",
    "\n",
    "# batching\n",
    "MINIBATCH = 128\n",
    "SENTENCE_LENGTH_BOUNDS = (None, 20)\n",
    "SENTENCES_UNTIL_MINIBATCH = 1*MINIBATCH\n",
    "\n",
    "# network sizes\n",
    "INPUT_SIZE = 512\n",
    "HIDDENS = [512,512,512,512]\n",
    "SOFTMAX_INPUT = None"
   ]
  },
  {
   "cell_type": "code",
   "execution_count": 5,
   "metadata": {
    "collapsed": false
   },
   "outputs": [
    {
     "name": "stdout",
     "output_type": "stream",
     "text": [
      "Impatient User Detected, file processing halted, proceeding to build vocab.\n",
      "fr vocabulary containts 20002 words\n",
      "en vocabulary containts 20002 words\n"
     ]
    }
   ],
   "source": [
    "# you can press stop at any time if you think enough samples were collected.\n",
    "vocabs = build_vocabs(DATASET_PATH, FROM_LANG, TO_LANG, from_max_size=FROM_VOCAB_SIZE, to_max_size=TO_VOCAB_SIZE)\n",
    "print (FROM_LANG + \" vocabulary containts\", len(vocabs[0]), \"words\")\n",
    "print (TO_LANG   + \" vocabulary containts\", len(vocabs[1]), \"words\")"
   ]
  },
  {
   "cell_type": "code",
   "execution_count": 6,
   "metadata": {
    "collapsed": false
   },
   "outputs": [],
   "source": [
    "def create_dataset_iterator():\n",
    "    return iterate_examples(DATASET_PATH, FROM_LANG, TO_LANG, vocabs, \n",
    "                            minibatch_size=MINIBATCH,\n",
    "                            sentence_length_bounds=SENTENCE_LENGTH_BOUNDS,\n",
    "                            sentences_until_minibatch=SENTENCES_UNTIL_MINIBATCH)"
   ]
  },
  {
   "cell_type": "markdown",
   "metadata": {},
   "source": [
    "# Model definition "
   ]
  },
  {
   "cell_type": "code",
   "execution_count": 7,
   "metadata": {
    "collapsed": false
   },
   "outputs": [],
   "source": [
    "class TranslationModel(object):\n",
    "    def __init__(self, input_size, hiddens, \n",
    "                       encoder_vocab_size, decoder_vocab_size,\n",
    "                       softmax_input_size=None, dtype=np.float32):\n",
    "        self.input_size = input_size\n",
    "        self.hiddens    = hiddens\n",
    "        self.encoder_vocab_size = encoder_vocab_size\n",
    "        self.decoder_vocab_size = decoder_vocab_size\n",
    "        self.softmax_input_size = softmax_input_size\n",
    "        self.dtype = dtype\n",
    "        \n",
    "        self.encoder_embedding = D.random.uniform(-0.05, 0.05, (encoder_vocab_size, input_size), dtype=dtype)\n",
    "        self.decoder_embedding = D.random.uniform(-0.05, 0.05, (decoder_vocab_size, input_size), dtype=dtype)\n",
    "        \n",
    "        self.encoder_lstm    = D.StackedLSTM(input_size, hiddens, shortcut=True, dtype=dtype)\n",
    "        self.decoder_lstm    = D.StackedLSTM(input_size, hiddens, shortcut=True, dtype=dtype)\n",
    "        \n",
    "        if self.softmax_input_size is not None:\n",
    "            self.predecoder = D.Layer(self.hiddens[-1], self.softmax_input_size)\n",
    "            self.decoder = D.Layer(self.softmax_input_size, decoder_vocab_size, dtype=dtype)\n",
    "        else:    \n",
    "            self.decoder = D.Layer(hiddens[-1], decoder_vocab_size, dtype=dtype)\n",
    "    \n",
    "    def decode_state(self, state):\n",
    "        if self.softmax_input_size is not None:\n",
    "            decoder_input = self.predecoder.activate(state[-1].hidden)\n",
    "        else:\n",
    "            decoder_input = state[-1].hidden\n",
    "        return self.decoder.activate(decoder_input)\n",
    "        \n",
    "    def error(self, batch):\n",
    "        error = D.Mat(1,1)\n",
    "        state = self.encoder_lstm.initial_states()\n",
    "        for ts in range(batch.timesteps):\n",
    "            inputs  = batch.inputs(ts)\n",
    "            targets = batch.targets(ts)\n",
    "            if ts < batch.from_timesteps:\n",
    "                assert targets is None\n",
    "                encoded = self.encoder_embedding[inputs]\n",
    "                state = self.encoder_lstm.activate(encoded, state)\n",
    "            else:\n",
    "                assert inputs is None\n",
    "                decoded = self.decode_state(state)\n",
    "                # mask the error - only for the relevant sentences\n",
    "                #tstep_error = batch.masks(ts).T() * D.MatOps.softmax_cross_entropy(decoded, targets)\n",
    "                tstep_error = D.MatOps.softmax_cross_entropy(decoded, targets)\n",
    "                error = error + tstep_error.sum()\n",
    "                # feedback the predictions\n",
    "                if ts + 1 != batch.timesteps:\n",
    "                    # for the last timestep encoding is not necessary\n",
    "                    encoded = self.decoder_embedding[targets]\n",
    "                    state = self.decoder_lstm.activate(encoded, state)\n",
    "\n",
    "        return error\n",
    "    \n",
    "    def sample(self, input_sentence, temperature=1.0, **kwargs):\n",
    "        with D.NoBackprop():\n",
    "            state = self.encoder_lstm.initial_states()\n",
    "            for word_idx in input_sentence:\n",
    "                encoded = self.encoder_embedding[word_idx]\n",
    "                state = self.encoder_lstm.activate(encoded, state)\n",
    "            def candidate_scores(state):\n",
    "                decoded = self.decode_state(state)\n",
    "                return D.MatOps.softmax(decoded, temperature=temperature).log()\n",
    "            def make_choice(state, candidate_idx):\n",
    "                encoded = self.decoder_embedding[candidate_idx]\n",
    "                return self.decoder_lstm.activate(encoded, state)\n",
    "\n",
    "            return beam_search(state,\n",
    "                               candidate_scores,\n",
    "                               make_choice,\n",
    "                               **kwargs)\n",
    "    \n",
    "    def parameters(self):\n",
    "        ret = ([self.encoder_embedding,\n",
    "               self.decoder_embedding]      \n",
    "            + self.encoder_lstm.parameters() \n",
    "            + self.decoder_lstm.parameters() \n",
    "            + self.decoder.parameters())\n",
    "        if self.softmax_input_size is not None:\n",
    "            ret.extend(self.predecoder.parameters())\n",
    "        return ret"
   ]
  },
  {
   "cell_type": "code",
   "execution_count": 8,
   "metadata": {
    "collapsed": false
   },
   "outputs": [],
   "source": [
    "def show_reconstructions(model, example_pair, temperature=1.0):\n",
    "    from_words, to_words = example_pair\n",
    "    from_vocab, to_vocab = vocabs\n",
    "    from_with_unk = ' '.join(reversed(from_vocab.decode(from_vocab.encode(from_words))))\n",
    "    to_with_unk   = ' '.join(to_vocab.decode(to_vocab.encode(to_words)))\n",
    "    print('TRANSLATING: %s' % from_with_unk)\n",
    "    print('REFERENCE:   %s' % to_with_unk)\n",
    "    print('')\n",
    "    for solution, score, _ in model.sample(from_vocab.encode(from_words, True), \n",
    "                                           eos_symbol=to_vocab.eos,\n",
    "                                           max_sequence_length=SENTENCE_LENGTH_BOUNDS[1] + 1,\n",
    "                                           blacklist=[], #to_vocab.unk],\n",
    "                                           temperature=temperature):\n",
    "        score = math.exp(score.w[0])\n",
    "        # reveal the unks\n",
    "        solution = ' '.join(to_vocab.decode(solution, False))\n",
    "        print('    %f => %s' % (score, to_vocab.decode(solution, True)))"
   ]
  },
  {
   "cell_type": "markdown",
   "metadata": {},
   "source": [
    "# Create new experiment "
   ]
  },
  {
   "cell_type": "code",
   "execution_count": 9,
   "metadata": {
    "collapsed": false
   },
   "outputs": [],
   "source": [
    "model  = TranslationModel(INPUT_SIZE, HIDDENS, len(vocabs[0]), len(vocabs[1]), softmax_input_size=SOFTMAX_INPUT)"
   ]
  },
  {
   "cell_type": "code",
   "execution_count": 10,
   "metadata": {
    "collapsed": false
   },
   "outputs": [],
   "source": [
    "params = model.parameters()\n",
    "solver = D.SGD(params)\n",
    "solver.step_size = 0.02\n",
    "# solver = D.AdaDelta(params, rho=0.95)"
   ]
  },
  {
   "cell_type": "code",
   "execution_count": 11,
   "metadata": {
    "collapsed": true
   },
   "outputs": [],
   "source": [
    "data            = []\n",
    "error_evolution = []\n",
    "epoch_error     = []"
   ]
  },
  {
   "cell_type": "markdown",
   "metadata": {},
   "source": [
    "# (Optional) continue running previous attempt "
   ]
  },
  {
   "cell_type": "code",
   "execution_count": 9,
   "metadata": {
    "collapsed": true
   },
   "outputs": [],
   "source": [
    "unpickle_globals(\"/home/sidor/tmp/translation_experiment\")\n",
    "params = model.parameters()"
   ]
  },
  {
   "cell_type": "markdown",
   "metadata": {},
   "source": [
    "# Training"
   ]
  },
  {
   "cell_type": "code",
   "execution_count": null,
   "metadata": {
    "collapsed": false
   },
   "outputs": [
    {
     "name": "stdout",
     "output_type": "stream",
     "text": [
      "Epochs completed:   0\n",
      "Error:              10.6663912857\n",
      "Time per batch:     0.7895836432774862\n",
      "Words per second:   4243.755590086884\n",
      "Batches processed:  30\n",
      "Solver step size:   0.019999999552965164\n",
      "TRANSLATING: \n",
      "REFERENCE:   .\n",
      "\n",
      "    0.000000 => The The We is . **EOS**\n",
      "    0.000000 => The The We is **EOS**\n",
      "    0.000000 => The The We is the . **EOS**\n",
      "    0.000000 => The The The We is . **EOS**\n",
      "    0.000000 => The The We is the the . **EOS**\n"
     ]
    }
   ],
   "source": [
    "D.config.clear_gpu()\n",
    "\n",
    "total_error = 0.0\n",
    "total_time  = 0.0\n",
    "num_words, num_targets, num_batches = 0, 0, 0\n",
    "\n",
    "@throttled(5)\n",
    "def report(example):\n",
    "    if num_batches == 0 or num_words == 0 or abs(total_time) < 1e-6:\n",
    "        return\n",
    "    clear_output()\n",
    "    print('Epochs completed:  ', len(error_evolution))\n",
    "    print('Error:             ', total_error / num_batches)\n",
    "    print('Time per batch:    ', total_time  / num_batches)\n",
    "    print('Words per second:  ', num_words   / total_time )\n",
    "    print('Batches processed: ', num_batches)\n",
    "    if hasattr(solver, 'step_size'):\n",
    "        print('Solver step size:  ', solver.step_size)\n",
    "    show_reconstructions(model, example)\n",
    "    sys.stdout.flush()\n",
    "    \n",
    "\n",
    "batch_end_time, batch_start_time = None, None\n",
    "\n",
    "while True:\n",
    "    if len(error_evolution) > 40:\n",
    "        break\n",
    "        \n",
    "    if len(error_evolution) >= 5 and hasattr(solver, 'step_size'):\n",
    "        solver.step_size = solver.step_size / 1.5\n",
    "        \n",
    "    for batch in data:    \n",
    "        example_pair = random.choice(batch.sentence_pairs)\n",
    "        report(example_pair) \n",
    "            \n",
    "        batch_start_time = time.time()\n",
    "        error = model.error(batch)\n",
    "\n",
    "        (error / batch.examples).grad()\n",
    "        D.Graph.backward()\n",
    "        solver.step(params)\n",
    "        batch_end_time = time.time()\n",
    "\n",
    "        epoch_error.append(error.w[0,0] / batch.to_tokens)\n",
    "        \n",
    "        total_error   += error.w[0, 0] / batch.to_tokens\n",
    "        total_time += batch_end_time - batch_start_time\n",
    "\n",
    "        num_words   += batch.from_tokens + batch.to_tokens\n",
    "        num_targets += batch.from_tokens + batch.to_tokens\n",
    "        num_batches += 1\n",
    "\n",
    "        # free memory as soon as possible\n",
    "        del batch\n",
    "\n",
    "    if len(epoch_error) > 0:\n",
    "        epoch_error = subsample(epoch_error, maximum_length=1000)\n",
    "        error_evolution.append(epoch_error)\n",
    "        epoch_error = []\n",
    "            \n",
    "    data = create_dataset_iterator()"
   ]
  },
  {
   "cell_type": "code",
   "execution_count": 17,
   "metadata": {
    "collapsed": false
   },
   "outputs": [],
   "source": [
    "pickle_globals(\"/home/sidor/tmp/translation_experiment\", [\"model\", \"vocabs\", \"solver\", \"data\", \"error_evolution\"])"
   ]
  },
  {
   "cell_type": "code",
   "execution_count": 636,
   "metadata": {
    "collapsed": false
   },
   "outputs": [
    {
     "data": {
      "text/plain": [
       "[<matplotlib.lines.Line2D at 0x7fc3e29f7a58>]"
      ]
     },
     "execution_count": 636,
     "metadata": {},
     "output_type": "execute_result"
    },
    {
     "data": {
      "image/png": "[encoded data removed]",
      "text/plain": [
       "<matplotlib.figure.Figure at 0x7fc3e2875d30>"
      ]
     },
     "metadata": {},
     "output_type": "display_data"
    }
   ],
   "source": [
    "# 0.01 learning rate Jonathan's weights, divide by 1.5 every epoch \n",
    "def flatten_error():\n",
    "    x = []\n",
    "    y = []\n",
    "    for epoch_no, error_epoch in enumerate(error_evolution):\n",
    "        x.extend(float(epoch_no) + float(t) / len(error_epoch) for t in range(len(error_epoch)))\n",
    "        y.extend(error_epoch)\n",
    "        \n",
    "    y = median_smoothing(y, 30)\n",
    "    x = x[:len(y)]\n",
    "    return x,y\n",
    "    \n",
    "plt.plot(*flatten_error())"
   ]
  },
  {
   "cell_type": "code",
   "execution_count": 575,
   "metadata": {
    "collapsed": false
   },
   "outputs": [
    {
     "data": {
      "text/plain": [
       "[<matplotlib.lines.Line2D at 0x7fc3e254b0f0>]"
      ]
     },
     "execution_count": 575,
     "metadata": {},
     "output_type": "execute_result"
    },
    {
     "data": {
      "image/png": "[encoded data removed]",
      "text/plain": [
       "<matplotlib.figure.Figure at 0x7fc3e2829c88>"
      ]
     },
     "metadata": {},
     "output_type": "display_data"
    }
   ],
   "source": [
    "# 0.3 learning rate Jonathan's weights, divide by 2 every epoch "
   ]
  },
  {
   "cell_type": "code",
   "execution_count": 559,
   "metadata": {
    "collapsed": false
   },
   "outputs": [
    {
     "data": {
      "text/plain": [
       "[<matplotlib.lines.Line2D at 0x7fc3e263eb38>]"
      ]
     },
     "execution_count": 559,
     "metadata": {},
     "output_type": "execute_result"
    },
    {
     "data": {
      "image/png": "[encoded data removed]",
      "text/plain": [
       "<matplotlib.figure.Figure at 0x7fc3e2654160>"
      ]
     },
     "metadata": {},
     "output_type": "display_data"
    }
   ],
   "source": [
    "# 0.03 learning rate Jonathan weights"
   ]
  },
  {
   "cell_type": "code",
   "execution_count": 553,
   "metadata": {
    "collapsed": false
   },
   "outputs": [
    {
     "data": {
      "text/plain": [
       "[<matplotlib.lines.Line2D at 0x7fc3e264f240>]"
      ]
     },
     "execution_count": 553,
     "metadata": {},
     "output_type": "execute_result"
    },
    {
     "data": {
      "image/png": "[encoded data removed]",
      "text/plain": [
       "<matplotlib.figure.Figure at 0x7fc3e2729240>"
      ]
     },
     "metadata": {},
     "output_type": "display_data"
    }
   ],
   "source": [
    "# 0.03 learning rate Jonathan weights"
   ]
  },
  {
   "cell_type": "code",
   "execution_count": 547,
   "metadata": {
    "collapsed": false
   },
   "outputs": [
    {
     "data": {
      "text/plain": [
       "[<matplotlib.lines.Line2D at 0x7fc3e26e61d0>]"
      ]
     },
     "execution_count": 547,
     "metadata": {},
     "output_type": "execute_result"
    },
    {
     "data": {
      "image/png": "[encoded data removed]",
      "text/plain": [
       "<matplotlib.figure.Figure at 0x7fc3e2741b00>"
      ]
     },
     "metadata": {},
     "output_type": "display_data"
    }
   ],
   "source": [
    "# 0.3 learning rate Jonathan weights"
   ]
  },
  {
   "cell_type": "code",
   "execution_count": 541,
   "metadata": {
    "collapsed": false
   },
   "outputs": [
    {
     "data": {
      "text/plain": [
       "[<matplotlib.lines.Line2D at 0x7fc3e2776828>]"
      ]
     },
     "execution_count": 541,
     "metadata": {},
     "output_type": "execute_result"
    },
    {
     "data": {
      "image/png": "[encoded data removed]",
      "text/plain": [
       "<matplotlib.figure.Figure at 0x7fc3e279f940>"
      ]
     },
     "metadata": {},
     "output_type": "display_data"
    }
   ],
   "source": [
    "# 0.3 learning rate, torch weight init"
   ]
  },
  {
   "cell_type": "code",
   "execution_count": 431,
   "metadata": {
    "collapsed": false
   },
   "outputs": [
    {
     "data": {
      "text/plain": [
       "[<matplotlib.lines.Line2D at 0x7fc3e3081a58>]"
      ]
     },
     "execution_count": 431,
     "metadata": {},
     "output_type": "execute_result"
    },
    {
     "data": {
      "image/png": "[encoded data removed]",
      "text/plain": [
       "<matplotlib.figure.Figure at 0x7fc3e298d550>"
      ]
     },
     "metadata": {},
     "output_type": "display_data"
    }
   ],
   "source": [
    "r= epoch_error#median_smoothing(epoch_error, window=500)\n",
    "\n",
    "plt.plot(range(len(r)), r)"
   ]
  },
  {
   "cell_type": "code",
   "execution_count": 437,
   "metadata": {
    "collapsed": false
   },
   "outputs": [
    {
     "name": "stdout",
     "output_type": "stream",
     "text": [
      "[[], [nan, nan], [nan, nan], [nan, nan], [nan, nan], [nan, nan], [nan, nan], [nan, nan], [nan, nan], [nan, nan], [nan, nan], [nan, nan], [nan, nan], [nan, nan], [nan, nan], [nan, nan], [nan, nan], [nan, nan], [nan, nan], [nan, nan], [nan, nan], [nan, nan], [nan, nan], [nan, nan], [nan, nan], [nan, nan], [nan, nan], [nan, nan], [nan, nan], [nan, nan], [nan, nan], [nan, nan], [nan, nan], [nan, nan], [nan, nan], [nan, nan], [nan, nan], [nan, nan], [nan, nan], [nan, nan], [nan, nan], [nan, nan], [nan, nan], [nan, nan], [nan, nan], [nan, nan], [nan, nan], [nan, nan], [nan, nan], [nan, nan], [nan, nan], [nan, nan], [nan, nan], [nan, nan], [nan, nan], [nan, nan], [nan, nan], [nan, nan], [nan, nan], [nan, nan], [nan, nan], [nan, nan], [nan, nan], [nan, nan], [nan, nan], [nan, nan], [nan, nan], [nan, nan], [nan, nan], [nan, nan], [nan, nan], [nan, nan], [nan, nan], [nan, nan], [nan, nan], [nan, nan], [nan, nan], [nan, nan], [nan, nan], [nan, nan], [nan, nan], [nan, nan], [nan, nan], [nan, nan], [nan, nan], [nan, nan], [nan, nan], [nan, nan], [nan, nan], [nan, nan], [nan, nan], [nan, nan], [nan, nan], [nan, nan], [nan, nan], [nan, nan], [nan, nan], [nan, nan], [nan, nan], [nan, nan], [nan, nan], [nan, nan], [nan, nan], [nan, nan], [nan, nan], [nan, nan], [nan, nan], [nan, nan], [nan, nan], [nan, nan], [nan, nan], [nan, nan], [nan, nan], [nan, nan], [nan, nan], [nan, nan], [nan, nan], [nan, nan], [nan, nan], [nan, nan], [nan, nan], [nan, nan], [nan, nan], [nan, nan], [nan, nan], [nan, nan], [nan, nan], [nan, nan], [nan, nan], [nan, nan], [nan, nan], [nan, nan], [nan, nan], [nan, nan], [nan, nan], [nan, nan], [nan, nan], [nan, nan], [nan, nan], [nan, nan], [nan, nan], [nan, nan], [nan, nan], [nan, nan], [nan, nan], [nan, nan], [nan, nan], [nan, nan], [nan, nan], [nan, nan], [nan, nan], [nan, nan], [nan, nan], [nan, nan], [nan, nan], [nan, nan], [nan, nan], [nan, nan], [nan, nan], [nan, nan], [nan, nan], [nan, nan], [nan, nan], [nan, nan], [nan, nan], [nan, nan], [nan, nan], [nan, nan], [nan, nan], [nan, nan], [nan, nan], [nan, nan], [nan, nan], [nan, nan], [nan, nan], [nan, nan], [nan, nan], [nan, nan], [nan, nan], [nan, nan], [nan, nan], [nan, nan], [nan, nan], [nan, nan], [9.6280818979721521e-07], [9.6280818979721521e-07, 0.00030618634385367233], [9.6280818979721521e-07, 0.00023092378008489808], [9.6280818979721521e-07, 0.00013593237963505089], [9.6280818979721521e-07, 9.7472773632034659e-05], [9.6280818979721521e-07, 8.7525356017674014e-05], [9.6280818979721521e-07, 8.6349813500419259e-05], [9.6280818979721521e-07, 8.5359691487004355e-05], [9.6280818979721521e-07, 8.2994791834304735e-05], [9.6280818979721521e-07, 7.8390502797750131e-05], [9.6280818979721521e-07, 7.2415505807536348e-05], [1.1182490197825246e-06, 6.4757526464139417e-05], [4.4562802941072732e-06, 5.5422797837915518e-05], [1.7606595065444708e-05, 4.5315124831783273e-05], [1.0739611025201156e-05, 3.775754157686606e-05], [1.014300505630672e-05, 3.4524321866532169e-05], [5.8989877288695421e-06, 0.0001022803286711375], [1.7026515706675127e-06, 0.00014165636578885218], [9.6280818979721521e-07, 0.00019701694448788962], [9.6280818979721521e-07, 0.00024236278841271996], [9.6280818979721521e-07, 0.0001883648025492827], [9.6280818979721521e-07, 0.00025541083111117285], [9.7482334240339705e-07, 0.00021512563883637389], [9.6280818979721521e-07, 0.00018339016241952777], [9.6280818979721521e-07, 0.00014329199135924378], [9.6280818979721521e-07, 9.6165012413014964e-05], [1.0944062523776664e-06, 6.4841811157142118e-05], [1.4043498595128767e-06, 4.9884479570512973e-05], [1.6425798094132916e-06, 7.0191599661484361e-05], [1.6904508811421692e-06, 0.00011189450742676854], [1.5239327694871463e-06, 0.00012978833789626756], [1.261111901840195e-06, 0.00010727943542102973], [1.0703779480536468e-06, 9.0536283096298575e-05], [9.6280818979721521e-07, 0.00015995589395364126], [9.6280818979721521e-07, 0.00016646364626164237], [9.6280818979721521e-07, 0.00029190819865713519], [9.6280818979721521e-07, 0.0002085975332496067], [9.6280818979721521e-07, 0.0001668638433329761], [9.6280818979721521e-07, 0.00016181564812238017], [9.6280818979721521e-07, 0.00015140857431106269], [9.6280818979721521e-07, 0.00013620725561243793], [9.6280818979721521e-07, 0.00012061369488947093], [9.6280818979721521e-07, 0.0001028199427916358], [9.6280818979721521e-07, 7.7832325284058854e-05], [9.6280818979721521e-07, 5.5912489187903702e-05], [9.6280818979721521e-07, 6.8150024162605405e-05], [9.6280818979721521e-07, 8.3549278012166425e-05], [9.6280818979721521e-07, 6.9998844992369413e-05], [9.6280818979721521e-07, 6.0418358771130443e-05], [9.6280818979721521e-07, 7.7264917005474373e-05], [9.6280818979721521e-07, 8.3419106279810265e-05], [9.6280818979721521e-07, 8.4089930169284344e-05], [9.6280818979721521e-07, 0.00012530094439474246], [9.6280818979721521e-07, 0.0003718007743979494], [9.6280818979721521e-07, 0.00026977452216669917], [9.6280818979721521e-07, 0.00065870412314931548], [9.9885164672741666e-07, 0.00036510014130423468], [9.7482334240339705e-07, 0.00050023124398042762], [9.6280818979721521e-07, 0.00051944423466920853], [9.6280818979721521e-07, 0.00048686009055624407], [1.3089829735690728e-06, 0.00045148748904466629], [1.5470252037630416e-06, 0.00041195137115816277], [1.4999044651631265e-06, 0.00042032656104614335], [1.618924579815939e-06, 0.00053877612420668208], [1.8575296053313649e-06, 0.00095044386883576715], [2.1674732124665752e-06, 0.0006162454762185613], [2.4295437469845639e-06, 0.0004594173903266589], [2.5249108148273079e-06, 0.00040923536289483309], [2.4774148187134414e-06, 0.00038597759945938986], [2.357831908739172e-06, 0.00035425741225481033], [2.263027818116825e-06, 0.00030672946013510227], [2.2151567463879474e-06, 0.00035176713330050308], [2.1674732124665752e-06, 0.00029014912433922291], [2.1436304450617173e-06, 0.00023475857839609185], [2.1674732124665752e-06, 0.00019303672403718034], [2.1436304450617173e-06, 0.00016778602730482817], [2.1915016986895353e-06, 0.00016227149171754718], [2.2151567463879474e-06, 0.00021120337381338081], [2.2870561224408446e-06, 0.00040166499093174934], [2.357831908739172e-06, 0.00016120960935950279], [2.5008823286043482e-06, 0.00013623456470668316], [2.6683363103074951e-06, 0.00011023199961831172], [2.90656626020791e-06, 9.8688915992776557e-05]]\n"
     ]
    }
   ],
   "source": [
    "print(error_evolution)"
   ]
  },
  {
   "cell_type": "code",
   "execution_count": null,
   "metadata": {
    "collapsed": true
   },
   "outputs": [],
   "source": []
  }
 ],
 "metadata": {
  "kernelspec": {
   "display_name": "Python 3",
   "language": "python",
   "name": "python3"
  },
  "language_info": {
   "codemirror_mode": {
    "name": "ipython",
    "version": 3
   },
   "file_extension": ".py",
   "mimetype": "text/x-python",
   "name": "python",
   "nbconvert_exporter": "python",
   "pygments_lexer": "ipython3",
   "version": "3.4.1"
  }
 },
 "nbformat": 4,
 "nbformat_minor": 0
}
