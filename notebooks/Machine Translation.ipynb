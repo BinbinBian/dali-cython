{
 "cells": [
  {
   "cell_type": "code",
   "execution_count": 1,
   "metadata": {
    "collapsed": false
   },
   "outputs": [],
   "source": [
    "import sys\n",
    "sys.path.append('..')\n",
    "%load_ext autoreload\n",
    "%autoreload 2"
   ]
  },
  {
   "cell_type": "code",
   "execution_count": 2,
   "metadata": {
    "collapsed": false
   },
   "outputs": [],
   "source": [
    "import numpy as np\n",
    "import math\n",
    "import matplotlib.pyplot as plt\n",
    "import random\n",
    "import time\n",
    "import dill as pickle\n",
    "\n",
    "from IPython.display import clear_output\n",
    "\n",
    "import dali.core as D\n",
    "import dali\n",
    "from dali.data import Lines, Process, DiscoverFiles, BatchBenefactor, IdentityReducer\n",
    "from dali.data.batch import TranslationBatch\n",
    "from dali.data.translation import TranslationFiles, TranslationMapper, build_vocabs, iterate_examples\n",
    "from dali.utils.scoring import bleu, ErrorTracker\n",
    "from dali.utils import (\n",
    "    Vocab,\n",
    "    Solver,\n",
    "    median_smoothing,\n",
    "    subsample,\n",
    "    Throttled,\n",
    "    pickle_globals,\n",
    "    unpickle_globals,\n",
    ")\n",
    "from dali import beam_search\n",
    "\n",
    "%matplotlib inline"
   ]
  },
  {
   "cell_type": "code",
   "execution_count": 3,
   "metadata": {
    "collapsed": false
   },
   "outputs": [
    {
     "name": "stdout",
     "output_type": "stream",
     "text": [
      "b'GeForce GTX 780 Ti'\n"
     ]
    }
   ],
   "source": [
    "GPU_ID = 0\n",
    "D.config.default_device = 'gpu'\n",
    "D.config.default_gpu    = GPU_ID\n",
    "print(D.config.gpu_id_to_name(GPU_ID))"
   ]
  },
  {
   "cell_type": "markdown",
   "metadata": {},
   "source": [
    "# (Optional) continue running previous attempt "
   ]
  },
  {
   "cell_type": "code",
   "execution_count": 4,
   "metadata": {
    "collapsed": false
   },
   "outputs": [],
   "source": [
    "RELEVANT_VARIABLES = [\"model\", \"vocabs\", \"solver\", \"data\", \"train_error\", \"validate_error\"]\n",
    "if False:\n",
    "    unpickle_globals(\"/home/sidor/tmp/translation_overfeat\")\n",
    "    params = model.parameters()"
   ]
  },
  {
   "cell_type": "markdown",
   "metadata": {},
   "source": [
    "# Data loading"
   ]
  },
  {
   "cell_type": "code",
   "execution_count": 1,
   "metadata": {
    "collapsed": true
   },
   "outputs": [],
   "source": [
    "# dataset\n",
    "TRAIN_PATH    = \"/home/sidor/datasets/translation/train/fr_en/europarl/\"\n",
    "VALIDATE_PATH = \"/home/sidor/datasets/translation/validation/fr_en/europarl/\"\n",
    "FROM_LANG = \"en\"\n",
    "TO_LANG   = \"fr\"\n",
    "FROM_VOCAB_SIZE = 20000\n",
    "TO_VOCAB_SIZE   = 20000\n",
    "\n",
    "# batching\n",
    "MINIBATCH = 32\n",
    "SENTENCE_LENGTH_BOUNDS = (None, 38)\n",
    "SENTENCES_UNTIL_MINIBATCH = 1000 * MINIBATCH\n",
    "\n",
    "# network sizes\n",
    "INPUT_SIZE = 512\n",
    "HIDDENS = [512,512,512,512]\n",
    "SOFTMAX_INPUT = 512"
   ]
  },
  {
   "cell_type": "code",
   "execution_count": 5,
   "metadata": {
    "collapsed": false
   },
   "outputs": [
    {
     "name": "stdout",
     "output_type": "stream",
     "text": [
      "Impatient User Detected, file processing halted, proceeding to build vocab.\n",
      "en vocabulary containts 20002 words\n",
      "fr vocabulary containts 20002 words\n"
     ]
    }
   ],
   "source": [
    "# you can press stop at any time if you think enough samples were collected.\n",
    "vocabs = build_vocabs(TRAIN_PATH, FROM_LANG, TO_LANG, from_max_size=FROM_VOCAB_SIZE, to_max_size=TO_VOCAB_SIZE)\n",
    "print (FROM_LANG + \" vocabulary containts\", len(vocabs[0]), \"words\")\n",
    "print (TO_LANG   + \" vocabulary containts\", len(vocabs[1]), \"words\")"
   ]
  },
  {
   "cell_type": "code",
   "execution_count": 6,
   "metadata": {
    "collapsed": false
   },
   "outputs": [],
   "source": [
    "p = Process(files=TranslationFiles(VALIDATE_PATH, FROM_LANG, TO_LANG),\n",
    "            mapper=TranslationMapper(sentence_bounds=SENTENCE_LENGTH_BOUNDS),\n",
    "            reducer=IdentityReducer())\n",
    "validation_pairs = list(p)"
   ]
  },
  {
   "cell_type": "code",
   "execution_count": 7,
   "metadata": {
    "collapsed": false
   },
   "outputs": [],
   "source": [
    "def create_dataset_iterator(dataset, sentences_until_minibatch=SENTENCES_UNTIL_MINIBATCH):\n",
    "    return iterate_examples(dataset, FROM_LANG, TO_LANG, vocabs, \n",
    "                            minibatch_size=MINIBATCH,\n",
    "                            sentence_length_bounds=SENTENCE_LENGTH_BOUNDS,\n",
    "                            sentences_until_minibatch=sentences_until_minibatch)\n",
    "\n",
    "validation_batches = list(create_dataset_iterator(VALIDATE_PATH, MINIBATCH))"
   ]
  },
  {
   "cell_type": "markdown",
   "metadata": {},
   "source": [
    "# Model definition "
   ]
  },
  {
   "cell_type": "code",
   "execution_count": 8,
   "metadata": {
    "collapsed": false
   },
   "outputs": [],
   "source": [
    "class TranslationModel(object):\n",
    "    def __init__(self, input_size, hiddens, \n",
    "                       encoder_vocab_size, decoder_vocab_size,\n",
    "                       softmax_input_size=None, dtype=np.float32):\n",
    "        self.input_size = input_size\n",
    "        self.hiddens    = hiddens\n",
    "        self.encoder_vocab_size = encoder_vocab_size\n",
    "        self.decoder_vocab_size = decoder_vocab_size\n",
    "        self.softmax_input_size = softmax_input_size\n",
    "        self.dtype = dtype\n",
    "        \n",
    "        self.encoder_embedding = D.random.uniform(-0.05, 0.05, (encoder_vocab_size, input_size), dtype=dtype)\n",
    "        self.decoder_embedding = D.random.uniform(-0.05, 0.05, (decoder_vocab_size, input_size), dtype=dtype)\n",
    "        \n",
    "        self.encoder_lstm    = D.StackedLSTM(input_size, hiddens, memory_feeds_gates=True, dtype=dtype)\n",
    "        self.decoder_lstm    = D.StackedLSTM(input_size, hiddens, memory_feeds_gates=True, dtype=dtype)\n",
    "        \n",
    "        if self.softmax_input_size is not None:\n",
    "            self.predecoder = D.StackedInputLayer(self.hiddens, self.softmax_input_size)\n",
    "            self.decoder = D.Layer(self.softmax_input_size, decoder_vocab_size, dtype=dtype)\n",
    "        else:    \n",
    "            self.decoder = D.Layer(hiddens[-1], decoder_vocab_size, dtype=dtype)\n",
    "    \n",
    "    def decode_state(self, state):\n",
    "        if self.softmax_input_size is not None:\n",
    "            decoder_input = self.predecoder.activate([s.hidden for s in state])\n",
    "        else:\n",
    "            decoder_input = state[-1].hidden\n",
    "        return self.decoder.activate(decoder_input)\n",
    "        \n",
    "    def error(self, batch):\n",
    "        error = D.Mat(1,1)\n",
    "        state = self.encoder_lstm.initial_states()\n",
    "        for ts in range(batch.timesteps):\n",
    "            inputs  = batch.inputs(ts)\n",
    "            targets = batch.targets(ts)\n",
    "            if ts < batch.from_timesteps:\n",
    "                assert targets is None\n",
    "                encoded = self.encoder_embedding[inputs]\n",
    "                state = self.encoder_lstm.activate(encoded, state)\n",
    "            else:\n",
    "                assert inputs is None\n",
    "                decoded = self.decode_state(state)\n",
    "                # mask the error - only for the relevant sentences\n",
    "                tstep_error = batch.masks(ts).T() * D.MatOps.softmax_cross_entropy(decoded, targets)\n",
    "                #tstep_error = D.MatOps.softmax_cross_entropy(decoded, targets)\n",
    "                error = error + tstep_error.sum()\n",
    "                # feedback the predictions\n",
    "                if ts + 1 != batch.timesteps:\n",
    "                    # for the last timestep encoding is not necessary\n",
    "                    encoded = self.decoder_embedding[targets]\n",
    "                    state = self.decoder_lstm.activate(encoded, state)\n",
    "\n",
    "        return error\n",
    "    \n",
    "    def predict(self, input_sentence, **kwargs):\n",
    "        with D.NoBackprop():\n",
    "            state = self.encoder_lstm.initial_states()\n",
    "            for word_idx in input_sentence:\n",
    "                encoded = self.encoder_embedding[word_idx]\n",
    "                state = self.encoder_lstm.activate(encoded, state)\n",
    "            def candidate_scores(state):\n",
    "                decoded = self.decode_state(state)\n",
    "                return D.MatOps.softmax(decoded).log()\n",
    "            def make_choice(state, candidate_idx):\n",
    "                encoded = self.decoder_embedding[candidate_idx]\n",
    "                return self.decoder_lstm.activate(encoded, state)\n",
    "\n",
    "            return beam_search(state,\n",
    "                               candidate_scores,\n",
    "                               make_choice,\n",
    "                               **kwargs)\n",
    "    \n",
    "    def parameters(self):\n",
    "        ret = ([self.encoder_embedding,\n",
    "               self.decoder_embedding]      \n",
    "            + self.encoder_lstm.parameters() \n",
    "            + self.decoder_lstm.parameters() \n",
    "            + self.decoder.parameters())\n",
    "        if self.softmax_input_size is not None:\n",
    "            ret.extend(self.predecoder.parameters())\n",
    "        return ret"
   ]
  },
  {
   "cell_type": "code",
   "execution_count": 9,
   "metadata": {
    "collapsed": false
   },
   "outputs": [],
   "source": [
    "def calculate_bleu(model, validation_pairs, beam_width=5, debug=False):\n",
    "    references = []\n",
    "    hypotheses = []\n",
    "    for input_sentence, reference_translation in validation_pairs:\n",
    "        references.append(\" \".join(reference_translation))\n",
    "        from_vocab, to_vocab = vocabs\n",
    "        encoded_input = from_vocab.encode(list(reversed(input_sentence)), add_eos=False)\n",
    "        \n",
    "        predicted = model.predict(encoded_input, \n",
    "                     eos_symbol=to_vocab.eos,\n",
    "                     max_sequence_length=SENTENCE_LENGTH_BOUNDS[1] + 1,\n",
    "                     blacklist=[], #to_vocab.unk],\n",
    "                     beam_width=beam_width)[0].solution\n",
    "        decoded_prediction = \" \".join(to_vocab.decode(predicted, strip_eos=True))\n",
    "        hypotheses.append(decoded_prediction)\n",
    "        if debug:\n",
    "            print (\"INPUT:      \", \" \".join(input_sentence))\n",
    "            print (\"REFERENCE:  \", \" \".join(reference_translation))\n",
    "            print (\"PREDICTION: \", decoded_prediction)\n",
    "            print (\"\")\n",
    "    return bleu(references, hypotheses)"
   ]
  },
  {
   "cell_type": "code",
   "execution_count": 10,
   "metadata": {
    "collapsed": false
   },
   "outputs": [],
   "source": [
    "#calculate_bleu(model, validation_pairs[:50], 1, debug=False)"
   ]
  },
  {
   "cell_type": "code",
   "execution_count": 11,
   "metadata": {
    "collapsed": false
   },
   "outputs": [],
   "source": [
    "def show_reconstructions(model, example_pair):\n",
    "    from_words, to_words = example_pair\n",
    "    from_vocab, to_vocab = vocabs\n",
    "    from_with_unk = ' '.join(from_vocab.decode(from_vocab.encode(from_words)))\n",
    "    to_with_unk   = ' '.join(to_vocab.decode(to_vocab.encode(to_words)))\n",
    "    print('TRANSLATING: %s' % from_with_unk)\n",
    "    print('REFERENCE:   %s' % to_with_unk)\n",
    "    print('')\n",
    "    for solution, score, _ in model.predict(from_vocab.encode(list(reversed(from_words)), add_eos=False), \n",
    "                                           eos_symbol=to_vocab.eos,\n",
    "                                           max_sequence_length=SENTENCE_LENGTH_BOUNDS[1] + 1):\n",
    "        score = math.exp(score.w[0])\n",
    "        # reveal the unks\n",
    "        solution = ' '.join(to_vocab.decode(solution, False))\n",
    "        print('    %f => %s' % (score, to_vocab.decode(solution, True)))"
   ]
  },
  {
   "cell_type": "markdown",
   "metadata": {},
   "source": [
    "# Create new experiment "
   ]
  },
  {
   "cell_type": "code",
   "execution_count": 12,
   "metadata": {
    "collapsed": false
   },
   "outputs": [],
   "source": [
    "model  = TranslationModel(INPUT_SIZE, HIDDENS, len(vocabs[0]), len(vocabs[1]), softmax_input_size=SOFTMAX_INPUT)"
   ]
  },
  {
   "cell_type": "code",
   "execution_count": 13,
   "metadata": {
    "collapsed": false
   },
   "outputs": [],
   "source": [
    "params = model.parameters()\n",
    "solver = Solver(\"sgd\", learning_rate=0.003)"
   ]
  },
  {
   "cell_type": "code",
   "execution_count": 14,
   "metadata": {
    "collapsed": true
   },
   "outputs": [],
   "source": [
    "data             = []\n",
    "train_error      = ErrorTracker()\n",
    "validate_error   = ErrorTracker()"
   ]
  },
  {
   "cell_type": "markdown",
   "metadata": {},
   "source": [
    "# Training"
   ]
  },
  {
   "cell_type": "code",
   "execution_count": null,
   "metadata": {
    "collapsed": false
   },
   "outputs": [],
   "source": [
    "D.config.clear_gpu()\n",
    "\n",
    "total_time  = 0.0\n",
    "num_words, num_batches = 0, 0\n",
    "\n",
    "t = Throttled(10)\n",
    "\n",
    "while True:\n",
    "    total_time  = 0.0\n",
    "    num_words, num_batches = 0, 0\n",
    "        \n",
    "    #if len(error_evolution) >= 5 and hasattr(solver, 'step_size'):\n",
    "    #solver.step_size = solver.step_size / 1.5\n",
    "    if solver.solver_type == 'adagrad':\n",
    "        solver.reset_caches(params)\n",
    "\n",
    "    for batch in data:            \n",
    "        batch_start_time = time.time()\n",
    "        error = model.error(batch)\n",
    "        (error / batch.examples).grad()\n",
    "        D.Graph.backward()\n",
    "#         solver.set_lr_multiplier(model.encoder_embedding, batch.examples)\n",
    "#         solver.set_lr_multiplier(model.decoder_embedding, batch.examples)\n",
    "        solver.step(params)\n",
    "        batch_end_time = time.time()\n",
    "\n",
    "        train_error.append(error / batch.to_tokens)\n",
    "        \n",
    "        total_time += batch_end_time - batch_start_time\n",
    "        num_words   += batch.from_tokens + batch.to_tokens\n",
    "        num_batches += 1\n",
    "        \n",
    "        if num_batches % 10 == 0:\n",
    "            val_batch = random.choice(validation_batches)\n",
    "            with D.NoBackprop():\n",
    "                validate_error.append(model.error(val_batch) / val_batch.to_tokens)\n",
    "\n",
    "        if t.should_i_run() and num_batches > 0 and abs(total_time) > 1e-6:\n",
    "            clear_output()\n",
    "            print('Epochs completed:  ', train_error.num_epochs())\n",
    "            print('Error:             ', train_error.recent(10))\n",
    "            print('Time per batch:    ', total_time  / num_batches)\n",
    "            print('Words per second:  ', num_words   / total_time )\n",
    "            print('Batches processed: ', num_batches)\n",
    "            if hasattr(solver, 'step_size'):\n",
    "                print('Solver step size:  ', solver.step_size)\n",
    "            show_reconstructions(model, random.choice(validation_pairs))\n",
    "            sys.stdout.flush()\n",
    "                \n",
    "        # free memory as soon as possible\n",
    "        del batch\n",
    "\n",
    "    train_error.finalize_epoch()\n",
    "    validate_error.finalize_epoch()\n",
    "    if train_error.num_epochs() > 0:\n",
    "        pickle_globals(\"/home/sidor/tmp/lst_hope/epoch_%d\" % (train_error.num_epochs(),),\n",
    "                       RELEVANT_VARIABLES)\n",
    "            \n",
    "    data = create_dataset_iterator(TRAIN_PATH)"
   ]
  },
  {
   "cell_type": "code",
   "execution_count": 24,
   "metadata": {
    "collapsed": false,
    "scrolled": true
   },
   "outputs": [],
   "source": [
    "pickle_globals(\"/home/sidor/tmp/translation_overfeat\",RELEVANT_VARIABLES)"
   ]
  },
  {
   "cell_type": "code",
   "execution_count": 17,
   "metadata": {
    "collapsed": false
   },
   "outputs": [
    {
     "data": {
      "text/plain": [
       "<matplotlib.legend.Legend at 0x7f76268626d8>"
      ]
     },
     "execution_count": 17,
     "metadata": {},
     "output_type": "execute_result"
    },
    {
     "data": {
      "image/png": "[encoded data removed]",
      "text/plain": [
       "<matplotlib.figure.Figure at 0x7f762692c828>"
      ]
     },
     "metadata": {},
     "output_type": "display_data"
    }
   ],
   "source": [
    "train_error.__class__ = ErrorTracker\n",
    "validate_error.__class__ = ErrorTracker\n",
    "\n",
    "plt.figure(figsize=(20,15))\n",
    "\n",
    "plt.plot(*train_error.raw(), label=\"train\")\n",
    "plt.plot(*validate_error.raw(), label=\"validate\")\n",
    "plt.legend()"
   ]
  },
  {
   "cell_type": "code",
   "execution_count": 35,
   "metadata": {
    "collapsed": false
   },
   "outputs": [
    {
     "name": "stdout",
     "output_type": "stream",
     "text": [
      "[[8.0048237, 7.9938869, 7.9698668, 7.9363565, 7.8941002, 7.8472652, 7.7633882, 7.7099671, 7.6194835, 7.4893293, 7.3790278, 7.1501489, 7.021059, 6.7153354, 6.9089489, 6.6402268, 6.3901644, 6.2750697, 6.2791896, 6.4190984, 6.4118695, 6.3319311, 6.1173091, 6.1364055, 6.216011, 6.1761017, 6.1015244, 6.1899629, 6.1414409, 6.3002682, 6.0410399, 6.0457573, 6.1572652]]\n"
     ]
    }
   ],
   "source": [
    "x, y = validate_error.raw()\n",
    "print(train_error.error_evolution)"
   ]
  },
  {
   "cell_type": "code",
   "execution_count": 14,
   "metadata": {
    "collapsed": false
   },
   "outputs": [
    {
     "data": {
      "text/plain": [
       "[<matplotlib.lines.Line2D at 0x7f2c84f96278>]"
      ]
     },
     "execution_count": 14,
     "metadata": {},
     "output_type": "execute_result"
    },
    {
     "data": {
      "image/png": "[encoded data removed]",
      "text/plain": [
       "<matplotlib.figure.Figure at 0x7f2c85276940>"
      ]
     },
     "metadata": {},
     "output_type": "display_data"
    }
   ],
   "source": [
    "# canoe trip lr=0.0001"
   ]
  },
  {
   "cell_type": "code",
   "execution_count": 14,
   "metadata": {
    "collapsed": false
   },
   "outputs": [
    {
     "data": {
      "text/plain": [
       "[<matplotlib.lines.Line2D at 0x7f70b789f978>]"
      ]
     },
     "execution_count": 14,
     "metadata": {},
     "output_type": "execute_result"
    },
    {
     "data": {
      "image/png": "[encoded data removed]",
      "text/plain": [
       "<matplotlib.figure.Figure at 0x7f70b779ef28>"
      ]
     },
     "metadata": {},
     "output_type": "display_data"
    }
   ],
   "source": [
    "# canoe trip, lr = 0.001"
   ]
  },
  {
   "cell_type": "code",
   "execution_count": 13,
   "metadata": {
    "collapsed": false
   },
   "outputs": [
    {
     "data": {
      "text/plain": [
       "[<matplotlib.lines.Line2D at 0x7f631a351470>]"
      ]
     },
     "execution_count": 13,
     "metadata": {},
     "output_type": "execute_result"
    },
    {
     "data": {
      "image/png": "[encoded data removed]",
      "text/plain": [
       "<matplotlib.figure.Figure at 0x7f631a01b7f0>"
      ]
     },
     "metadata": {},
     "output_type": "display_data"
    }
   ],
   "source": [
    "# 0.02 learning rate Jonathan's weights, divide by 1.5 every epoch (starting at fifth)"
   ]
  },
  {
   "cell_type": "code",
   "execution_count": 575,
   "metadata": {
    "collapsed": false
   },
   "outputs": [
    {
     "data": {
      "text/plain": [
       "[<matplotlib.lines.Line2D at 0x7fc3e254b0f0>]"
      ]
     },
     "execution_count": 575,
     "metadata": {},
     "output_type": "execute_result"
    },
    {
     "data": {
      "image/png": "[encoded data removed]",
      "text/plain": [
       "<matplotlib.figure.Figure at 0x7fc3e2829c88>"
      ]
     },
     "metadata": {},
     "output_type": "display_data"
    }
   ],
   "source": [
    "# 0.3 learning rate Jonathan's weights, divide by 2 every epoch "
   ]
  },
  {
   "cell_type": "code",
   "execution_count": 559,
   "metadata": {
    "collapsed": false
   },
   "outputs": [
    {
     "data": {
      "text/plain": [
       "[<matplotlib.lines.Line2D at 0x7fc3e263eb38>]"
      ]
     },
     "execution_count": 559,
     "metadata": {},
     "output_type": "execute_result"
    },
    {
     "data": {
      "image/png": "[encoded data removed]",
      "text/plain": [
       "<matplotlib.figure.Figure at 0x7fc3e2654160>"
      ]
     },
     "metadata": {},
     "output_type": "display_data"
    }
   ],
   "source": [
    "# 0.03 learning rate Jonathan weights"
   ]
  },
  {
   "cell_type": "code",
   "execution_count": 553,
   "metadata": {
    "collapsed": false
   },
   "outputs": [
    {
     "data": {
      "text/plain": [
       "[<matplotlib.lines.Line2D at 0x7fc3e264f240>]"
      ]
     },
     "execution_count": 553,
     "metadata": {},
     "output_type": "execute_result"
    },
    {
     "data": {
      "image/png": "[encoded data removed]",
      "text/plain": [
       "<matplotlib.figure.Figure at 0x7fc3e2729240>"
      ]
     },
     "metadata": {},
     "output_type": "display_data"
    }
   ],
   "source": [
    "# 0.03 learning rate Jonathan weights"
   ]
  },
  {
   "cell_type": "code",
   "execution_count": 547,
   "metadata": {
    "collapsed": false
   },
   "outputs": [
    {
     "data": {
      "text/plain": [
       "[<matplotlib.lines.Line2D at 0x7fc3e26e61d0>]"
      ]
     },
     "execution_count": 547,
     "metadata": {},
     "output_type": "execute_result"
    },
    {
     "data": {
      "image/png": "[encoded data removed]",
      "text/plain": [
       "<matplotlib.figure.Figure at 0x7fc3e2741b00>"
      ]
     },
     "metadata": {},
     "output_type": "display_data"
    }
   ],
   "source": [
    "# 0.3 learning rate Jonathan weights"
   ]
  },
  {
   "cell_type": "code",
   "execution_count": 541,
   "metadata": {
    "collapsed": false
   },
   "outputs": [
    {
     "data": {
      "text/plain": [
       "[<matplotlib.lines.Line2D at 0x7fc3e2776828>]"
      ]
     },
     "execution_count": 541,
     "metadata": {},
     "output_type": "execute_result"
    },
    {
     "data": {
      "image/png": "[encoded data removed]",
      "text/plain": [
       "<matplotlib.figure.Figure at 0x7fc3e279f940>"
      ]
     },
     "metadata": {},
     "output_type": "display_data"
    }
   ],
   "source": [
    "# 0.3 learning rate, torch weight init"
   ]
  },
  {
   "cell_type": "code",
   "execution_count": 431,
   "metadata": {
    "collapsed": false
   },
   "outputs": [
    {
     "data": {
      "text/plain": [
       "[<matplotlib.lines.Line2D at 0x7fc3e3081a58>]"
      ]
     },
     "execution_count": 431,
     "metadata": {},
     "output_type": "execute_result"
    },
    {
     "data": {
      "image/png": "[encoded data removed]",
      "text/plain": [
       "<matplotlib.figure.Figure at 0x7fc3e298d550>"
      ]
     },
     "metadata": {},
     "output_type": "display_data"
    }
   ],
   "source": [
    "r= epoch_error#median_smoothing(epoch_error, window=500)\n",
    "\n",
    "plt.plot(range(len(r)), r)"
   ]
  },
  {
   "cell_type": "code",
   "execution_count": 18,
   "metadata": {
    "collapsed": false
   },
   "outputs": [
    {
     "data": {
      "text/plain": [
       "[<matplotlib.lines.Line2D at 0x7f7626656f98>]"
      ]
     },
     "execution_count": 18,
     "metadata": {},
     "output_type": "execute_result"
    },
    {
     "data": {
      "image/png": "[encoded data removed]",
      "text/plain": [
       "<matplotlib.figure.Figure at 0x7f7626607978>"
      ]
     },
     "metadata": {},
     "output_type": "display_data"
    }
   ],
   "source": [
    "plottable = median_smoothing(train_error.epoch_error, 300)\n",
    "#plottable = median_smoothing(train_error.epoch_error, 3)\n",
    "\n",
    "plt.plot(range(len(plottable)), plottable)"
   ]
  },
  {
   "cell_type": "code",
   "execution_count": 40,
   "metadata": {
    "collapsed": false
   },
   "outputs": [],
   "source": [
    "solver.__class__ =Solver"
   ]
  },
  {
   "cell_type": "code",
   "execution_count": 34,
   "metadata": {
    "collapsed": false
   },
   "outputs": [
    {
     "name": "stdout",
     "output_type": "stream",
     "text": [
      "TRANSLATING: Where are my friends ?\n",
      "REFERENCE:   \n",
      "\n",
      "    0.000241 => En ce qui ? **EOS**\n",
      "    0.000108 => En ce qui sont ? **EOS**\n",
      "    0.000021 => Où est - ce ? **EOS**\n",
      "    0.000019 => Où est - ce qui ? **EOS**\n",
      "    0.000003 => En ce qui sont - ? **EOS**\n"
     ]
    }
   ],
   "source": [
    "show_reconstructions(model, ([\"Where\", \"are\",\"my\",\"friends\",\"?\"],[]))"
   ]
  },
  {
   "cell_type": "code",
   "execution_count": 95,
   "metadata": {
    "collapsed": false
   },
   "outputs": [
    {
     "data": {
      "text/plain": [
       "nan"
      ]
     },
     "execution_count": 95,
     "metadata": {},
     "output_type": "execute_result"
    }
   ],
   "source": [
    "np.nan"
   ]
  },
  {
   "cell_type": "code",
   "execution_count": 37,
   "metadata": {
    "collapsed": false
   },
   "outputs": [
    {
     "data": {
      "text/plain": [
       "numpy.ndarray"
      ]
     },
     "execution_count": 37,
     "metadata": {},
     "output_type": "execute_result"
    }
   ],
   "source": [
    "type(np.arange(1, 10))"
   ]
  },
  {
   "cell_type": "code",
   "execution_count": null,
   "metadata": {
    "collapsed": true
   },
   "outputs": [],
   "source": []
  }
 ],
 "metadata": {
  "kernelspec": {
   "display_name": "Python 3",
   "language": "python",
   "name": "python3"
  },
  "language_info": {
   "codemirror_mode": {
    "name": "ipython",
    "version": 3
   },
   "file_extension": ".py",
   "mimetype": "text/x-python",
   "name": "python",
   "nbconvert_exporter": "python",
   "pygments_lexer": "ipython3",
   "version": "3.4.1"
  }
 },
 "nbformat": 4,
 "nbformat_minor": 0
}
