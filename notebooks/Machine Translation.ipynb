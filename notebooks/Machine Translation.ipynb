{
 "cells": [
  {
   "cell_type": "code",
   "execution_count": 1,
   "metadata": {
    "collapsed": false
   },
   "outputs": [],
   "source": [
    "import sys\n",
    "sys.path.append('..')\n",
    "%load_ext autoreload\n",
    "%autoreload 2"
   ]
  },
  {
   "cell_type": "code",
   "execution_count": 2,
   "metadata": {
    "collapsed": false
   },
   "outputs": [],
   "source": [
    "import numpy as np\n",
    "import math\n",
    "import matplotlib.pyplot as plt\n",
    "import random\n",
    "import time\n",
    "import dill as pickle\n",
    "\n",
    "from IPython.display import clear_output\n",
    "\n",
    "import dali.core as D\n",
    "from dali.data import Lines, DiscoverFiles, BatchBenefactor\n",
    "from dali.data.batch import TranslationBatch\n",
    "from dali.data.translation import TranslationFiles, TranslationMapper, build_vocabs, iterate_examples\n",
    "\n",
    "from dali.utils import (\n",
    "    Vocab,\n",
    "    median_smoothing,\n",
    "    subsample,\n",
    "    throttled,\n",
    "    pickle_globals,\n",
    "    unpickle_globals,\n",
    ")\n",
    "from dali import beam_search\n",
    "\n",
    "%matplotlib inline"
   ]
  },
  {
   "cell_type": "code",
   "execution_count": 3,
   "metadata": {
    "collapsed": false
   },
   "outputs": [],
   "source": [
    "D.config.default_device = 'gpu'"
   ]
  },
  {
   "cell_type": "markdown",
   "metadata": {},
   "source": [
    "# Data loading"
   ]
  },
  {
   "cell_type": "code",
   "execution_count": 4,
   "metadata": {
    "collapsed": true
   },
   "outputs": [],
   "source": [
    "# dataset\n",
    "DATASET_PATH = \"/home/sidor/datasets/translation/fr_en/europarl/\"\n",
    "FROM_LANG = \"fr\"\n",
    "TO_LANG   = \"en\"\n",
    "FROM_VOCAB_SIZE = 20000\n",
    "TO_VOCAB_SIZE   = 20000\n",
    "\n",
    "# batching\n",
    "MINIBATCH = 128\n",
    "SENTENCE_LENGTH_BOUNDS = (None, 21)\n",
    "SENTENCES_UNTIL_MINIBATCH = 1000*MINIBATCH\n",
    "\n",
    "# network sizes\n",
    "INPUT_SIZE = 512\n",
    "HIDDENS = [512,512,512,512]\n",
    "SOFTMAX_INPUT = None"
   ]
  },
  {
   "cell_type": "code",
   "execution_count": 5,
   "metadata": {
    "collapsed": false
   },
   "outputs": [
    {
     "name": "stdout",
     "output_type": "stream",
     "text": [
      "Impatient User Detected, file processing halted, proceeding to build vocab.\n",
      "fr vocabulary containts 20002 words\n",
      "en vocabulary containts 20002 words\n"
     ]
    }
   ],
   "source": [
    "# you can press stop at any time if you think enough samples were collected.\n",
    "vocabs = build_vocabs(DATASET_PATH, FROM_LANG, TO_LANG, from_max_size=FROM_VOCAB_SIZE, to_max_size=TO_VOCAB_SIZE)\n",
    "print (FROM_LANG + \" vocabulary containts\", len(vocabs[0]), \"words\")\n",
    "print (TO_LANG   + \" vocabulary containts\", len(vocabs[1]), \"words\")"
   ]
  },
  {
   "cell_type": "code",
   "execution_count": 5,
   "metadata": {
    "collapsed": false
   },
   "outputs": [],
   "source": [
    "def create_dataset_iterator():\n",
    "    return iterate_examples(DATASET_PATH, FROM_LANG, TO_LANG, vocabs, \n",
    "                            minibatch_size=MINIBATCH,\n",
    "                            sentence_length_bounds=SENTENCE_LENGTH_BOUNDS,\n",
    "                            sentences_until_minibatch=SENTENCES_UNTIL_MINIBATCH)"
   ]
  },
  {
   "cell_type": "markdown",
   "metadata": {},
   "source": [
    "# Model definition "
   ]
  },
  {
   "cell_type": "code",
   "execution_count": 6,
   "metadata": {
    "collapsed": false
   },
   "outputs": [],
   "source": [
    "class TranslationModel(object):\n",
    "    def __init__(self, input_size, hiddens, \n",
    "                       encoder_vocab_size, decoder_vocab_size,\n",
    "                       softmax_input_size=None, dtype=np.float32):\n",
    "        self.input_size = input_size\n",
    "        self.hiddens    = hiddens\n",
    "        self.encoder_vocab_size = encoder_vocab_size\n",
    "        self.decoder_vocab_size = decoder_vocab_size\n",
    "        self.softmax_input_size = softmax_input_size\n",
    "        self.dtype = dtype\n",
    "        \n",
    "        self.encoder_embedding = D.random.uniform(-0.05, 0.05, (encoder_vocab_size, input_size), dtype=dtype)\n",
    "        self.decoder_embedding = D.random.uniform(-0.05, 0.05, (decoder_vocab_size, input_size), dtype=dtype)\n",
    "        \n",
    "        self.encoder_lstm    = D.StackedLSTM(input_size, hiddens, shortcut=True, dtype=dtype)\n",
    "        self.decoder_lstm    = D.StackedLSTM(input_size, hiddens, shortcut=True, dtype=dtype)\n",
    "        \n",
    "        if self.softmax_input_size is not None:\n",
    "            self.predecoder = D.Layer(self.hiddens[-1], self.softmax_input_size)\n",
    "            self.decoder = D.Layer(self.softmax_input_size, decoder_vocab_size, dtype=dtype)\n",
    "        else:    \n",
    "            self.decoder = D.Layer(hiddens[-1], decoder_vocab_size, dtype=dtype)\n",
    "    \n",
    "    def decode_state(self, state):\n",
    "        if self.softmax_input_size is not None:\n",
    "            decoder_input = self.predecoder.activate(state[-1].hidden)\n",
    "        else:\n",
    "            decoder_input = state[-1].hidden\n",
    "        return self.decoder.activate(decoder_input)\n",
    "        \n",
    "    def error(self, batch):\n",
    "        error = D.Mat(1,1)\n",
    "        state = self.encoder_lstm.initial_states()\n",
    "        for ts in range(batch.timesteps):\n",
    "            inputs  = batch.inputs(ts)\n",
    "            targets = batch.targets(ts)\n",
    "            if ts < batch.from_timesteps:\n",
    "                assert targets is None\n",
    "                encoded = self.encoder_embedding[inputs]\n",
    "                state = self.encoder_lstm.activate(encoded, state)\n",
    "            else:\n",
    "                assert inputs is None\n",
    "                decoded = self.decode_state(state)\n",
    "                # mask the error - only for the relevant sentences\n",
    "                tstep_error = batch.masks(ts).T() * D.MatOps.softmax_cross_entropy(decoded, targets)\n",
    "                #tstep_error = D.MatOps.softmax_cross_entropy(decoded, targets)\n",
    "                error = error + tstep_error.sum()\n",
    "                # feedback the predictions\n",
    "                if ts + 1 != batch.timesteps:\n",
    "                    # for the last timestep encoding is not necessary\n",
    "                    encoded = self.decoder_embedding[targets]\n",
    "                    state = self.decoder_lstm.activate(encoded, state)\n",
    "\n",
    "        return error\n",
    "    \n",
    "    def sample(self, input_sentence, temperature=1.0, **kwargs):\n",
    "        with D.NoBackprop():\n",
    "            state = self.encoder_lstm.initial_states()\n",
    "            for word_idx in input_sentence:\n",
    "                encoded = self.encoder_embedding[word_idx]\n",
    "                state = self.encoder_lstm.activate(encoded, state)\n",
    "            def candidate_scores(state):\n",
    "                decoded = self.decode_state(state)\n",
    "                return D.MatOps.softmax(decoded, temperature=temperature).log()\n",
    "            def make_choice(state, candidate_idx):\n",
    "                encoded = self.decoder_embedding[candidate_idx]\n",
    "                return self.decoder_lstm.activate(encoded, state)\n",
    "\n",
    "            return beam_search(state,\n",
    "                               candidate_scores,\n",
    "                               make_choice,\n",
    "                               **kwargs)\n",
    "    \n",
    "    def parameters(self):\n",
    "        ret = ([self.encoder_embedding,\n",
    "               self.decoder_embedding]      \n",
    "            + self.encoder_lstm.parameters() \n",
    "            + self.decoder_lstm.parameters() \n",
    "            + self.decoder.parameters())\n",
    "        if self.softmax_input_size is not None:\n",
    "            ret.extend(self.predecoder.parameters())\n",
    "        return ret"
   ]
  },
  {
   "cell_type": "code",
   "execution_count": 7,
   "metadata": {
    "collapsed": false
   },
   "outputs": [],
   "source": [
    "def show_reconstructions(model, example_pair, temperature=1.0):\n",
    "    from_words, to_words = example_pair\n",
    "    from_vocab, to_vocab = vocabs\n",
    "    from_with_unk = ' '.join(from_vocab.decode(from_vocab.encode(from_words)))\n",
    "    to_with_unk   = ' '.join(to_vocab.decode(to_vocab.encode(to_words)))\n",
    "    print('TRANSLATING: %s' % from_with_unk)\n",
    "    print('REFERENCE:   %s' % to_with_unk)\n",
    "    print('')\n",
    "    for solution, score, _ in model.sample(from_vocab.encode(from_words, True), \n",
    "                                           eos_symbol=to_vocab.eos,\n",
    "                                           max_sequence_length=SENTENCE_LENGTH_BOUNDS[1] + 1,\n",
    "                                           blacklist=[], #to_vocab.unk],\n",
    "                                           temperature=temperature):\n",
    "        score = math.exp(score.w[0])\n",
    "        # reveal the unks\n",
    "        solution = ' '.join(to_vocab.decode(solution, False))\n",
    "        print('    %f => %s' % (score, to_vocab.decode(solution, True)))"
   ]
  },
  {
   "cell_type": "markdown",
   "metadata": {},
   "source": [
    "# Create new experiment "
   ]
  },
  {
   "cell_type": "code",
   "execution_count": 9,
   "metadata": {
    "collapsed": false
   },
   "outputs": [],
   "source": [
    "model  = TranslationModel(INPUT_SIZE, HIDDENS, len(vocabs[0]), len(vocabs[1]), softmax_input_size=SOFTMAX_INPUT)"
   ]
  },
  {
   "cell_type": "code",
   "execution_count": 10,
   "metadata": {
    "collapsed": false
   },
   "outputs": [],
   "source": [
    "params = model.parameters()\n",
    "solver = D.SGD(params)\n",
    "solver.step_size = 0.001\n",
    "# solver = D.AdaDelta(params, rho=0.95)"
   ]
  },
  {
   "cell_type": "code",
   "execution_count": 11,
   "metadata": {
    "collapsed": true
   },
   "outputs": [],
   "source": [
    "data            = []\n",
    "error_evolution = []\n",
    "epoch_error     = []"
   ]
  },
  {
   "cell_type": "markdown",
   "metadata": {},
   "source": [
    "# (Optional) continue running previous attempt "
   ]
  },
  {
   "cell_type": "code",
   "execution_count": 8,
   "metadata": {
    "collapsed": false
   },
   "outputs": [],
   "source": [
    "if False:\n",
    "    unpickle_globals(\"/home/sidor/tmp/translation_exp/epoch_3\")\n",
    "    params = model.parameters()"
   ]
  },
  {
   "cell_type": "code",
   "execution_count": 14,
   "metadata": {
    "collapsed": false
   },
   "outputs": [],
   "source": [
    "model.decoder_lstm.shortcut = True"
   ]
  },
  {
   "cell_type": "markdown",
   "metadata": {},
   "source": [
    "# Training"
   ]
  },
  {
   "cell_type": "code",
   "execution_count": 15,
   "metadata": {
    "collapsed": false
   },
   "outputs": [
    {
     "name": "stdout",
     "output_type": "stream",
     "text": [
      "Epochs completed:   4\n",
      "Error:              5.2384602145\n",
      "Time per batch:     0.5359211661900549\n",
      "Words per second:   6547.205335994846\n",
      "Batches processed:  4886\n",
      "Solver step size:   0.009999999776482582\n",
      "TRANSLATING: Le rapport de M . Morillon donne une impulsion très claire à cela .\n",
      "REFERENCE:   Mr Morillon ' s report gives a very clear boost to this .\n",
      "\n",
      "    0.055378 => What was . **EOS**\n",
      "    0.050178 => Finally : **EOS**\n",
      "    0.008456 => When **UNK** ) **EOS**\n",
      "    0.000000 => What would of the role . I am a question - and gentlemen . **EOS**\n",
      "    0.000000 => What would of the role . I am a question of the question - and gentlemen . **EOS**\n"
     ]
    },
    {
     "ename": "KeyboardInterrupt",
     "evalue": "",
     "output_type": "error",
     "traceback": [
      "\u001b[1;31m---------------------------------------------------------------------------\u001b[0m",
      "\u001b[1;31mKeyboardInterrupt\u001b[0m                         Traceback (most recent call last)",
      "\u001b[1;32m<ipython-input-15-8a38ff5860c7>\u001b[0m in \u001b[0;36m<module>\u001b[1;34m()\u001b[0m\n\u001b[0;32m     35\u001b[0m \u001b[1;33m\u001b[0m\u001b[0m\n\u001b[0;32m     36\u001b[0m         \u001b[0mbatch_start_time\u001b[0m \u001b[1;33m=\u001b[0m \u001b[0mtime\u001b[0m\u001b[1;33m.\u001b[0m\u001b[0mtime\u001b[0m\u001b[1;33m(\u001b[0m\u001b[1;33m)\u001b[0m\u001b[1;33m\u001b[0m\u001b[0m\n\u001b[1;32m---> 37\u001b[1;33m         \u001b[0merror\u001b[0m \u001b[1;33m=\u001b[0m \u001b[0mmodel\u001b[0m\u001b[1;33m.\u001b[0m\u001b[0merror\u001b[0m\u001b[1;33m(\u001b[0m\u001b[0mbatch\u001b[0m\u001b[1;33m)\u001b[0m\u001b[1;33m\u001b[0m\u001b[0m\n\u001b[0m\u001b[0;32m     38\u001b[0m \u001b[1;33m\u001b[0m\u001b[0m\n\u001b[0;32m     39\u001b[0m         \u001b[1;33m(\u001b[0m\u001b[0merror\u001b[0m \u001b[1;33m/\u001b[0m \u001b[0mbatch\u001b[0m\u001b[1;33m.\u001b[0m\u001b[0mexamples\u001b[0m\u001b[1;33m)\u001b[0m\u001b[1;33m.\u001b[0m\u001b[0mgrad\u001b[0m\u001b[1;33m(\u001b[0m\u001b[1;33m)\u001b[0m\u001b[1;33m\u001b[0m\u001b[0m\n",
      "\u001b[1;32m<ipython-input-6-193849aeaed4>\u001b[0m in \u001b[0;36merror\u001b[1;34m(self, batch)\u001b[0m\n\u001b[0;32m     43\u001b[0m                 \u001b[0mdecoded\u001b[0m \u001b[1;33m=\u001b[0m \u001b[0mself\u001b[0m\u001b[1;33m.\u001b[0m\u001b[0mdecode_state\u001b[0m\u001b[1;33m(\u001b[0m\u001b[0mstate\u001b[0m\u001b[1;33m)\u001b[0m\u001b[1;33m\u001b[0m\u001b[0m\n\u001b[0;32m     44\u001b[0m                 \u001b[1;31m# mask the error - only for the relevant sentences\u001b[0m\u001b[1;33m\u001b[0m\u001b[1;33m\u001b[0m\u001b[0m\n\u001b[1;32m---> 45\u001b[1;33m                 \u001b[0mtstep_error\u001b[0m \u001b[1;33m=\u001b[0m \u001b[0mbatch\u001b[0m\u001b[1;33m.\u001b[0m\u001b[0mmasks\u001b[0m\u001b[1;33m(\u001b[0m\u001b[0mts\u001b[0m\u001b[1;33m)\u001b[0m\u001b[1;33m.\u001b[0m\u001b[0mT\u001b[0m\u001b[1;33m(\u001b[0m\u001b[1;33m)\u001b[0m \u001b[1;33m*\u001b[0m \u001b[0mD\u001b[0m\u001b[1;33m.\u001b[0m\u001b[0mMatOps\u001b[0m\u001b[1;33m.\u001b[0m\u001b[0msoftmax_cross_entropy\u001b[0m\u001b[1;33m(\u001b[0m\u001b[0mdecoded\u001b[0m\u001b[1;33m,\u001b[0m \u001b[0mtargets\u001b[0m\u001b[1;33m)\u001b[0m\u001b[1;33m\u001b[0m\u001b[0m\n\u001b[0m\u001b[0;32m     46\u001b[0m                 \u001b[1;31m#tstep_error = D.MatOps.softmax_cross_entropy(decoded, targets)\u001b[0m\u001b[1;33m\u001b[0m\u001b[1;33m\u001b[0m\u001b[0m\n\u001b[0;32m     47\u001b[0m                 \u001b[0merror\u001b[0m \u001b[1;33m=\u001b[0m \u001b[0merror\u001b[0m \u001b[1;33m+\u001b[0m \u001b[0mtstep_error\u001b[0m\u001b[1;33m.\u001b[0m\u001b[0msum\u001b[0m\u001b[1;33m(\u001b[0m\u001b[1;33m)\u001b[0m\u001b[1;33m\u001b[0m\u001b[0m\n",
      "\u001b[1;31mKeyboardInterrupt\u001b[0m: "
     ]
    }
   ],
   "source": [
    "D.config.clear_gpu()\n",
    "\n",
    "total_error = 0.0\n",
    "total_time  = 0.0\n",
    "num_words, num_targets, num_batches = 0, 0, 0\n",
    "\n",
    "@throttled(5)\n",
    "def report(example):\n",
    "    if num_batches == 0 or num_words == 0 or abs(total_time) < 1e-6:\n",
    "        return\n",
    "    clear_output()\n",
    "    print('Epochs completed:  ', len(error_evolution))\n",
    "    print('Error:             ', total_error / num_batches)\n",
    "    print('Time per batch:    ', total_time  / num_batches)\n",
    "    print('Words per second:  ', num_words   / total_time )\n",
    "    print('Batches processed: ', num_batches)\n",
    "    if hasattr(solver, 'step_size'):\n",
    "        print('Solver step size:  ', solver.step_size)\n",
    "    show_reconstructions(model, example)\n",
    "    sys.stdout.flush()\n",
    "    \n",
    "\n",
    "batch_end_time, batch_start_time = None, None\n",
    "\n",
    "while True:\n",
    "    if len(error_evolution) > 40:\n",
    "        break\n",
    "        \n",
    "    #if len(error_evolution) >= 5 and hasattr(solver, 'step_size'):\n",
    "    #solver.step_size = solver.step_size / 1.5\n",
    "        \n",
    "    for batch in data:    \n",
    "        example_pair = random.choice(batch.sentence_pairs)\n",
    "        report(example_pair) \n",
    "            \n",
    "        batch_start_time = time.time()\n",
    "        error = model.error(batch)\n",
    "\n",
    "        (error / batch.examples).grad()\n",
    "        D.Graph.backward()\n",
    "        solver.step(params)\n",
    "        batch_end_time = time.time()\n",
    "\n",
    "        epoch_error.append(error.w[0,0] / batch.to_tokens)\n",
    "        \n",
    "        total_error   += error.w[0, 0] / batch.to_tokens\n",
    "        total_time += batch_end_time - batch_start_time\n",
    "\n",
    "        num_words   += batch.from_tokens + batch.to_tokens\n",
    "        num_targets += batch.from_tokens + batch.to_tokens\n",
    "        num_batches += 1\n",
    "\n",
    "        # free memory as soon as possible\n",
    "        del batch\n",
    "\n",
    "    if len(epoch_error) > 0:\n",
    "        epoch_error = subsample(epoch_error, maximum_length=1000)\n",
    "        error_evolution.append(epoch_error)\n",
    "        epoch_error = []\n",
    "        pickle_globals(\"/home/sidor/tmp/translation_exp/epoch_%d\" % (len(error_evolution),),\n",
    "                       [\"model\", \"vocabs\", \"solver\", \"data\", \"error_evolution\", \"epoch_error\"])\n",
    "            \n",
    "    data = create_dataset_iterator()"
   ]
  },
  {
   "cell_type": "code",
   "execution_count": 14,
   "metadata": {
    "collapsed": false
   },
   "outputs": [],
   "source": [
    "pickle_globals(\"/home/sidor/tmp/translation_big_lr\", [\"model\", \"vocabs\", \"solver\", \"data\", \"error_evolution\"])"
   ]
  },
  {
   "cell_type": "code",
   "execution_count": 9,
   "metadata": {
    "collapsed": false
   },
   "outputs": [
    {
     "data": {
      "text/plain": [
       "[<matplotlib.lines.Line2D at 0x7ff217acfb38>]"
      ]
     },
     "execution_count": 9,
     "metadata": {},
     "output_type": "execute_result"
    },
    {
     "data": {
      "image/png": "[encoded data removed]",
      "text/plain": [
       "<matplotlib.figure.Figure at 0x7ff208f96be0>"
      ]
     },
     "metadata": {},
     "output_type": "display_data"
    }
   ],
   "source": [
    "def flatten_error():\n",
    "    x = []\n",
    "    y = []\n",
    "    for epoch_no, error_epoch in enumerate(error_evolution):\n",
    "        x.extend(float(epoch_no) + float(t) / len(error_epoch) for t in range(len(error_epoch)))\n",
    "        y.extend(error_epoch)\n",
    "        \n",
    "    y = median_smoothing(y, 30)\n",
    "    x = x[:len(y)]\n",
    "    return x,y\n",
    "    \n",
    "plt.plot(*flatten_error())"
   ]
  },
  {
   "cell_type": "code",
   "execution_count": 13,
   "metadata": {
    "collapsed": false
   },
   "outputs": [
    {
     "data": {
      "text/plain": [
       "[<matplotlib.lines.Line2D at 0x7f631a351470>]"
      ]
     },
     "execution_count": 13,
     "metadata": {},
     "output_type": "execute_result"
    },
    {
     "data": {
      "image/png": "[encoded data removed]",
      "text/plain": [
       "<matplotlib.figure.Figure at 0x7f631a01b7f0>"
      ]
     },
     "metadata": {},
     "output_type": "display_data"
    }
   ],
   "source": [
    "# 0.02 learning rate Jonathan's weights, divide by 1.5 every epoch (starting at fifth)"
   ]
  },
  {
   "cell_type": "code",
   "execution_count": 575,
   "metadata": {
    "collapsed": false
   },
   "outputs": [
    {
     "data": {
      "text/plain": [
       "[<matplotlib.lines.Line2D at 0x7fc3e254b0f0>]"
      ]
     },
     "execution_count": 575,
     "metadata": {},
     "output_type": "execute_result"
    },
    {
     "data": {
      "image/png": "[encoded data removed]",
      "text/plain": [
       "<matplotlib.figure.Figure at 0x7fc3e2829c88>"
      ]
     },
     "metadata": {},
     "output_type": "display_data"
    }
   ],
   "source": [
    "# 0.3 learning rate Jonathan's weights, divide by 2 every epoch "
   ]
  },
  {
   "cell_type": "code",
   "execution_count": 559,
   "metadata": {
    "collapsed": false
   },
   "outputs": [
    {
     "data": {
      "text/plain": [
       "[<matplotlib.lines.Line2D at 0x7fc3e263eb38>]"
      ]
     },
     "execution_count": 559,
     "metadata": {},
     "output_type": "execute_result"
    },
    {
     "data": {
      "image/png": "[encoded data removed]",
      "text/plain": [
       "<matplotlib.figure.Figure at 0x7fc3e2654160>"
      ]
     },
     "metadata": {},
     "output_type": "display_data"
    }
   ],
   "source": [
    "# 0.03 learning rate Jonathan weights"
   ]
  },
  {
   "cell_type": "code",
   "execution_count": 553,
   "metadata": {
    "collapsed": false
   },
   "outputs": [
    {
     "data": {
      "text/plain": [
       "[<matplotlib.lines.Line2D at 0x7fc3e264f240>]"
      ]
     },
     "execution_count": 553,
     "metadata": {},
     "output_type": "execute_result"
    },
    {
     "data": {
      "image/png": "[encoded data removed]",
      "text/plain": [
       "<matplotlib.figure.Figure at 0x7fc3e2729240>"
      ]
     },
     "metadata": {},
     "output_type": "display_data"
    }
   ],
   "source": [
    "# 0.03 learning rate Jonathan weights"
   ]
  },
  {
   "cell_type": "code",
   "execution_count": 547,
   "metadata": {
    "collapsed": false
   },
   "outputs": [
    {
     "data": {
      "text/plain": [
       "[<matplotlib.lines.Line2D at 0x7fc3e26e61d0>]"
      ]
     },
     "execution_count": 547,
     "metadata": {},
     "output_type": "execute_result"
    },
    {
     "data": {
      "image/png": "[encoded data removed]",
      "text/plain": [
       "<matplotlib.figure.Figure at 0x7fc3e2741b00>"
      ]
     },
     "metadata": {},
     "output_type": "display_data"
    }
   ],
   "source": [
    "# 0.3 learning rate Jonathan weights"
   ]
  },
  {
   "cell_type": "code",
   "execution_count": 541,
   "metadata": {
    "collapsed": false
   },
   "outputs": [
    {
     "data": {
      "text/plain": [
       "[<matplotlib.lines.Line2D at 0x7fc3e2776828>]"
      ]
     },
     "execution_count": 541,
     "metadata": {},
     "output_type": "execute_result"
    },
    {
     "data": {
      "image/png": "[encoded data removed]",
      "text/plain": [
       "<matplotlib.figure.Figure at 0x7fc3e279f940>"
      ]
     },
     "metadata": {},
     "output_type": "display_data"
    }
   ],
   "source": [
    "# 0.3 learning rate, torch weight init"
   ]
  },
  {
   "cell_type": "code",
   "execution_count": 431,
   "metadata": {
    "collapsed": false
   },
   "outputs": [
    {
     "data": {
      "text/plain": [
       "[<matplotlib.lines.Line2D at 0x7fc3e3081a58>]"
      ]
     },
     "execution_count": 431,
     "metadata": {},
     "output_type": "execute_result"
    },
    {
     "data": {
      "image/png": "[encoded data removed]",
      "text/plain": [
       "<matplotlib.figure.Figure at 0x7fc3e298d550>"
      ]
     },
     "metadata": {},
     "output_type": "display_data"
    }
   ],
   "source": [
    "r= epoch_error#median_smoothing(epoch_error, window=500)\n",
    "\n",
    "plt.plot(range(len(r)), r)"
   ]
  },
  {
   "cell_type": "code",
   "execution_count": 19,
   "metadata": {
    "collapsed": false
   },
   "outputs": [
    {
     "data": {
      "text/plain": [
       "[<matplotlib.lines.Line2D at 0x7f64f97f61d0>]"
      ]
     },
     "execution_count": 19,
     "metadata": {},
     "output_type": "execute_result"
    },
    {
     "data": {
      "image/png": "[encoded data removed]",
      "text/plain": [
       "<matplotlib.figure.Figure at 0x7f64f98f3630>"
      ]
     },
     "metadata": {},
     "output_type": "display_data"
    }
   ],
   "source": [
    "plt.plot(range(len(epoch_error)), epoch_error)"
   ]
  },
  {
   "cell_type": "code",
   "execution_count": null,
   "metadata": {
    "collapsed": true
   },
   "outputs": [],
   "source": []
  }
 ],
 "metadata": {
  "kernelspec": {
   "display_name": "Python 3",
   "language": "python",
   "name": "python3"
  },
  "language_info": {
   "codemirror_mode": {
    "name": "ipython",
    "version": 3
   },
   "file_extension": ".py",
   "mimetype": "text/x-python",
   "name": "python",
   "nbconvert_exporter": "python",
   "pygments_lexer": "ipython3",
   "version": "3.4.1"
  }
 },
 "nbformat": 4,
 "nbformat_minor": 0
}
