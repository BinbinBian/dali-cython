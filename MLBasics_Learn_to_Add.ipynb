{
 "cells": [
  {
   "cell_type": "code",
   "execution_count": 1,
   "metadata": {
    "collapsed": false
   },
   "outputs": [],
   "source": [
    "from test_dali import Mat, random, MatOps"
   ]
  },
  {
   "cell_type": "code",
   "execution_count": 2,
   "metadata": {
    "collapsed": true
   },
   "outputs": [],
   "source": [
    "num_examples = 100\n",
    "example_size = 3\n",
    "iterations   = 150\n",
    "lr           = 0.01"
   ]
  },
  {
   "cell_type": "code",
   "execution_count": 3,
   "metadata": {
    "collapsed": false
   },
   "outputs": [],
   "source": [
    "X = random.uniform(\n",
    "    0.0,\n",
    "    1.0 / example_size,\n",
    "    size=(num_examples, example_size)\n",
    ")\n",
    "ones = MatOps.fill(Mat.empty((X.shape[1], 1)), 1)\n",
    "Y = X.dot(ones)\n",
    "\n",
    "X = MatOps.consider_constant(X)\n",
    "Y = MatOps.consider_constant(Y)\n",
    "\n",
    "W = random.uniform(-1.0, 1.0, (example_size, 1))"
   ]
  },
  {
   "cell_type": "code",
   "execution_count": null,
   "metadata": {
    "collapsed": true
   },
   "outputs": [],
   "source": []
  }
 ],
 "metadata": {
  "kernelspec": {
   "display_name": "Python 3",
   "language": "python",
   "name": "python3"
  },
  "language_info": {
   "codemirror_mode": {
    "name": "ipython",
    "version": 3
   },
   "file_extension": ".py",
   "mimetype": "text/x-python",
   "name": "python",
   "nbconvert_exporter": "python",
   "pygments_lexer": "ipython3",
   "version": "3.4.3"
  }
 },
 "nbformat": 4,
 "nbformat_minor": 0
}
